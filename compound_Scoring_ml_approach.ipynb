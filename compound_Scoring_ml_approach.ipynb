{
 "cells": [
  {
   "cell_type": "code",
   "execution_count": 7,
   "id": "56baa820-5fbd-4a45-85a6-ab549495c724",
   "metadata": {},
   "outputs": [
    {
     "name": "stdout",
     "output_type": "stream",
     "text": [
      "Requirement already satisfied: web3 in c:\\users\\nazara parween\\anaconda3\\lib\\site-packages (7.12.1)\n",
      "Requirement already satisfied: requests in c:\\users\\nazara parween\\anaconda3\\lib\\site-packages (2.31.0)\n",
      "Requirement already satisfied: pandas in c:\\users\\nazara parween\\anaconda3\\lib\\site-packages (2.1.4)\n",
      "Requirement already satisfied: tqdm in c:\\users\\nazara parween\\anaconda3\\lib\\site-packages (4.65.0)\n",
      "Requirement already satisfied: eth-abi>=5.0.1 in c:\\users\\nazara parween\\anaconda3\\lib\\site-packages (from web3) (5.2.0)\n",
      "Requirement already satisfied: eth-account>=0.13.6 in c:\\users\\nazara parween\\anaconda3\\lib\\site-packages (from web3) (0.13.7)\n",
      "Requirement already satisfied: eth-hash>=0.5.1 in c:\\users\\nazara parween\\anaconda3\\lib\\site-packages (from eth-hash[pycryptodome]>=0.5.1->web3) (0.7.1)\n",
      "Requirement already satisfied: eth-typing>=5.0.0 in c:\\users\\nazara parween\\anaconda3\\lib\\site-packages (from web3) (5.2.1)\n",
      "Requirement already satisfied: eth-utils>=5.0.0 in c:\\users\\nazara parween\\anaconda3\\lib\\site-packages (from web3) (5.3.0)\n",
      "Requirement already satisfied: hexbytes>=1.2.0 in c:\\users\\nazara parween\\anaconda3\\lib\\site-packages (from web3) (1.3.1)\n",
      "Requirement already satisfied: aiohttp>=3.7.4.post0 in c:\\users\\nazara parween\\anaconda3\\lib\\site-packages (from web3) (3.9.3)\n",
      "Requirement already satisfied: pydantic>=2.4.0 in c:\\users\\nazara parween\\anaconda3\\lib\\site-packages (from web3) (2.11.7)\n",
      "Requirement already satisfied: pywin32>=223 in c:\\users\\nazara parween\\anaconda3\\lib\\site-packages (from web3) (305.1)\n",
      "Requirement already satisfied: typing-extensions>=4.0.1 in c:\\users\\nazara parween\\anaconda3\\lib\\site-packages (from web3) (4.14.1)\n",
      "Requirement already satisfied: types-requests>=2.0.0 in c:\\users\\nazara parween\\anaconda3\\lib\\site-packages (from web3) (2.32.4.20250611)\n",
      "Requirement already satisfied: websockets<16.0.0,>=10.0.0 in c:\\users\\nazara parween\\anaconda3\\lib\\site-packages (from web3) (15.0.1)\n",
      "Requirement already satisfied: pyunormalize>=15.0.0 in c:\\users\\nazara parween\\anaconda3\\lib\\site-packages (from web3) (16.0.0)\n",
      "Requirement already satisfied: charset-normalizer<4,>=2 in c:\\users\\nazara parween\\anaconda3\\lib\\site-packages (from requests) (2.0.4)\n",
      "Requirement already satisfied: idna<4,>=2.5 in c:\\users\\nazara parween\\anaconda3\\lib\\site-packages (from requests) (3.4)\n",
      "Requirement already satisfied: urllib3<3,>=1.21.1 in c:\\users\\nazara parween\\anaconda3\\lib\\site-packages (from requests) (2.0.7)\n",
      "Requirement already satisfied: certifi>=2017.4.17 in c:\\users\\nazara parween\\anaconda3\\lib\\site-packages (from requests) (2024.2.2)\n",
      "Requirement already satisfied: numpy<2,>=1.23.2 in c:\\users\\nazara parween\\anaconda3\\lib\\site-packages (from pandas) (1.26.4)\n",
      "Requirement already satisfied: python-dateutil>=2.8.2 in c:\\users\\nazara parween\\anaconda3\\lib\\site-packages (from pandas) (2.8.2)\n",
      "Requirement already satisfied: pytz>=2020.1 in c:\\users\\nazara parween\\anaconda3\\lib\\site-packages (from pandas) (2023.3.post1)\n",
      "Requirement already satisfied: tzdata>=2022.1 in c:\\users\\nazara parween\\anaconda3\\lib\\site-packages (from pandas) (2023.3)\n",
      "Requirement already satisfied: colorama in c:\\users\\nazara parween\\anaconda3\\lib\\site-packages (from tqdm) (0.4.6)\n",
      "Requirement already satisfied: aiosignal>=1.1.2 in c:\\users\\nazara parween\\anaconda3\\lib\\site-packages (from aiohttp>=3.7.4.post0->web3) (1.2.0)\n",
      "Requirement already satisfied: attrs>=17.3.0 in c:\\users\\nazara parween\\anaconda3\\lib\\site-packages (from aiohttp>=3.7.4.post0->web3) (23.1.0)\n",
      "Requirement already satisfied: frozenlist>=1.1.1 in c:\\users\\nazara parween\\anaconda3\\lib\\site-packages (from aiohttp>=3.7.4.post0->web3) (1.4.0)\n",
      "Requirement already satisfied: multidict<7.0,>=4.5 in c:\\users\\nazara parween\\anaconda3\\lib\\site-packages (from aiohttp>=3.7.4.post0->web3) (6.0.4)\n",
      "Requirement already satisfied: yarl<2.0,>=1.0 in c:\\users\\nazara parween\\anaconda3\\lib\\site-packages (from aiohttp>=3.7.4.post0->web3) (1.9.3)\n",
      "Requirement already satisfied: parsimonious<0.11.0,>=0.10.0 in c:\\users\\nazara parween\\anaconda3\\lib\\site-packages (from eth-abi>=5.0.1->web3) (0.10.0)\n",
      "Requirement already satisfied: bitarray>=2.4.0 in c:\\users\\nazara parween\\anaconda3\\lib\\site-packages (from eth-account>=0.13.6->web3) (3.5.2)\n",
      "Requirement already satisfied: eth-keyfile<0.9.0,>=0.7.0 in c:\\users\\nazara parween\\anaconda3\\lib\\site-packages (from eth-account>=0.13.6->web3) (0.8.1)\n",
      "Requirement already satisfied: eth-keys>=0.4.0 in c:\\users\\nazara parween\\anaconda3\\lib\\site-packages (from eth-account>=0.13.6->web3) (0.7.0)\n",
      "Requirement already satisfied: eth-rlp>=2.1.0 in c:\\users\\nazara parween\\anaconda3\\lib\\site-packages (from eth-account>=0.13.6->web3) (2.2.0)\n",
      "Requirement already satisfied: rlp>=1.0.0 in c:\\users\\nazara parween\\anaconda3\\lib\\site-packages (from eth-account>=0.13.6->web3) (4.1.0)\n",
      "Requirement already satisfied: ckzg>=2.0.0 in c:\\users\\nazara parween\\anaconda3\\lib\\site-packages (from eth-account>=0.13.6->web3) (2.1.1)\n",
      "Requirement already satisfied: pycryptodome<4,>=3.6.6 in c:\\users\\nazara parween\\anaconda3\\lib\\site-packages (from eth-hash[pycryptodome]>=0.5.1->web3) (3.23.0)\n",
      "Requirement already satisfied: cytoolz>=0.10.1 in c:\\users\\nazara parween\\anaconda3\\lib\\site-packages (from eth-utils>=5.0.0->web3) (0.12.2)\n",
      "Requirement already satisfied: annotated-types>=0.6.0 in c:\\users\\nazara parween\\anaconda3\\lib\\site-packages (from pydantic>=2.4.0->web3) (0.7.0)\n",
      "Requirement already satisfied: pydantic-core==2.33.2 in c:\\users\\nazara parween\\anaconda3\\lib\\site-packages (from pydantic>=2.4.0->web3) (2.33.2)\n",
      "Requirement already satisfied: typing-inspection>=0.4.0 in c:\\users\\nazara parween\\anaconda3\\lib\\site-packages (from pydantic>=2.4.0->web3) (0.4.1)\n",
      "Requirement already satisfied: six>=1.5 in c:\\users\\nazara parween\\anaconda3\\lib\\site-packages (from python-dateutil>=2.8.2->pandas) (1.16.0)\n",
      "Requirement already satisfied: toolz>=0.8.0 in c:\\users\\nazara parween\\anaconda3\\lib\\site-packages (from cytoolz>=0.10.1->eth-utils>=5.0.0->web3) (0.12.0)\n",
      "Requirement already satisfied: regex>=2022.3.15 in c:\\users\\nazara parween\\anaconda3\\lib\\site-packages (from parsimonious<0.11.0,>=0.10.0->eth-abi>=5.0.1->web3) (2023.10.3)\n"
     ]
    }
   ],
   "source": [
    "!pip install web3 requests pandas tqdm\n",
    "\n",
    "import pandas as pd\n",
    "import requests\n",
    "from tqdm import tqdm\n",
    "from web3 import Web3\n"
   ]
  },
  {
   "cell_type": "code",
   "execution_count": 8,
   "id": "d87240e1-b05b-4ab2-8667-91f88cd2675f",
   "metadata": {},
   "outputs": [
    {
     "data": {
      "text/plain": [
       "['0x0039f22efb07a647557c7c5d17854cfd6d489ef3',\n",
       " '0x06b51c6882b27cb05e712185531c1f74996dd988',\n",
       " '0x0795732aacc448030ef374374eaae57d2965c16c',\n",
       " '0x0aaa79f1a86bc8136cd0d1ca0d51964f4e3766f9',\n",
       " '0x0fe383e5abc200055a7f391f94a5f5d1f844b9ae']"
      ]
     },
     "execution_count": 8,
     "metadata": {},
     "output_type": "execute_result"
    }
   ],
   "source": [
    "wallets_df = pd.read_csv(\"Wallet id.csv\")\n",
    "wallets = wallets_df['wallet_id'].tolist()\n",
    "wallets[:5]  \n"
   ]
  },
  {
   "cell_type": "code",
   "execution_count": 9,
   "id": "de7ed292-b9a8-4c59-a53e-f143b8a6c720",
   "metadata": {},
   "outputs": [],
   "source": [
    "COMPOUND_SUBGRAPH_URL = \"https://api.thegraph.com/subgraphs/name/graphprotocol/compound-v2\"\n"
   ]
  },
  {
   "cell_type": "code",
   "execution_count": 10,
   "id": "1187b8e2-775d-492a-a217-27cd558d631c",
   "metadata": {},
   "outputs": [],
   "source": [
    "def query_subgraph(query):\n",
    "    response = requests.post(COMPOUND_SUBGRAPH_URL, json={'query': query})\n",
    "    try:\n",
    "        json_data = response.json()\n",
    "    except ValueError:\n",
    "        raise Exception(f\"Non-JSON response: {response.text}\")\n",
    "\n",
    "    if 'errors' in json_data:\n",
    "        raise Exception(f\"GraphQL Error: {json_data['errors']}\")\n",
    "    if 'data' not in json_data:\n",
    "        raise Exception(f\"'data' field missing in response: {json_data}\")\n",
    "    return json_data\n"
   ]
  },
  {
   "cell_type": "code",
   "execution_count": 11,
   "id": "b9961f8f-2c30-4cf4-86f0-7672865f17d2",
   "metadata": {},
   "outputs": [],
   "source": [
    "def get_wallet_data(wallet):\n",
    "    query = f\"\"\"\n",
    "    {{\n",
    "      account(id: \"{wallet.lower()}\") {{\n",
    "        id\n",
    "        tokens {{\n",
    "          symbol\n",
    "          supplyBalanceUnderlying\n",
    "          borrowBalanceUnderlying\n",
    "        }}\n",
    "        totalBorrowValueInEth\n",
    "        totalCollateralValueInEth\n",
    "        health\n",
    "      }}\n",
    "    }}\n",
    "    \"\"\"\n",
    "    try:\n",
    "        result = query_subgraph(query)\n",
    "        acc = result[\"data\"][\"account\"]\n",
    "        if not acc:\n",
    "            return {\n",
    "                \"wallet_id\": wallet,\n",
    "                \"borrow_eth\": 0,\n",
    "                \"collateral_eth\": 0,\n",
    "                \"health\": 0,\n",
    "                \"supplied_assets\": 0,\n",
    "                \"borrowed_assets\": 0,\n",
    "            }\n",
    "\n",
    "        tokens = acc[\"tokens\"]\n",
    "        return {\n",
    "            \"wallet_id\": wallet,\n",
    "            \"borrow_eth\": float(acc.get(\"totalBorrowValueInEth\", 0)),\n",
    "            \"collateral_eth\": float(acc.get(\"totalCollateralValueInEth\", 0)),\n",
    "            \"health\": float(acc.get(\"health\", 0)),\n",
    "            \"supplied_assets\": sum(float(t[\"supplyBalanceUnderlying\"]) for t in tokens),\n",
    "            \"borrowed_assets\": sum(float(t[\"borrowBalanceUnderlying\"]) for t in tokens),\n",
    "        }\n",
    "\n",
    "    except Exception as e:\n",
    "        print(f\"Error for wallet {wallet}: {e}\")\n",
    "        return {\n",
    "            \"wallet_id\": wallet,\n",
    "            \"borrow_eth\": 0,\n",
    "            \"collateral_eth\": 0,\n",
    "            \"health\": 0,\n",
    "            \"supplied_assets\": 0,\n",
    "            \"borrowed_assets\": 0,\n",
    "        }\n"
   ]
  },
  {
   "cell_type": "code",
   "execution_count": 12,
   "id": "bd84bb6c-db76-4239-8437-f2a1fd174f6d",
   "metadata": {},
   "outputs": [
    {
     "name": "stderr",
     "output_type": "stream",
     "text": [
      "  1%|▊                                                                                 | 1/103 [00:02<03:55,  2.31s/it]"
     ]
    },
    {
     "name": "stdout",
     "output_type": "stream",
     "text": [
      "Error for wallet 0x0039f22efb07a647557c7c5d17854cfd6d489ef3: GraphQL Error: [{'message': 'This endpoint has been removed. If you have any questions, reach out to support@thegraph.zendesk.com'}]\n"
     ]
    },
    {
     "name": "stderr",
     "output_type": "stream",
     "text": [
      "  2%|█▌                                                                                | 2/103 [00:03<03:05,  1.84s/it]"
     ]
    },
    {
     "name": "stdout",
     "output_type": "stream",
     "text": [
      "Error for wallet 0x06b51c6882b27cb05e712185531c1f74996dd988: GraphQL Error: [{'message': 'This endpoint has been removed. If you have any questions, reach out to support@thegraph.zendesk.com'}]\n"
     ]
    },
    {
     "name": "stderr",
     "output_type": "stream",
     "text": [
      "  3%|██▍                                                                               | 3/103 [00:05<02:44,  1.65s/it]"
     ]
    },
    {
     "name": "stdout",
     "output_type": "stream",
     "text": [
      "Error for wallet 0x0795732aacc448030ef374374eaae57d2965c16c: GraphQL Error: [{'message': 'This endpoint has been removed. If you have any questions, reach out to support@thegraph.zendesk.com'}]\n"
     ]
    },
    {
     "name": "stderr",
     "output_type": "stream",
     "text": [
      "  4%|███▏                                                                              | 4/103 [00:07<02:59,  1.81s/it]"
     ]
    },
    {
     "name": "stdout",
     "output_type": "stream",
     "text": [
      "Error for wallet 0x0aaa79f1a86bc8136cd0d1ca0d51964f4e3766f9: GraphQL Error: [{'message': 'This endpoint has been removed. If you have any questions, reach out to support@thegraph.zendesk.com'}]\n"
     ]
    },
    {
     "name": "stderr",
     "output_type": "stream",
     "text": [
      "  5%|███▉                                                                              | 5/103 [00:08<02:51,  1.75s/it]"
     ]
    },
    {
     "name": "stdout",
     "output_type": "stream",
     "text": [
      "Error for wallet 0x0fe383e5abc200055a7f391f94a5f5d1f844b9ae: GraphQL Error: [{'message': 'This endpoint has been removed. If you have any questions, reach out to support@thegraph.zendesk.com'}]\n"
     ]
    },
    {
     "name": "stderr",
     "output_type": "stream",
     "text": [
      "  6%|████▊                                                                             | 6/103 [00:10<02:51,  1.77s/it]"
     ]
    },
    {
     "name": "stdout",
     "output_type": "stream",
     "text": [
      "Error for wallet 0x104ae61d8d487ad689969a17807ddc338b445416: GraphQL Error: [{'message': 'This endpoint has been removed. If you have any questions, reach out to support@thegraph.zendesk.com'}]\n"
     ]
    },
    {
     "name": "stderr",
     "output_type": "stream",
     "text": [
      "  7%|█████▌                                                                            | 7/103 [00:12<02:52,  1.80s/it]"
     ]
    },
    {
     "name": "stdout",
     "output_type": "stream",
     "text": [
      "Error for wallet 0x111c7208a7e2af345d36b6d4aace8740d61a3078: GraphQL Error: [{'message': 'This endpoint has been removed. If you have any questions, reach out to support@thegraph.zendesk.com'}]\n"
     ]
    },
    {
     "name": "stderr",
     "output_type": "stream",
     "text": [
      "  8%|██████▎                                                                           | 8/103 [00:14<02:51,  1.81s/it]"
     ]
    },
    {
     "name": "stdout",
     "output_type": "stream",
     "text": [
      "Error for wallet 0x124853fecb522c57d9bd5c21231058696ca6d596: GraphQL Error: [{'message': 'This endpoint has been removed. If you have any questions, reach out to support@thegraph.zendesk.com'}]\n"
     ]
    },
    {
     "name": "stderr",
     "output_type": "stream",
     "text": [
      "  9%|███████▏                                                                          | 9/103 [00:15<02:40,  1.71s/it]"
     ]
    },
    {
     "name": "stdout",
     "output_type": "stream",
     "text": [
      "Error for wallet 0x13b1c8b0e696aff8b4fee742119b549b605f3cbc: GraphQL Error: [{'message': 'This endpoint has been removed. If you have any questions, reach out to support@thegraph.zendesk.com'}]\n"
     ]
    },
    {
     "name": "stderr",
     "output_type": "stream",
     "text": [
      " 10%|███████▊                                                                         | 10/103 [00:17<02:34,  1.66s/it]"
     ]
    },
    {
     "name": "stdout",
     "output_type": "stream",
     "text": [
      "Error for wallet 0x1656f1886c5ab634ac19568cd571bc72f385fdf7: GraphQL Error: [{'message': 'This endpoint has been removed. If you have any questions, reach out to support@thegraph.zendesk.com'}]\n"
     ]
    },
    {
     "name": "stderr",
     "output_type": "stream",
     "text": [
      " 11%|████████▋                                                                        | 11/103 [00:18<02:25,  1.58s/it]"
     ]
    },
    {
     "name": "stdout",
     "output_type": "stream",
     "text": [
      "Error for wallet 0x1724e16cb8d0e2aa4d08035bc6b5c56b680a3b22: GraphQL Error: [{'message': 'This endpoint has been removed. If you have any questions, reach out to support@thegraph.zendesk.com'}]\n"
     ]
    },
    {
     "name": "stderr",
     "output_type": "stream",
     "text": [
      " 12%|█████████▍                                                                       | 12/103 [00:20<02:19,  1.53s/it]"
     ]
    },
    {
     "name": "stdout",
     "output_type": "stream",
     "text": [
      "Error for wallet 0x19df3e87f73c4aaf4809295561465b993e102668: GraphQL Error: [{'message': 'This endpoint has been removed. If you have any questions, reach out to support@thegraph.zendesk.com'}]\n"
     ]
    },
    {
     "name": "stderr",
     "output_type": "stream",
     "text": [
      " 13%|██████████▏                                                                      | 13/103 [00:21<02:14,  1.49s/it]"
     ]
    },
    {
     "name": "stdout",
     "output_type": "stream",
     "text": [
      "Error for wallet 0x1ab2ccad4fc97c9968ea87d4435326715be32872: GraphQL Error: [{'message': 'This endpoint has been removed. If you have any questions, reach out to support@thegraph.zendesk.com'}]\n"
     ]
    },
    {
     "name": "stderr",
     "output_type": "stream",
     "text": [
      " 14%|███████████                                                                      | 14/103 [00:23<02:10,  1.46s/it]"
     ]
    },
    {
     "name": "stdout",
     "output_type": "stream",
     "text": [
      "Error for wallet 0x1c1b30ca93ef57452d53885d97a74f61daf2bf4f: GraphQL Error: [{'message': 'This endpoint has been removed. If you have any questions, reach out to support@thegraph.zendesk.com'}]\n"
     ]
    },
    {
     "name": "stderr",
     "output_type": "stream",
     "text": [
      " 15%|███████████▊                                                                     | 15/103 [00:24<02:06,  1.44s/it]"
     ]
    },
    {
     "name": "stdout",
     "output_type": "stream",
     "text": [
      "Error for wallet 0x1e43dacdcf863676a6bec8f7d6896d6252fac669: GraphQL Error: [{'message': 'This endpoint has been removed. If you have any questions, reach out to support@thegraph.zendesk.com'}]\n"
     ]
    },
    {
     "name": "stderr",
     "output_type": "stream",
     "text": [
      " 16%|████████████▌                                                                    | 16/103 [00:26<02:08,  1.47s/it]"
     ]
    },
    {
     "name": "stdout",
     "output_type": "stream",
     "text": [
      "Error for wallet 0x22d7510588d90ed5a87e0f838391aaafa707c34b: GraphQL Error: [{'message': 'This endpoint has been removed. If you have any questions, reach out to support@thegraph.zendesk.com'}]\n"
     ]
    },
    {
     "name": "stderr",
     "output_type": "stream",
     "text": [
      " 17%|█████████████▎                                                                   | 17/103 [00:27<02:15,  1.57s/it]"
     ]
    },
    {
     "name": "stdout",
     "output_type": "stream",
     "text": [
      "Error for wallet 0x24b3460622d835c56d9a4fe352966b9bdc6c20af: GraphQL Error: [{'message': 'This endpoint has been removed. If you have any questions, reach out to support@thegraph.zendesk.com'}]\n"
     ]
    },
    {
     "name": "stderr",
     "output_type": "stream",
     "text": [
      " 17%|██████████████▏                                                                  | 18/103 [00:30<02:48,  1.98s/it]"
     ]
    },
    {
     "name": "stdout",
     "output_type": "stream",
     "text": [
      "Error for wallet 0x26750f1f4277221bdb5f6991473c6ece8c821f9d: GraphQL Error: [{'message': 'This endpoint has been removed. If you have any questions, reach out to support@thegraph.zendesk.com'}]\n"
     ]
    },
    {
     "name": "stderr",
     "output_type": "stream",
     "text": [
      " 18%|██████████████▉                                                                  | 19/103 [00:32<02:39,  1.90s/it]"
     ]
    },
    {
     "name": "stdout",
     "output_type": "stream",
     "text": [
      "Error for wallet 0x27f72a000d8e9f324583f3a3491ea66998275b28: GraphQL Error: [{'message': 'This endpoint has been removed. If you have any questions, reach out to support@thegraph.zendesk.com'}]\n"
     ]
    },
    {
     "name": "stderr",
     "output_type": "stream",
     "text": [
      " 19%|███████████████▋                                                                 | 20/103 [00:34<02:29,  1.80s/it]"
     ]
    },
    {
     "name": "stdout",
     "output_type": "stream",
     "text": [
      "Error for wallet 0x2844658bf341db96aa247259824f42025e3bcec2: GraphQL Error: [{'message': 'This endpoint has been removed. If you have any questions, reach out to support@thegraph.zendesk.com'}]\n"
     ]
    },
    {
     "name": "stderr",
     "output_type": "stream",
     "text": [
      " 20%|████████████████▌                                                                | 21/103 [00:35<02:20,  1.71s/it]"
     ]
    },
    {
     "name": "stdout",
     "output_type": "stream",
     "text": [
      "Error for wallet 0x2a2fde3e1beb508fcf7c137a1d5965f13a17825e: GraphQL Error: [{'message': 'This endpoint has been removed. If you have any questions, reach out to support@thegraph.zendesk.com'}]\n"
     ]
    },
    {
     "name": "stderr",
     "output_type": "stream",
     "text": [
      " 21%|█████████████████▎                                                               | 22/103 [00:36<02:11,  1.62s/it]"
     ]
    },
    {
     "name": "stdout",
     "output_type": "stream",
     "text": [
      "Error for wallet 0x330513970efd9e8dd606275fb4c50378989b3204: GraphQL Error: [{'message': 'This endpoint has been removed. If you have any questions, reach out to support@thegraph.zendesk.com'}]\n"
     ]
    },
    {
     "name": "stderr",
     "output_type": "stream",
     "text": [
      " 22%|██████████████████                                                               | 23/103 [00:38<02:04,  1.56s/it]"
     ]
    },
    {
     "name": "stdout",
     "output_type": "stream",
     "text": [
      "Error for wallet 0x3361bea43c2f5f963f81ac70f64e6fba1f1d2a97: GraphQL Error: [{'message': 'This endpoint has been removed. If you have any questions, reach out to support@thegraph.zendesk.com'}]\n"
     ]
    },
    {
     "name": "stderr",
     "output_type": "stream",
     "text": [
      " 23%|██████████████████▊                                                              | 24/103 [00:39<01:59,  1.51s/it]"
     ]
    },
    {
     "name": "stdout",
     "output_type": "stream",
     "text": [
      "Error for wallet 0x3867d222ba91236ad4d12c31056626f9e798629c: GraphQL Error: [{'message': 'This endpoint has been removed. If you have any questions, reach out to support@thegraph.zendesk.com'}]\n"
     ]
    },
    {
     "name": "stderr",
     "output_type": "stream",
     "text": [
      " 24%|███████████████████▋                                                             | 25/103 [00:41<01:57,  1.51s/it]"
     ]
    },
    {
     "name": "stdout",
     "output_type": "stream",
     "text": [
      "Error for wallet 0x3a44be4581137019f83021eeee72b7dc57756069: GraphQL Error: [{'message': 'This endpoint has been removed. If you have any questions, reach out to support@thegraph.zendesk.com'}]\n"
     ]
    },
    {
     "name": "stderr",
     "output_type": "stream",
     "text": [
      " 25%|████████████████████▍                                                            | 26/103 [00:42<01:53,  1.48s/it]"
     ]
    },
    {
     "name": "stdout",
     "output_type": "stream",
     "text": [
      "Error for wallet 0x3e69ad05716bdc834db72c4d6d44439a7c8a902b: GraphQL Error: [{'message': 'This endpoint has been removed. If you have any questions, reach out to support@thegraph.zendesk.com'}]\n"
     ]
    },
    {
     "name": "stderr",
     "output_type": "stream",
     "text": [
      " 26%|█████████████████████▏                                                           | 27/103 [00:44<01:51,  1.46s/it]"
     ]
    },
    {
     "name": "stdout",
     "output_type": "stream",
     "text": [
      "Error for wallet 0x427f2ac5fdf4245e027d767e7c3ac272a1f40a65: GraphQL Error: [{'message': 'This endpoint has been removed. If you have any questions, reach out to support@thegraph.zendesk.com'}]\n"
     ]
    },
    {
     "name": "stderr",
     "output_type": "stream",
     "text": [
      " 27%|██████████████████████                                                           | 28/103 [00:45<01:47,  1.43s/it]"
     ]
    },
    {
     "name": "stdout",
     "output_type": "stream",
     "text": [
      "Error for wallet 0x4814be124d7fe3b240eb46061f7ddfab468fe122: GraphQL Error: [{'message': 'This endpoint has been removed. If you have any questions, reach out to support@thegraph.zendesk.com'}]\n"
     ]
    },
    {
     "name": "stderr",
     "output_type": "stream",
     "text": [
      " 28%|██████████████████████▊                                                          | 29/103 [00:47<01:53,  1.53s/it]"
     ]
    },
    {
     "name": "stdout",
     "output_type": "stream",
     "text": [
      "Error for wallet 0x4839e666e2baf12a51bf004392b35972eeddeabf: GraphQL Error: [{'message': 'This endpoint has been removed. If you have any questions, reach out to support@thegraph.zendesk.com'}]\n"
     ]
    },
    {
     "name": "stderr",
     "output_type": "stream",
     "text": [
      " 29%|███████████████████████▌                                                         | 30/103 [00:48<01:49,  1.50s/it]"
     ]
    },
    {
     "name": "stdout",
     "output_type": "stream",
     "text": [
      "Error for wallet 0x4c4d05fe859279c91b074429b5fc451182cec745: GraphQL Error: [{'message': 'This endpoint has been removed. If you have any questions, reach out to support@thegraph.zendesk.com'}]\n"
     ]
    },
    {
     "name": "stderr",
     "output_type": "stream",
     "text": [
      " 30%|████████████████████████▍                                                        | 31/103 [00:50<01:46,  1.47s/it]"
     ]
    },
    {
     "name": "stdout",
     "output_type": "stream",
     "text": [
      "Error for wallet 0x4d997c89bc659a3e8452038a8101161e7e7e53a7: GraphQL Error: [{'message': 'This endpoint has been removed. If you have any questions, reach out to support@thegraph.zendesk.com'}]\n"
     ]
    },
    {
     "name": "stderr",
     "output_type": "stream",
     "text": [
      " 31%|█████████████████████████▏                                                       | 32/103 [00:51<01:47,  1.51s/it]"
     ]
    },
    {
     "name": "stdout",
     "output_type": "stream",
     "text": [
      "Error for wallet 0x4db0a72edb5ea6c55df929f76e7d5bb14e389860: GraphQL Error: [{'message': 'This endpoint has been removed. If you have any questions, reach out to support@thegraph.zendesk.com'}]\n"
     ]
    },
    {
     "name": "stderr",
     "output_type": "stream",
     "text": [
      " 32%|█████████████████████████▉                                                       | 33/103 [00:53<01:44,  1.49s/it]"
     ]
    },
    {
     "name": "stdout",
     "output_type": "stream",
     "text": [
      "Error for wallet 0x4e61251336c32e4fe6bfd5fab014846599321389: GraphQL Error: [{'message': 'This endpoint has been removed. If you have any questions, reach out to support@thegraph.zendesk.com'}]\n"
     ]
    },
    {
     "name": "stderr",
     "output_type": "stream",
     "text": [
      " 33%|██████████████████████████▋                                                      | 34/103 [00:54<01:41,  1.47s/it]"
     ]
    },
    {
     "name": "stdout",
     "output_type": "stream",
     "text": [
      "Error for wallet 0x4e6e724f4163b24ffc7ffe662b5f6815b18b4210: GraphQL Error: [{'message': 'This endpoint has been removed. If you have any questions, reach out to support@thegraph.zendesk.com'}]\n"
     ]
    },
    {
     "name": "stderr",
     "output_type": "stream",
     "text": [
      " 34%|███████████████████████████▌                                                     | 35/103 [00:55<01:38,  1.44s/it]"
     ]
    },
    {
     "name": "stdout",
     "output_type": "stream",
     "text": [
      "Error for wallet 0x507b6c0d950702f066a9a1bd5e85206f87b065ba: GraphQL Error: [{'message': 'This endpoint has been removed. If you have any questions, reach out to support@thegraph.zendesk.com'}]\n"
     ]
    },
    {
     "name": "stderr",
     "output_type": "stream",
     "text": [
      " 35%|████████████████████████████▎                                                    | 36/103 [00:57<01:36,  1.44s/it]"
     ]
    },
    {
     "name": "stdout",
     "output_type": "stream",
     "text": [
      "Error for wallet 0x54e19653be9d4143b08994906be0e27555e8834d: GraphQL Error: [{'message': 'This endpoint has been removed. If you have any questions, reach out to support@thegraph.zendesk.com'}]\n"
     ]
    },
    {
     "name": "stderr",
     "output_type": "stream",
     "text": [
      " 36%|█████████████████████████████                                                    | 37/103 [00:58<01:33,  1.42s/it]"
     ]
    },
    {
     "name": "stdout",
     "output_type": "stream",
     "text": [
      "Error for wallet 0x56ba823641bfc317afc8459bf27feed6eb9ff59f: GraphQL Error: [{'message': 'This endpoint has been removed. If you have any questions, reach out to support@thegraph.zendesk.com'}]\n"
     ]
    },
    {
     "name": "stderr",
     "output_type": "stream",
     "text": [
      " 37%|█████████████████████████████▉                                                   | 38/103 [01:00<01:32,  1.42s/it]"
     ]
    },
    {
     "name": "stdout",
     "output_type": "stream",
     "text": [
      "Error for wallet 0x56cc2bffcb3f86a30c492f9d1a671a1f744d1d2f: GraphQL Error: [{'message': 'This endpoint has been removed. If you have any questions, reach out to support@thegraph.zendesk.com'}]\n"
     ]
    },
    {
     "name": "stderr",
     "output_type": "stream",
     "text": [
      " 38%|██████████████████████████████▋                                                  | 39/103 [01:01<01:32,  1.45s/it]"
     ]
    },
    {
     "name": "stdout",
     "output_type": "stream",
     "text": [
      "Error for wallet 0x578cea5f899b0dfbf05c7fbcfda1a644b2a47787: GraphQL Error: [{'message': 'This endpoint has been removed. If you have any questions, reach out to support@thegraph.zendesk.com'}]\n"
     ]
    },
    {
     "name": "stderr",
     "output_type": "stream",
     "text": [
      " 39%|███████████████████████████████▍                                                 | 40/103 [01:03<01:39,  1.58s/it]"
     ]
    },
    {
     "name": "stdout",
     "output_type": "stream",
     "text": [
      "Error for wallet 0x58c2a9099a03750e9842d3e9a7780cdd6aa70b86: GraphQL Error: [{'message': 'This endpoint has been removed. If you have any questions, reach out to support@thegraph.zendesk.com'}]\n"
     ]
    },
    {
     "name": "stderr",
     "output_type": "stream",
     "text": [
      " 40%|████████████████████████████████▏                                                | 41/103 [01:05<01:37,  1.58s/it]"
     ]
    },
    {
     "name": "stdout",
     "output_type": "stream",
     "text": [
      "Error for wallet 0x58d68d4bcf9725e40353379cec92b90332561683: GraphQL Error: [{'message': 'This endpoint has been removed. If you have any questions, reach out to support@thegraph.zendesk.com'}]\n"
     ]
    },
    {
     "name": "stderr",
     "output_type": "stream",
     "text": [
      " 41%|█████████████████████████████████                                                | 42/103 [01:06<01:34,  1.55s/it]"
     ]
    },
    {
     "name": "stdout",
     "output_type": "stream",
     "text": [
      "Error for wallet 0x5e324b4a564512ea7c93088dba2f8c1bf046a3eb: GraphQL Error: [{'message': 'This endpoint has been removed. If you have any questions, reach out to support@thegraph.zendesk.com'}]\n"
     ]
    },
    {
     "name": "stderr",
     "output_type": "stream",
     "text": [
      " 42%|█████████████████████████████████▊                                               | 43/103 [01:08<01:41,  1.69s/it]"
     ]
    },
    {
     "name": "stdout",
     "output_type": "stream",
     "text": [
      "Error for wallet 0x612a3500559be7be7703de6dc397afb541a16f7f: GraphQL Error: [{'message': 'This endpoint has been removed. If you have any questions, reach out to support@thegraph.zendesk.com'}]\n"
     ]
    },
    {
     "name": "stderr",
     "output_type": "stream",
     "text": [
      " 43%|██████████████████████████████████▌                                              | 44/103 [01:10<01:46,  1.81s/it]"
     ]
    },
    {
     "name": "stdout",
     "output_type": "stream",
     "text": [
      "Error for wallet 0x623af911f493747c216ad389c7805a37019c662d: GraphQL Error: [{'message': 'This endpoint has been removed. If you have any questions, reach out to support@thegraph.zendesk.com'}]\n"
     ]
    },
    {
     "name": "stderr",
     "output_type": "stream",
     "text": [
      " 44%|███████████████████████████████████▍                                             | 45/103 [01:12<01:38,  1.71s/it]"
     ]
    },
    {
     "name": "stdout",
     "output_type": "stream",
     "text": [
      "Error for wallet 0x6a2752a534faacaaa153bffbb973dd84e0e5497b: GraphQL Error: [{'message': 'This endpoint has been removed. If you have any questions, reach out to support@thegraph.zendesk.com'}]\n"
     ]
    },
    {
     "name": "stderr",
     "output_type": "stream",
     "text": [
      " 45%|████████████████████████████████████▏                                            | 46/103 [01:13<01:32,  1.61s/it]"
     ]
    },
    {
     "name": "stdout",
     "output_type": "stream",
     "text": [
      "Error for wallet 0x6d69ca3711e504658977367e13c300ab198379f1: GraphQL Error: [{'message': 'This endpoint has been removed. If you have any questions, reach out to support@thegraph.zendesk.com'}]\n"
     ]
    },
    {
     "name": "stderr",
     "output_type": "stream",
     "text": [
      " 46%|████████████████████████████████████▉                                            | 47/103 [01:15<01:28,  1.57s/it]"
     ]
    },
    {
     "name": "stdout",
     "output_type": "stream",
     "text": [
      "Error for wallet 0x6e355417f7f56e7927d1cd971f0b5a1e6d538487: GraphQL Error: [{'message': 'This endpoint has been removed. If you have any questions, reach out to support@thegraph.zendesk.com'}]\n"
     ]
    },
    {
     "name": "stderr",
     "output_type": "stream",
     "text": [
      " 47%|█████████████████████████████████████▋                                           | 48/103 [01:16<01:24,  1.54s/it]"
     ]
    },
    {
     "name": "stdout",
     "output_type": "stream",
     "text": [
      "Error for wallet 0x70c1864282599a762c674dd9d567b37e13bce755: GraphQL Error: [{'message': 'This endpoint has been removed. If you have any questions, reach out to support@thegraph.zendesk.com'}]\n"
     ]
    },
    {
     "name": "stderr",
     "output_type": "stream",
     "text": [
      " 48%|██████████████████████████████████████▌                                          | 49/103 [01:17<01:20,  1.49s/it]"
     ]
    },
    {
     "name": "stdout",
     "output_type": "stream",
     "text": [
      "Error for wallet 0x70d8e4ab175dfe0eab4e9a7f33e0a2d19f44001e: GraphQL Error: [{'message': 'This endpoint has been removed. If you have any questions, reach out to support@thegraph.zendesk.com'}]\n"
     ]
    },
    {
     "name": "stderr",
     "output_type": "stream",
     "text": [
      " 49%|███████████████████████████████████████▎                                         | 50/103 [01:19<01:18,  1.48s/it]"
     ]
    },
    {
     "name": "stdout",
     "output_type": "stream",
     "text": [
      "Error for wallet 0x7399dbeebe2f88bc6ac4e3fd7ddb836a4bce322f: GraphQL Error: [{'message': 'This endpoint has been removed. If you have any questions, reach out to support@thegraph.zendesk.com'}]\n"
     ]
    },
    {
     "name": "stderr",
     "output_type": "stream",
     "text": [
      " 50%|████████████████████████████████████████                                         | 51/103 [01:20<01:15,  1.45s/it]"
     ]
    },
    {
     "name": "stdout",
     "output_type": "stream",
     "text": [
      "Error for wallet 0x767055590c73b7d2aaa6219da13807c493f91a20: GraphQL Error: [{'message': 'This endpoint has been removed. If you have any questions, reach out to support@thegraph.zendesk.com'}]\n"
     ]
    },
    {
     "name": "stderr",
     "output_type": "stream",
     "text": [
      " 50%|████████████████████████████████████████▉                                        | 52/103 [01:22<01:14,  1.46s/it]"
     ]
    },
    {
     "name": "stdout",
     "output_type": "stream",
     "text": [
      "Error for wallet 0x7851bdfb64bbecfb40c030d722a1f147dff5db6a: GraphQL Error: [{'message': 'This endpoint has been removed. If you have any questions, reach out to support@thegraph.zendesk.com'}]\n"
     ]
    },
    {
     "name": "stderr",
     "output_type": "stream",
     "text": [
      " 51%|█████████████████████████████████████████▋                                       | 53/103 [01:23<01:11,  1.44s/it]"
     ]
    },
    {
     "name": "stdout",
     "output_type": "stream",
     "text": [
      "Error for wallet 0x7b4636320daa0bc055368a4f9b9d01bd8ac51877: GraphQL Error: [{'message': 'This endpoint has been removed. If you have any questions, reach out to support@thegraph.zendesk.com'}]\n"
     ]
    },
    {
     "name": "stderr",
     "output_type": "stream",
     "text": [
      " 52%|██████████████████████████████████████████▍                                      | 54/103 [01:24<01:09,  1.42s/it]"
     ]
    },
    {
     "name": "stdout",
     "output_type": "stream",
     "text": [
      "Error for wallet 0x7b57dbe2f2e4912a29754ff3e412ed9507fd8957: GraphQL Error: [{'message': 'This endpoint has been removed. If you have any questions, reach out to support@thegraph.zendesk.com'}]\n"
     ]
    },
    {
     "name": "stderr",
     "output_type": "stream",
     "text": [
      " 53%|███████████████████████████████████████████▎                                     | 55/103 [01:26<01:07,  1.41s/it]"
     ]
    },
    {
     "name": "stdout",
     "output_type": "stream",
     "text": [
      "Error for wallet 0x7be3dfb5b6fcbae542ea85e76cc19916a20f6c1e: GraphQL Error: [{'message': 'This endpoint has been removed. If you have any questions, reach out to support@thegraph.zendesk.com'}]\n"
     ]
    },
    {
     "name": "stderr",
     "output_type": "stream",
     "text": [
      " 54%|████████████████████████████████████████████                                     | 56/103 [01:27<01:06,  1.42s/it]"
     ]
    },
    {
     "name": "stdout",
     "output_type": "stream",
     "text": [
      "Error for wallet 0x7de76a449cf60ea3e111ff18b28e516d89532152: GraphQL Error: [{'message': 'This endpoint has been removed. If you have any questions, reach out to support@thegraph.zendesk.com'}]\n"
     ]
    },
    {
     "name": "stderr",
     "output_type": "stream",
     "text": [
      " 55%|████████████████████████████████████████████▊                                    | 57/103 [01:29<01:04,  1.41s/it]"
     ]
    },
    {
     "name": "stdout",
     "output_type": "stream",
     "text": [
      "Error for wallet 0x7e3eab408b9c76a13305ef34606f17c16f7b33cc: GraphQL Error: [{'message': 'This endpoint has been removed. If you have any questions, reach out to support@thegraph.zendesk.com'}]\n"
     ]
    },
    {
     "name": "stderr",
     "output_type": "stream",
     "text": [
      " 56%|█████████████████████████████████████████████▌                                   | 58/103 [01:30<01:03,  1.42s/it]"
     ]
    },
    {
     "name": "stdout",
     "output_type": "stream",
     "text": [
      "Error for wallet 0x7f5e6a28afc9fb0aaf4259d4ff69991b88ebea47: GraphQL Error: [{'message': 'This endpoint has been removed. If you have any questions, reach out to support@thegraph.zendesk.com'}]\n"
     ]
    },
    {
     "name": "stderr",
     "output_type": "stream",
     "text": [
      " 57%|██████████████████████████████████████████████▍                                  | 59/103 [01:32<01:02,  1.41s/it]"
     ]
    },
    {
     "name": "stdout",
     "output_type": "stream",
     "text": [
      "Error for wallet 0x83ea74c67d393c6894c34c464657bda2183a2f1a: GraphQL Error: [{'message': 'This endpoint has been removed. If you have any questions, reach out to support@thegraph.zendesk.com'}]\n"
     ]
    },
    {
     "name": "stderr",
     "output_type": "stream",
     "text": [
      " 58%|███████████████████████████████████████████████▏                                 | 60/103 [01:33<01:00,  1.42s/it]"
     ]
    },
    {
     "name": "stdout",
     "output_type": "stream",
     "text": [
      "Error for wallet 0x8441fecef5cc6f697be2c4fc4a36feacede8df67: GraphQL Error: [{'message': 'This endpoint has been removed. If you have any questions, reach out to support@thegraph.zendesk.com'}]\n"
     ]
    },
    {
     "name": "stderr",
     "output_type": "stream",
     "text": [
      " 59%|███████████████████████████████████████████████▉                                 | 61/103 [01:34<01:00,  1.43s/it]"
     ]
    },
    {
     "name": "stdout",
     "output_type": "stream",
     "text": [
      "Error for wallet 0x854a873b8f9bfac36a5eb9c648e285a095a7478d: GraphQL Error: [{'message': 'This endpoint has been removed. If you have any questions, reach out to support@thegraph.zendesk.com'}]\n"
     ]
    },
    {
     "name": "stderr",
     "output_type": "stream",
     "text": [
      " 60%|████████████████████████████████████████████████▊                                | 62/103 [01:36<00:58,  1.44s/it]"
     ]
    },
    {
     "name": "stdout",
     "output_type": "stream",
     "text": [
      "Error for wallet 0x8587d9f794f06d976c2ec1cfd523983b856f5ca9: GraphQL Error: [{'message': 'This endpoint has been removed. If you have any questions, reach out to support@thegraph.zendesk.com'}]\n"
     ]
    },
    {
     "name": "stderr",
     "output_type": "stream",
     "text": [
      " 61%|█████████████████████████████████████████████████▌                               | 63/103 [01:37<00:57,  1.43s/it]"
     ]
    },
    {
     "name": "stdout",
     "output_type": "stream",
     "text": [
      "Error for wallet 0x880a0af12da55df1197f41697c1a1b61670ed410: GraphQL Error: [{'message': 'This endpoint has been removed. If you have any questions, reach out to support@thegraph.zendesk.com'}]\n"
     ]
    },
    {
     "name": "stderr",
     "output_type": "stream",
     "text": [
      " 62%|██████████████████████████████████████████████████▎                              | 64/103 [01:39<00:55,  1.42s/it]"
     ]
    },
    {
     "name": "stdout",
     "output_type": "stream",
     "text": [
      "Error for wallet 0x8aaece100580b749a20f8ce30338c4e0770b65ed: GraphQL Error: [{'message': 'This endpoint has been removed. If you have any questions, reach out to support@thegraph.zendesk.com'}]\n"
     ]
    },
    {
     "name": "stderr",
     "output_type": "stream",
     "text": [
      " 63%|███████████████████████████████████████████████████                              | 65/103 [01:40<00:54,  1.43s/it]"
     ]
    },
    {
     "name": "stdout",
     "output_type": "stream",
     "text": [
      "Error for wallet 0x8be38ea2b22b706aef313c2de81f7d179024dd30: GraphQL Error: [{'message': 'This endpoint has been removed. If you have any questions, reach out to support@thegraph.zendesk.com'}]\n"
     ]
    },
    {
     "name": "stderr",
     "output_type": "stream",
     "text": [
      " 64%|███████████████████████████████████████████████████▉                             | 66/103 [01:41<00:52,  1.42s/it]"
     ]
    },
    {
     "name": "stdout",
     "output_type": "stream",
     "text": [
      "Error for wallet 0x8d900f213db5205c529aaba5d10e71a0ed2646db: GraphQL Error: [{'message': 'This endpoint has been removed. If you have any questions, reach out to support@thegraph.zendesk.com'}]\n"
     ]
    },
    {
     "name": "stderr",
     "output_type": "stream",
     "text": [
      " 65%|████████████████████████████████████████████████████▋                            | 67/103 [01:43<00:50,  1.41s/it]"
     ]
    },
    {
     "name": "stdout",
     "output_type": "stream",
     "text": [
      "Error for wallet 0x91919344c1dad09772d19ad8ad4f1bcd29c51f27: GraphQL Error: [{'message': 'This endpoint has been removed. If you have any questions, reach out to support@thegraph.zendesk.com'}]\n"
     ]
    },
    {
     "name": "stderr",
     "output_type": "stream",
     "text": [
      " 66%|█████████████████████████████████████████████████████▍                           | 68/103 [01:44<00:49,  1.41s/it]"
     ]
    },
    {
     "name": "stdout",
     "output_type": "stream",
     "text": [
      "Error for wallet 0x93f0891bf71d8abed78e0de0885bd26355bb8b1d: GraphQL Error: [{'message': 'This endpoint has been removed. If you have any questions, reach out to support@thegraph.zendesk.com'}]\n"
     ]
    },
    {
     "name": "stderr",
     "output_type": "stream",
     "text": [
      " 67%|██████████████████████████████████████████████████████▎                          | 69/103 [01:46<00:47,  1.40s/it]"
     ]
    },
    {
     "name": "stdout",
     "output_type": "stream",
     "text": [
      "Error for wallet 0x96479b087cb8f236a5e2dcbfc50ce63b2f421da6: GraphQL Error: [{'message': 'This endpoint has been removed. If you have any questions, reach out to support@thegraph.zendesk.com'}]\n"
     ]
    },
    {
     "name": "stderr",
     "output_type": "stream",
     "text": [
      " 68%|███████████████████████████████████████████████████████                          | 70/103 [01:47<00:46,  1.40s/it]"
     ]
    },
    {
     "name": "stdout",
     "output_type": "stream",
     "text": [
      "Error for wallet 0x96bb4447a02b95f1d1e85374cffd565eb22ed2f8: GraphQL Error: [{'message': 'This endpoint has been removed. If you have any questions, reach out to support@thegraph.zendesk.com'}]\n"
     ]
    },
    {
     "name": "stderr",
     "output_type": "stream",
     "text": [
      " 69%|███████████████████████████████████████████████████████▊                         | 71/103 [01:48<00:44,  1.39s/it]"
     ]
    },
    {
     "name": "stdout",
     "output_type": "stream",
     "text": [
      "Error for wallet 0x9a363adc5d382c04d36b09158286328f75672098: GraphQL Error: [{'message': 'This endpoint has been removed. If you have any questions, reach out to support@thegraph.zendesk.com'}]\n"
     ]
    },
    {
     "name": "stderr",
     "output_type": "stream",
     "text": [
      " 70%|████████████████████████████████████████████████████████▌                        | 72/103 [01:50<00:43,  1.41s/it]"
     ]
    },
    {
     "name": "stdout",
     "output_type": "stream",
     "text": [
      "Error for wallet 0x9ad1331c5b6c5a641acffb32719c66a80c6e1a17: GraphQL Error: [{'message': 'This endpoint has been removed. If you have any questions, reach out to support@thegraph.zendesk.com'}]\n"
     ]
    },
    {
     "name": "stderr",
     "output_type": "stream",
     "text": [
      " 71%|█████████████████████████████████████████████████████████▍                       | 73/103 [01:52<00:47,  1.57s/it]"
     ]
    },
    {
     "name": "stdout",
     "output_type": "stream",
     "text": [
      "Error for wallet 0x9ba0d85f71e145ccf15225e59631e5a883d5d74a: GraphQL Error: [{'message': 'This endpoint has been removed. If you have any questions, reach out to support@thegraph.zendesk.com'}]\n"
     ]
    },
    {
     "name": "stderr",
     "output_type": "stream",
     "text": [
      " 72%|██████████████████████████████████████████████████████████▏                      | 74/103 [01:54<00:47,  1.64s/it]"
     ]
    },
    {
     "name": "stdout",
     "output_type": "stream",
     "text": [
      "Error for wallet 0x9e6ec4e98793970a1307262ba68d37594e58cd78: GraphQL Error: [{'message': 'This endpoint has been removed. If you have any questions, reach out to support@thegraph.zendesk.com'}]\n"
     ]
    },
    {
     "name": "stderr",
     "output_type": "stream",
     "text": [
      " 73%|██████████████████████████████████████████████████████████▉                      | 75/103 [01:55<00:44,  1.57s/it]"
     ]
    },
    {
     "name": "stdout",
     "output_type": "stream",
     "text": [
      "Error for wallet 0xa7e94d933eb0c439dda357f61244a485246e97b8: GraphQL Error: [{'message': 'This endpoint has been removed. If you have any questions, reach out to support@thegraph.zendesk.com'}]\n"
     ]
    },
    {
     "name": "stderr",
     "output_type": "stream",
     "text": [
      " 74%|███████████████████████████████████████████████████████████▊                     | 76/103 [01:57<00:41,  1.54s/it]"
     ]
    },
    {
     "name": "stdout",
     "output_type": "stream",
     "text": [
      "Error for wallet 0xa7f3c74f0255796fd5d3ddcf88db769f7a6bf46a: GraphQL Error: [{'message': 'This endpoint has been removed. If you have any questions, reach out to support@thegraph.zendesk.com'}]\n"
     ]
    },
    {
     "name": "stderr",
     "output_type": "stream",
     "text": [
      " 75%|████████████████████████████████████████████████████████████▌                    | 77/103 [01:58<00:39,  1.53s/it]"
     ]
    },
    {
     "name": "stdout",
     "output_type": "stream",
     "text": [
      "Error for wallet 0xa98dc64bb42575efec7d1e4560c029231ce5da51: GraphQL Error: [{'message': 'This endpoint has been removed. If you have any questions, reach out to support@thegraph.zendesk.com'}]\n"
     ]
    },
    {
     "name": "stderr",
     "output_type": "stream",
     "text": [
      " 76%|█████████████████████████████████████████████████████████████▎                   | 78/103 [02:00<00:38,  1.52s/it]"
     ]
    },
    {
     "name": "stdout",
     "output_type": "stream",
     "text": [
      "Error for wallet 0xb271ff7090b39028eb6e711c3f89a3453d5861ee: GraphQL Error: [{'message': 'This endpoint has been removed. If you have any questions, reach out to support@thegraph.zendesk.com'}]\n"
     ]
    },
    {
     "name": "stderr",
     "output_type": "stream",
     "text": [
      " 77%|██████████████████████████████████████████████████████████████▏                  | 79/103 [02:01<00:36,  1.52s/it]"
     ]
    },
    {
     "name": "stdout",
     "output_type": "stream",
     "text": [
      "Error for wallet 0xb475576594ae44e1f75f534f993cbb7673e4c8b6: GraphQL Error: [{'message': 'This endpoint has been removed. If you have any questions, reach out to support@thegraph.zendesk.com'}]\n"
     ]
    },
    {
     "name": "stderr",
     "output_type": "stream",
     "text": [
      " 78%|██████████████████████████████████████████████████████████████▉                  | 80/103 [02:03<00:34,  1.51s/it]"
     ]
    },
    {
     "name": "stdout",
     "output_type": "stream",
     "text": [
      "Error for wallet 0xb57297c5d02def954794e593db93d0a302e43e5c: GraphQL Error: [{'message': 'This endpoint has been removed. If you have any questions, reach out to support@thegraph.zendesk.com'}]\n"
     ]
    },
    {
     "name": "stderr",
     "output_type": "stream",
     "text": [
      " 79%|███████████████████████████████████████████████████████████████▋                 | 81/103 [02:04<00:32,  1.49s/it]"
     ]
    },
    {
     "name": "stdout",
     "output_type": "stream",
     "text": [
      "Error for wallet 0xbd4a00764217c13a246f86db58d74541a0c3972a: GraphQL Error: [{'message': 'This endpoint has been removed. If you have any questions, reach out to support@thegraph.zendesk.com'}]\n"
     ]
    },
    {
     "name": "stderr",
     "output_type": "stream",
     "text": [
      " 80%|████████████████████████████████████████████████████████████████▍                | 82/103 [02:05<00:30,  1.47s/it]"
     ]
    },
    {
     "name": "stdout",
     "output_type": "stream",
     "text": [
      "Error for wallet 0xc179d55f7e00e789915760f7d260a1bf6285278b: GraphQL Error: [{'message': 'This endpoint has been removed. If you have any questions, reach out to support@thegraph.zendesk.com'}]\n"
     ]
    },
    {
     "name": "stderr",
     "output_type": "stream",
     "text": [
      " 81%|█████████████████████████████████████████████████████████████████▎               | 83/103 [02:07<00:28,  1.44s/it]"
     ]
    },
    {
     "name": "stdout",
     "output_type": "stream",
     "text": [
      "Error for wallet 0xc22b8e78394ce52e0034609a67ae3c959daa84bc: GraphQL Error: [{'message': 'This endpoint has been removed. If you have any questions, reach out to support@thegraph.zendesk.com'}]\n"
     ]
    },
    {
     "name": "stderr",
     "output_type": "stream",
     "text": [
      " 82%|██████████████████████████████████████████████████████████████████               | 84/103 [02:08<00:27,  1.43s/it]"
     ]
    },
    {
     "name": "stdout",
     "output_type": "stream",
     "text": [
      "Error for wallet 0xcbbd9fe837a14258286bbf2e182cbc4e4518c5a3: GraphQL Error: [{'message': 'This endpoint has been removed. If you have any questions, reach out to support@thegraph.zendesk.com'}]\n"
     ]
    },
    {
     "name": "stderr",
     "output_type": "stream",
     "text": [
      " 83%|██████████████████████████████████████████████████████████████████▊              | 85/103 [02:10<00:25,  1.43s/it]"
     ]
    },
    {
     "name": "stdout",
     "output_type": "stream",
     "text": [
      "Error for wallet 0xcecf5163bb057c1aff4963d9b9a7d2f0bf591710: GraphQL Error: [{'message': 'This endpoint has been removed. If you have any questions, reach out to support@thegraph.zendesk.com'}]\n"
     ]
    },
    {
     "name": "stderr",
     "output_type": "stream",
     "text": [
      " 83%|███████████████████████████████████████████████████████████████████▋             | 86/103 [02:11<00:25,  1.52s/it]"
     ]
    },
    {
     "name": "stdout",
     "output_type": "stream",
     "text": [
      "Error for wallet 0xcf0033bf27804640e5339e06443e208db5870dd2: GraphQL Error: [{'message': 'This endpoint has been removed. If you have any questions, reach out to support@thegraph.zendesk.com'}]\n"
     ]
    },
    {
     "name": "stderr",
     "output_type": "stream",
     "text": [
      " 84%|████████████████████████████████████████████████████████████████████▍            | 87/103 [02:13<00:25,  1.57s/it]"
     ]
    },
    {
     "name": "stdout",
     "output_type": "stream",
     "text": [
      "Error for wallet 0xd0df53e296c1e3115fccc3d7cdf4ba495e593b56: GraphQL Error: [{'message': 'This endpoint has been removed. If you have any questions, reach out to support@thegraph.zendesk.com'}]\n"
     ]
    },
    {
     "name": "stderr",
     "output_type": "stream",
     "text": [
      " 85%|█████████████████████████████████████████████████████████████████████▏           | 88/103 [02:15<00:23,  1.55s/it]"
     ]
    },
    {
     "name": "stdout",
     "output_type": "stream",
     "text": [
      "Error for wallet 0xd1a3888fd8f490367c6104e10b4154427c02dd9c: GraphQL Error: [{'message': 'This endpoint has been removed. If you have any questions, reach out to support@thegraph.zendesk.com'}]\n"
     ]
    },
    {
     "name": "stderr",
     "output_type": "stream",
     "text": [
      " 86%|█████████████████████████████████████████████████████████████████████▉           | 89/103 [02:16<00:21,  1.52s/it]"
     ]
    },
    {
     "name": "stdout",
     "output_type": "stream",
     "text": [
      "Error for wallet 0xd334d18fa6bada9a10f361bae42a019ce88a3c33: GraphQL Error: [{'message': 'This endpoint has been removed. If you have any questions, reach out to support@thegraph.zendesk.com'}]\n"
     ]
    },
    {
     "name": "stderr",
     "output_type": "stream",
     "text": [
      " 87%|██████████████████████████████████████████████████████████████████████▊          | 90/103 [02:17<00:19,  1.48s/it]"
     ]
    },
    {
     "name": "stdout",
     "output_type": "stream",
     "text": [
      "Error for wallet 0xd9d3930ffa343f5a0eec7606d045d0843d3a02b4: GraphQL Error: [{'message': 'This endpoint has been removed. If you have any questions, reach out to support@thegraph.zendesk.com'}]\n"
     ]
    },
    {
     "name": "stderr",
     "output_type": "stream",
     "text": [
      " 88%|███████████████████████████████████████████████████████████████████████▌         | 91/103 [02:19<00:17,  1.46s/it]"
     ]
    },
    {
     "name": "stdout",
     "output_type": "stream",
     "text": [
      "Error for wallet 0xdde73df7bd4d704a89ad8421402701b3a460c6e9: GraphQL Error: [{'message': 'This endpoint has been removed. If you have any questions, reach out to support@thegraph.zendesk.com'}]\n"
     ]
    },
    {
     "name": "stderr",
     "output_type": "stream",
     "text": [
      " 89%|████████████████████████████████████████████████████████████████████████▎        | 92/103 [02:20<00:16,  1.47s/it]"
     ]
    },
    {
     "name": "stdout",
     "output_type": "stream",
     "text": [
      "Error for wallet 0xde92d70253604fd8c5998c8ee3ed282a41b33b7f: GraphQL Error: [{'message': 'This endpoint has been removed. If you have any questions, reach out to support@thegraph.zendesk.com'}]\n"
     ]
    },
    {
     "name": "stderr",
     "output_type": "stream",
     "text": [
      " 90%|█████████████████████████████████████████████████████████████████████████▏       | 93/103 [02:22<00:14,  1.49s/it]"
     ]
    },
    {
     "name": "stdout",
     "output_type": "stream",
     "text": [
      "Error for wallet 0xded1f838ae6aa5fcd0f13481b37ee88e5bdccb3d: GraphQL Error: [{'message': 'This endpoint has been removed. If you have any questions, reach out to support@thegraph.zendesk.com'}]\n"
     ]
    },
    {
     "name": "stderr",
     "output_type": "stream",
     "text": [
      " 91%|█████████████████████████████████████████████████████████████████████████▉       | 94/103 [02:23<00:13,  1.49s/it]"
     ]
    },
    {
     "name": "stdout",
     "output_type": "stream",
     "text": [
      "Error for wallet 0xebb8629e8a3ec86cf90cb7600264415640834483: GraphQL Error: [{'message': 'This endpoint has been removed. If you have any questions, reach out to support@thegraph.zendesk.com'}]\n"
     ]
    },
    {
     "name": "stderr",
     "output_type": "stream",
     "text": [
      " 92%|██████████████████████████████████████████████████████████████████████████▋      | 95/103 [02:25<00:11,  1.48s/it]"
     ]
    },
    {
     "name": "stdout",
     "output_type": "stream",
     "text": [
      "Error for wallet 0xeded1c8c0a0c532195b8432153f3bfa81dba2a90: GraphQL Error: [{'message': 'This endpoint has been removed. If you have any questions, reach out to support@thegraph.zendesk.com'}]\n"
     ]
    },
    {
     "name": "stderr",
     "output_type": "stream",
     "text": [
      " 93%|███████████████████████████████████████████████████████████████████████████▍     | 96/103 [02:26<00:10,  1.48s/it]"
     ]
    },
    {
     "name": "stdout",
     "output_type": "stream",
     "text": [
      "Error for wallet 0xf10fd8921019615a856c1e95c7cd3632de34edc4: GraphQL Error: [{'message': 'This endpoint has been removed. If you have any questions, reach out to support@thegraph.zendesk.com'}]\n"
     ]
    },
    {
     "name": "stderr",
     "output_type": "stream",
     "text": [
      " 94%|████████████████████████████████████████████████████████████████████████████▎    | 97/103 [02:28<00:08,  1.47s/it]"
     ]
    },
    {
     "name": "stdout",
     "output_type": "stream",
     "text": [
      "Error for wallet 0xf340b9f2098f80b86fbc5ede586c319473aa11f3: GraphQL Error: [{'message': 'This endpoint has been removed. If you have any questions, reach out to support@thegraph.zendesk.com'}]\n"
     ]
    },
    {
     "name": "stderr",
     "output_type": "stream",
     "text": [
      " 95%|█████████████████████████████████████████████████████████████████████████████    | 98/103 [02:29<00:07,  1.47s/it]"
     ]
    },
    {
     "name": "stdout",
     "output_type": "stream",
     "text": [
      "Error for wallet 0xf54f36bca969800fd7d63a68029561309938c09b: GraphQL Error: [{'message': 'This endpoint has been removed. If you have any questions, reach out to support@thegraph.zendesk.com'}]\n"
     ]
    },
    {
     "name": "stderr",
     "output_type": "stream",
     "text": [
      " 96%|█████████████████████████████████████████████████████████████████████████████▊   | 99/103 [02:31<00:05,  1.49s/it]"
     ]
    },
    {
     "name": "stdout",
     "output_type": "stream",
     "text": [
      "Error for wallet 0xf60304b534f74977e159b2e159e135475c245526: GraphQL Error: [{'message': 'This endpoint has been removed. If you have any questions, reach out to support@thegraph.zendesk.com'}]\n"
     ]
    },
    {
     "name": "stderr",
     "output_type": "stream",
     "text": [
      " 97%|█████████████████████████████████████████████████████████████████████████████▋  | 100/103 [02:32<00:04,  1.50s/it]"
     ]
    },
    {
     "name": "stdout",
     "output_type": "stream",
     "text": [
      "Error for wallet 0xf67e8e5805835465f7eba988259db882ab726800: GraphQL Error: [{'message': 'This endpoint has been removed. If you have any questions, reach out to support@thegraph.zendesk.com'}]\n"
     ]
    },
    {
     "name": "stderr",
     "output_type": "stream",
     "text": [
      " 98%|██████████████████████████████████████████████████████████████████████████████▍ | 101/103 [02:34<00:02,  1.49s/it]"
     ]
    },
    {
     "name": "stdout",
     "output_type": "stream",
     "text": [
      "Error for wallet 0xf7aa5d0752cfcd41b0a5945867d619a80c405e52: GraphQL Error: [{'message': 'This endpoint has been removed. If you have any questions, reach out to support@thegraph.zendesk.com'}]\n"
     ]
    },
    {
     "name": "stderr",
     "output_type": "stream",
     "text": [
      " 99%|███████████████████████████████████████████████████████████████████████████████▏| 102/103 [02:35<00:01,  1.46s/it]"
     ]
    },
    {
     "name": "stdout",
     "output_type": "stream",
     "text": [
      "Error for wallet 0xf80a8b9cfff0febf49914c269fb8aead4a22f847: GraphQL Error: [{'message': 'This endpoint has been removed. If you have any questions, reach out to support@thegraph.zendesk.com'}]\n"
     ]
    },
    {
     "name": "stderr",
     "output_type": "stream",
     "text": [
      "100%|████████████████████████████████████████████████████████████████████████████████| 103/103 [02:37<00:00,  1.53s/it]"
     ]
    },
    {
     "name": "stdout",
     "output_type": "stream",
     "text": [
      "Error for wallet 0xfe5a05c0f8b24fca15a7306f6a4ebb7dcf2186ac: GraphQL Error: [{'message': 'This endpoint has been removed. If you have any questions, reach out to support@thegraph.zendesk.com'}]\n"
     ]
    },
    {
     "name": "stderr",
     "output_type": "stream",
     "text": [
      "\n"
     ]
    },
    {
     "data": {
      "text/html": [
       "<div>\n",
       "<style scoped>\n",
       "    .dataframe tbody tr th:only-of-type {\n",
       "        vertical-align: middle;\n",
       "    }\n",
       "\n",
       "    .dataframe tbody tr th {\n",
       "        vertical-align: top;\n",
       "    }\n",
       "\n",
       "    .dataframe thead th {\n",
       "        text-align: right;\n",
       "    }\n",
       "</style>\n",
       "<table border=\"1\" class=\"dataframe\">\n",
       "  <thead>\n",
       "    <tr style=\"text-align: right;\">\n",
       "      <th></th>\n",
       "      <th>wallet_id</th>\n",
       "      <th>borrow_eth</th>\n",
       "      <th>collateral_eth</th>\n",
       "      <th>health</th>\n",
       "      <th>supplied_assets</th>\n",
       "      <th>borrowed_assets</th>\n",
       "    </tr>\n",
       "  </thead>\n",
       "  <tbody>\n",
       "    <tr>\n",
       "      <th>0</th>\n",
       "      <td>0x0039f22efb07a647557c7c5d17854cfd6d489ef3</td>\n",
       "      <td>0</td>\n",
       "      <td>0</td>\n",
       "      <td>0</td>\n",
       "      <td>0</td>\n",
       "      <td>0</td>\n",
       "    </tr>\n",
       "    <tr>\n",
       "      <th>1</th>\n",
       "      <td>0x06b51c6882b27cb05e712185531c1f74996dd988</td>\n",
       "      <td>0</td>\n",
       "      <td>0</td>\n",
       "      <td>0</td>\n",
       "      <td>0</td>\n",
       "      <td>0</td>\n",
       "    </tr>\n",
       "    <tr>\n",
       "      <th>2</th>\n",
       "      <td>0x0795732aacc448030ef374374eaae57d2965c16c</td>\n",
       "      <td>0</td>\n",
       "      <td>0</td>\n",
       "      <td>0</td>\n",
       "      <td>0</td>\n",
       "      <td>0</td>\n",
       "    </tr>\n",
       "    <tr>\n",
       "      <th>3</th>\n",
       "      <td>0x0aaa79f1a86bc8136cd0d1ca0d51964f4e3766f9</td>\n",
       "      <td>0</td>\n",
       "      <td>0</td>\n",
       "      <td>0</td>\n",
       "      <td>0</td>\n",
       "      <td>0</td>\n",
       "    </tr>\n",
       "    <tr>\n",
       "      <th>4</th>\n",
       "      <td>0x0fe383e5abc200055a7f391f94a5f5d1f844b9ae</td>\n",
       "      <td>0</td>\n",
       "      <td>0</td>\n",
       "      <td>0</td>\n",
       "      <td>0</td>\n",
       "      <td>0</td>\n",
       "    </tr>\n",
       "  </tbody>\n",
       "</table>\n",
       "</div>"
      ],
      "text/plain": [
       "                                    wallet_id  borrow_eth  collateral_eth  \\\n",
       "0  0x0039f22efb07a647557c7c5d17854cfd6d489ef3           0               0   \n",
       "1  0x06b51c6882b27cb05e712185531c1f74996dd988           0               0   \n",
       "2  0x0795732aacc448030ef374374eaae57d2965c16c           0               0   \n",
       "3  0x0aaa79f1a86bc8136cd0d1ca0d51964f4e3766f9           0               0   \n",
       "4  0x0fe383e5abc200055a7f391f94a5f5d1f844b9ae           0               0   \n",
       "\n",
       "   health  supplied_assets  borrowed_assets  \n",
       "0       0                0                0  \n",
       "1       0                0                0  \n",
       "2       0                0                0  \n",
       "3       0                0                0  \n",
       "4       0                0                0  "
      ]
     },
     "execution_count": 12,
     "metadata": {},
     "output_type": "execute_result"
    }
   ],
   "source": [
    "wallet_data = []\n",
    "for wallet in tqdm(wallets):\n",
    "    data = get_wallet_data(wallet)\n",
    "    wallet_data.append(data)\n",
    "\n",
    "wallet_df = pd.DataFrame(wallet_data)\n",
    "wallet_df.head()\n"
   ]
  },
  {
   "cell_type": "code",
   "execution_count": 14,
   "id": "8cf0e9f9-e4ac-43c6-83b7-a803f48d00a0",
   "metadata": {},
   "outputs": [
    {
     "name": "stderr",
     "output_type": "stream",
     "text": [
      "100%|████████████████████████████████████████████████████████████████████████████████████████| 103/103 [00:00<?, ?it/s]\n"
     ]
    },
    {
     "data": {
      "text/html": [
       "<div>\n",
       "<style scoped>\n",
       "    .dataframe tbody tr th:only-of-type {\n",
       "        vertical-align: middle;\n",
       "    }\n",
       "\n",
       "    .dataframe tbody tr th {\n",
       "        vertical-align: top;\n",
       "    }\n",
       "\n",
       "    .dataframe thead th {\n",
       "        text-align: right;\n",
       "    }\n",
       "</style>\n",
       "<table border=\"1\" class=\"dataframe\">\n",
       "  <thead>\n",
       "    <tr style=\"text-align: right;\">\n",
       "      <th></th>\n",
       "      <th>wallet_id</th>\n",
       "      <th>borrow_eth</th>\n",
       "      <th>collateral_eth</th>\n",
       "      <th>health</th>\n",
       "      <th>supplied_assets</th>\n",
       "      <th>borrowed_assets</th>\n",
       "    </tr>\n",
       "  </thead>\n",
       "  <tbody>\n",
       "    <tr>\n",
       "      <th>0</th>\n",
       "      <td>0x0039f22efb07a647557c7c5d17854cfd6d489ef3</td>\n",
       "      <td>23.37</td>\n",
       "      <td>38.65</td>\n",
       "      <td>2.70</td>\n",
       "      <td>36.99</td>\n",
       "      <td>24.48</td>\n",
       "    </tr>\n",
       "    <tr>\n",
       "      <th>1</th>\n",
       "      <td>0x06b51c6882b27cb05e712185531c1f74996dd988</td>\n",
       "      <td>30.65</td>\n",
       "      <td>30.80</td>\n",
       "      <td>1.29</td>\n",
       "      <td>33.12</td>\n",
       "      <td>28.84</td>\n",
       "    </tr>\n",
       "    <tr>\n",
       "      <th>2</th>\n",
       "      <td>0x0795732aacc448030ef374374eaae57d2965c16c</td>\n",
       "      <td>22.04</td>\n",
       "      <td>43.54</td>\n",
       "      <td>0.91</td>\n",
       "      <td>50.05</td>\n",
       "      <td>21.52</td>\n",
       "    </tr>\n",
       "    <tr>\n",
       "      <th>3</th>\n",
       "      <td>0x0aaa79f1a86bc8136cd0d1ca0d51964f4e3766f9</td>\n",
       "      <td>1.69</td>\n",
       "      <td>38.99</td>\n",
       "      <td>0.62</td>\n",
       "      <td>33.04</td>\n",
       "      <td>1.62</td>\n",
       "    </tr>\n",
       "    <tr>\n",
       "      <th>4</th>\n",
       "      <td>0x0fe383e5abc200055a7f391f94a5f5d1f844b9ae</td>\n",
       "      <td>46.74</td>\n",
       "      <td>41.33</td>\n",
       "      <td>0.81</td>\n",
       "      <td>48.02</td>\n",
       "      <td>48.43</td>\n",
       "    </tr>\n",
       "  </tbody>\n",
       "</table>\n",
       "</div>"
      ],
      "text/plain": [
       "                                    wallet_id  borrow_eth  collateral_eth  \\\n",
       "0  0x0039f22efb07a647557c7c5d17854cfd6d489ef3       23.37           38.65   \n",
       "1  0x06b51c6882b27cb05e712185531c1f74996dd988       30.65           30.80   \n",
       "2  0x0795732aacc448030ef374374eaae57d2965c16c       22.04           43.54   \n",
       "3  0x0aaa79f1a86bc8136cd0d1ca0d51964f4e3766f9        1.69           38.99   \n",
       "4  0x0fe383e5abc200055a7f391f94a5f5d1f844b9ae       46.74           41.33   \n",
       "\n",
       "   health  supplied_assets  borrowed_assets  \n",
       "0    2.70            36.99            24.48  \n",
       "1    1.29            33.12            28.84  \n",
       "2    0.91            50.05            21.52  \n",
       "3    0.62            33.04             1.62  \n",
       "4    0.81            48.02            48.43  "
      ]
     },
     "execution_count": 14,
     "metadata": {},
     "output_type": "execute_result"
    }
   ],
   "source": [
    "def generate_fallback_data(wallet):\n",
    "    # Simulate wallet-level Compound stats\n",
    "    health = round(np.random.uniform(0.5, 3.0), 2)\n",
    "    collateral_eth = round(np.random.uniform(0, 50), 2)\n",
    "    borrow_eth = round(collateral_eth * np.random.uniform(0, 1.2), 2)\n",
    "    supplied_assets = round(collateral_eth * np.random.uniform(0.8, 1.2), 2)\n",
    "    borrowed_assets = round(borrow_eth * np.random.uniform(0.9, 1.1), 2)\n",
    "\n",
    "    return {\n",
    "        \"wallet_id\": wallet,\n",
    "        \"borrow_eth\": borrow_eth,\n",
    "        \"collateral_eth\": collateral_eth,\n",
    "        \"health\": health,\n",
    "        \"supplied_assets\": supplied_assets,\n",
    "        \"borrowed_assets\": borrowed_assets\n",
    "    }\n",
    "\n",
    "# Generate fallback for all wallets\n",
    "wallet_data = []\n",
    "for wallet in tqdm(wallets):\n",
    "    wallet_data.append(generate_fallback_data(wallet))\n",
    "\n",
    "wallet_df = pd.DataFrame(wallet_data)\n",
    "wallet_df.head()\n"
   ]
  },
  {
   "cell_type": "code",
   "execution_count": 45,
   "id": "8762e219-eac9-4619-860c-036c55337704",
   "metadata": {},
   "outputs": [
    {
     "name": "stdout",
     "output_type": "stream",
     "text": [
      "Collecting lightgbm\n",
      "  Downloading lightgbm-4.6.0-py3-none-win_amd64.whl.metadata (17 kB)\n",
      "Requirement already satisfied: numpy>=1.17.0 in c:\\users\\nazara parween\\anaconda3\\lib\\site-packages (from lightgbm) (1.26.4)\n",
      "Requirement already satisfied: scipy in c:\\users\\nazara parween\\anaconda3\\lib\\site-packages (from lightgbm) (1.11.4)\n",
      "Downloading lightgbm-4.6.0-py3-none-win_amd64.whl (1.5 MB)\n",
      "   ---------------------------------------- 0.0/1.5 MB ? eta -:--:--\n",
      "   ---------------------------------------- 0.0/1.5 MB ? eta -:--:--\n",
      "    --------------------------------------- 0.0/1.5 MB 435.7 kB/s eta 0:00:04\n",
      "   ---- ----------------------------------- 0.2/1.5 MB 1.3 MB/s eta 0:00:01\n",
      "   -------- ------------------------------- 0.3/1.5 MB 2.0 MB/s eta 0:00:01\n",
      "   -------------- ------------------------- 0.5/1.5 MB 2.5 MB/s eta 0:00:01\n",
      "   ------------------- -------------------- 0.7/1.5 MB 2.7 MB/s eta 0:00:01\n",
      "   ------------------------ --------------- 0.9/1.5 MB 2.8 MB/s eta 0:00:01\n",
      "   ----------------------------- ---------- 1.1/1.5 MB 2.9 MB/s eta 0:00:01\n",
      "   --------------------------------- ------ 1.2/1.5 MB 3.0 MB/s eta 0:00:01\n",
      "   -------------------------------------- - 1.4/1.5 MB 3.1 MB/s eta 0:00:01\n",
      "   ---------------------------------------- 1.5/1.5 MB 3.0 MB/s eta 0:00:00\n",
      "Installing collected packages: lightgbm\n",
      "Successfully installed lightgbm-4.6.0\n"
     ]
    }
   ],
   "source": [
    "!pip install lightgbm"
   ]
  },
  {
   "cell_type": "code",
   "execution_count": 52,
   "id": "5cc81637-d596-446e-a26b-c67046a1ace1",
   "metadata": {},
   "outputs": [],
   "source": [
    "import pandas as pd\n",
    "import numpy as np\n",
    "import matplotlib.pyplot as plt\n",
    "import seaborn as sns\n",
    "\n",
    "from sklearn.model_selection import train_test_split\n",
    "from sklearn.ensemble import RandomForestRegressor\n",
    "from sklearn.preprocessing import MinMaxScaler\n",
    "from sklearn.metrics import mean_squared_error, r2_score\n"
   ]
  },
  {
   "cell_type": "code",
   "execution_count": 55,
   "id": "6cbfc2a7-6db4-48ef-a68f-0c14134c72db",
   "metadata": {},
   "outputs": [
    {
     "data": {
      "text/html": [
       "<div>\n",
       "<style scoped>\n",
       "    .dataframe tbody tr th:only-of-type {\n",
       "        vertical-align: middle;\n",
       "    }\n",
       "\n",
       "    .dataframe tbody tr th {\n",
       "        vertical-align: top;\n",
       "    }\n",
       "\n",
       "    .dataframe thead th {\n",
       "        text-align: right;\n",
       "    }\n",
       "</style>\n",
       "<table border=\"1\" class=\"dataframe\">\n",
       "  <thead>\n",
       "    <tr style=\"text-align: right;\">\n",
       "      <th></th>\n",
       "      <th>wallet_id</th>\n",
       "      <th>borrow_eth</th>\n",
       "      <th>collateral_eth</th>\n",
       "      <th>health</th>\n",
       "      <th>supplied_assets</th>\n",
       "      <th>borrowed_assets</th>\n",
       "      <th>risk_score</th>\n",
       "    </tr>\n",
       "  </thead>\n",
       "  <tbody>\n",
       "    <tr>\n",
       "      <th>0</th>\n",
       "      <td>0x0039f22efb07a647557c7c5d17854cfd6d489ef3</td>\n",
       "      <td>23.37</td>\n",
       "      <td>38.65</td>\n",
       "      <td>2.70</td>\n",
       "      <td>36.99</td>\n",
       "      <td>24.48</td>\n",
       "      <td>419.94</td>\n",
       "    </tr>\n",
       "    <tr>\n",
       "      <th>1</th>\n",
       "      <td>0x06b51c6882b27cb05e712185531c1f74996dd988</td>\n",
       "      <td>30.65</td>\n",
       "      <td>30.80</td>\n",
       "      <td>1.29</td>\n",
       "      <td>33.12</td>\n",
       "      <td>28.84</td>\n",
       "      <td>787.77</td>\n",
       "    </tr>\n",
       "    <tr>\n",
       "      <th>2</th>\n",
       "      <td>0x0795732aacc448030ef374374eaae57d2965c16c</td>\n",
       "      <td>22.04</td>\n",
       "      <td>43.54</td>\n",
       "      <td>0.91</td>\n",
       "      <td>50.05</td>\n",
       "      <td>21.52</td>\n",
       "      <td>559.52</td>\n",
       "    </tr>\n",
       "    <tr>\n",
       "      <th>3</th>\n",
       "      <td>0x0aaa79f1a86bc8136cd0d1ca0d51964f4e3766f9</td>\n",
       "      <td>1.69</td>\n",
       "      <td>38.99</td>\n",
       "      <td>0.62</td>\n",
       "      <td>33.04</td>\n",
       "      <td>1.62</td>\n",
       "      <td>345.05</td>\n",
       "    </tr>\n",
       "    <tr>\n",
       "      <th>4</th>\n",
       "      <td>0x0fe383e5abc200055a7f391f94a5f5d1f844b9ae</td>\n",
       "      <td>46.74</td>\n",
       "      <td>41.33</td>\n",
       "      <td>0.81</td>\n",
       "      <td>48.02</td>\n",
       "      <td>48.43</td>\n",
       "      <td>892.00</td>\n",
       "    </tr>\n",
       "  </tbody>\n",
       "</table>\n",
       "</div>"
      ],
      "text/plain": [
       "                                    wallet_id  borrow_eth  collateral_eth  \\\n",
       "0  0x0039f22efb07a647557c7c5d17854cfd6d489ef3       23.37           38.65   \n",
       "1  0x06b51c6882b27cb05e712185531c1f74996dd988       30.65           30.80   \n",
       "2  0x0795732aacc448030ef374374eaae57d2965c16c       22.04           43.54   \n",
       "3  0x0aaa79f1a86bc8136cd0d1ca0d51964f4e3766f9        1.69           38.99   \n",
       "4  0x0fe383e5abc200055a7f391f94a5f5d1f844b9ae       46.74           41.33   \n",
       "\n",
       "   health  supplied_assets  borrowed_assets  risk_score  \n",
       "0    2.70            36.99            24.48      419.94  \n",
       "1    1.29            33.12            28.84      787.77  \n",
       "2    0.91            50.05            21.52      559.52  \n",
       "3    0.62            33.04             1.62      345.05  \n",
       "4    0.81            48.02            48.43      892.00  "
      ]
     },
     "execution_count": 55,
     "metadata": {},
     "output_type": "execute_result"
    }
   ],
   "source": [
    "def simulate_risk_score(row):\n",
    "    # Higher borrow/collateral ratio, lower health => higher risk\n",
    "    score = (\n",
    "        (1 - min(row[\"health\"] / 3.0, 1)) * 400 +  \n",
    "        min(row[\"borrow_eth\"] / (row[\"collateral_eth\"] + 1e-6), 1) * 300 +\n",
    "        min(row[\"borrowed_assets\"] / (row[\"supplied_assets\"] + 1e-6), 1) * 300\n",
    "    )\n",
    "    return round(min(score, 1000), 2)\n",
    "\n",
    "wallet_df[\"risk_score\"] = wallet_df.apply(simulate_risk_score, axis=1)\n",
    "wallet_df.head()\n"
   ]
  },
  {
   "cell_type": "code",
   "execution_count": 56,
   "id": "fe6ad72c-ca22-4e0e-8f8c-88c8ea430360",
   "metadata": {},
   "outputs": [],
   "source": [
    "features = [\"borrow_eth\", \"collateral_eth\", \"health\", \"supplied_assets\", \"borrowed_assets\"]\n",
    "X = wallet_df[features]\n",
    "y = wallet_df[\"risk_score\"]\n",
    "\n",
    "# Normalize features (optional but helps)\n",
    "scaler = MinMaxScaler()\n",
    "X_scaled = scaler.fit_transform(X)\n"
   ]
  },
  {
   "cell_type": "code",
   "execution_count": 57,
   "id": "c2c097f9-9fe3-4e9c-a064-26575c1f5668",
   "metadata": {},
   "outputs": [],
   "source": [
    "X_train, X_test, y_train, y_test = train_test_split(X_scaled, y, test_size=0.2, random_state=42)\n"
   ]
  },
  {
   "cell_type": "code",
   "execution_count": 58,
   "id": "9f46c110-dd60-4ff8-89e3-fd401da334b5",
   "metadata": {},
   "outputs": [
    {
     "data": {
      "text/html": [
       "<style>#sk-container-id-4 {color: black;background-color: white;}#sk-container-id-4 pre{padding: 0;}#sk-container-id-4 div.sk-toggleable {background-color: white;}#sk-container-id-4 label.sk-toggleable__label {cursor: pointer;display: block;width: 100%;margin-bottom: 0;padding: 0.3em;box-sizing: border-box;text-align: center;}#sk-container-id-4 label.sk-toggleable__label-arrow:before {content: \"▸\";float: left;margin-right: 0.25em;color: #696969;}#sk-container-id-4 label.sk-toggleable__label-arrow:hover:before {color: black;}#sk-container-id-4 div.sk-estimator:hover label.sk-toggleable__label-arrow:before {color: black;}#sk-container-id-4 div.sk-toggleable__content {max-height: 0;max-width: 0;overflow: hidden;text-align: left;background-color: #f0f8ff;}#sk-container-id-4 div.sk-toggleable__content pre {margin: 0.2em;color: black;border-radius: 0.25em;background-color: #f0f8ff;}#sk-container-id-4 input.sk-toggleable__control:checked~div.sk-toggleable__content {max-height: 200px;max-width: 100%;overflow: auto;}#sk-container-id-4 input.sk-toggleable__control:checked~label.sk-toggleable__label-arrow:before {content: \"▾\";}#sk-container-id-4 div.sk-estimator input.sk-toggleable__control:checked~label.sk-toggleable__label {background-color: #d4ebff;}#sk-container-id-4 div.sk-label input.sk-toggleable__control:checked~label.sk-toggleable__label {background-color: #d4ebff;}#sk-container-id-4 input.sk-hidden--visually {border: 0;clip: rect(1px 1px 1px 1px);clip: rect(1px, 1px, 1px, 1px);height: 1px;margin: -1px;overflow: hidden;padding: 0;position: absolute;width: 1px;}#sk-container-id-4 div.sk-estimator {font-family: monospace;background-color: #f0f8ff;border: 1px dotted black;border-radius: 0.25em;box-sizing: border-box;margin-bottom: 0.5em;}#sk-container-id-4 div.sk-estimator:hover {background-color: #d4ebff;}#sk-container-id-4 div.sk-parallel-item::after {content: \"\";width: 100%;border-bottom: 1px solid gray;flex-grow: 1;}#sk-container-id-4 div.sk-label:hover label.sk-toggleable__label {background-color: #d4ebff;}#sk-container-id-4 div.sk-serial::before {content: \"\";position: absolute;border-left: 1px solid gray;box-sizing: border-box;top: 0;bottom: 0;left: 50%;z-index: 0;}#sk-container-id-4 div.sk-serial {display: flex;flex-direction: column;align-items: center;background-color: white;padding-right: 0.2em;padding-left: 0.2em;position: relative;}#sk-container-id-4 div.sk-item {position: relative;z-index: 1;}#sk-container-id-4 div.sk-parallel {display: flex;align-items: stretch;justify-content: center;background-color: white;position: relative;}#sk-container-id-4 div.sk-item::before, #sk-container-id-4 div.sk-parallel-item::before {content: \"\";position: absolute;border-left: 1px solid gray;box-sizing: border-box;top: 0;bottom: 0;left: 50%;z-index: -1;}#sk-container-id-4 div.sk-parallel-item {display: flex;flex-direction: column;z-index: 1;position: relative;background-color: white;}#sk-container-id-4 div.sk-parallel-item:first-child::after {align-self: flex-end;width: 50%;}#sk-container-id-4 div.sk-parallel-item:last-child::after {align-self: flex-start;width: 50%;}#sk-container-id-4 div.sk-parallel-item:only-child::after {width: 0;}#sk-container-id-4 div.sk-dashed-wrapped {border: 1px dashed gray;margin: 0 0.4em 0.5em 0.4em;box-sizing: border-box;padding-bottom: 0.4em;background-color: white;}#sk-container-id-4 div.sk-label label {font-family: monospace;font-weight: bold;display: inline-block;line-height: 1.2em;}#sk-container-id-4 div.sk-label-container {text-align: center;}#sk-container-id-4 div.sk-container {/* jupyter's `normalize.less` sets `[hidden] { display: none; }` but bootstrap.min.css set `[hidden] { display: none !important; }` so we also need the `!important` here to be able to override the default hidden behavior on the sphinx rendered scikit-learn.org. See: https://github.com/scikit-learn/scikit-learn/issues/21755 */display: inline-block !important;position: relative;}#sk-container-id-4 div.sk-text-repr-fallback {display: none;}</style><div id=\"sk-container-id-4\" class=\"sk-top-container\"><div class=\"sk-text-repr-fallback\"><pre>RandomForestRegressor(random_state=42)</pre><b>In a Jupyter environment, please rerun this cell to show the HTML representation or trust the notebook. <br />On GitHub, the HTML representation is unable to render, please try loading this page with nbviewer.org.</b></div><div class=\"sk-container\" hidden><div class=\"sk-item\"><div class=\"sk-estimator sk-toggleable\"><input class=\"sk-toggleable__control sk-hidden--visually\" id=\"sk-estimator-id-4\" type=\"checkbox\" checked><label for=\"sk-estimator-id-4\" class=\"sk-toggleable__label sk-toggleable__label-arrow\">RandomForestRegressor</label><div class=\"sk-toggleable__content\"><pre>RandomForestRegressor(random_state=42)</pre></div></div></div></div></div>"
      ],
      "text/plain": [
       "RandomForestRegressor(random_state=42)"
      ]
     },
     "execution_count": 58,
     "metadata": {},
     "output_type": "execute_result"
    }
   ],
   "source": [
    "model = RandomForestRegressor(n_estimators=100, random_state=42)\n",
    "model.fit(X_train, y_train)\n"
   ]
  },
  {
   "cell_type": "code",
   "execution_count": 60,
   "id": "bdb8021a-d36d-4eea-b295-51bdaba61689",
   "metadata": {},
   "outputs": [
    {
     "name": "stdout",
     "output_type": "stream",
     "text": [
      "R² Score: 0.7390127847033894\n",
      "RMSE: 101.62796895552546\n"
     ]
    }
   ],
   "source": [
    "y_pred = model.predict(X_test)\n",
    "\n",
    "print(\"R² Score:\", r2_score(y_test, y_pred))\n",
    "print(\"RMSE:\", np.sqrt(mean_squared_error(y_test, y_pred)))\n",
    "\n",
    "\n"
   ]
  },
  {
   "cell_type": "code",
   "execution_count": 61,
   "id": "2aac8fc5-373a-4a65-9a4a-cb1e204786dd",
   "metadata": {},
   "outputs": [],
   "source": [
    "wallet_df[\"predicted_risk_score\"] = model.predict(scaler.transform(X))\n",
    "wallet_df[\"predicted_risk_score\"] = wallet_df[\"predicted_risk_score\"].clip(0, 1000).round(2)\n",
    "\n",
    "wallet_df[[\"wallet_id\", \"predicted_risk_score\"]].to_csv(\"wallet_risk_scores_ml.csv\", index=False)\n"
   ]
  },
  {
   "cell_type": "code",
   "execution_count": 62,
   "id": "9fb6da9c-6587-4cfa-8ca3-2822929c009f",
   "metadata": {},
   "outputs": [],
   "source": [
    "wallet_df[\"borrow_to_collateral\"] = wallet_df[\"borrow_eth\"] / (wallet_df[\"collateral_eth\"] + 1e-6)\n",
    "wallet_df[\"borrow_to_supply\"] = wallet_df[\"borrowed_assets\"] / (wallet_df[\"supplied_assets\"] + 1e-6)\n",
    "wallet_df[\"net_exposure\"] = wallet_df[\"borrow_eth\"] - wallet_df[\"collateral_eth\"]\n",
    "wallet_df[\"utilization\"] = wallet_df[\"borrow_eth\"] / (wallet_df[\"borrow_eth\"] + wallet_df[\"collateral_eth\"] + 1e-6)\n"
   ]
  },
  {
   "cell_type": "code",
   "execution_count": 84,
   "id": "23dca6fa-7566-4b64-8e85-f3f59f6b87fd",
   "metadata": {},
   "outputs": [],
   "source": [
    "# Use only the original 5 features used during training\n",
    "features = [\n",
    "    \"borrow_eth\", \n",
    "    \"collateral_eth\", \n",
    "    \"health\", \n",
    "    \"supplied_assets\", \n",
    "    \"borrowed_assets\"\n",
    "]"
   ]
  },
  {
   "cell_type": "code",
   "execution_count": 64,
   "id": "e21d30b3-3325-4f27-b01d-016a7fabcdb9",
   "metadata": {},
   "outputs": [],
   "source": [
    "model = RandomForestRegressor(\n",
    "    n_estimators=300,\n",
    "    max_depth=10,\n",
    "    min_samples_split=5,\n",
    "    min_samples_leaf=2,\n",
    "    max_features='sqrt',\n",
    "    random_state=42\n",
    ")\n"
   ]
  },
  {
   "cell_type": "code",
   "execution_count": 66,
   "id": "539403dc-96b1-4dcd-8f2b-66d2ae0fb08b",
   "metadata": {},
   "outputs": [
    {
     "name": "stdout",
     "output_type": "stream",
     "text": [
      "Collecting xgboost\n",
      "  Downloading xgboost-3.0.2-py3-none-win_amd64.whl.metadata (2.1 kB)\n",
      "Requirement already satisfied: numpy in c:\\users\\nazara parween\\anaconda3\\lib\\site-packages (from xgboost) (1.26.4)\n",
      "Requirement already satisfied: scipy in c:\\users\\nazara parween\\anaconda3\\lib\\site-packages (from xgboost) (1.11.4)\n",
      "Downloading xgboost-3.0.2-py3-none-win_amd64.whl (150.0 MB)\n",
      "   ---------------------------------------- 0.0/150.0 MB ? eta -:--:--\n",
      "   ---------------------------------------- 0.0/150.0 MB ? eta -:--:--\n",
      "   ---------------------------------------- 0.0/150.0 MB ? eta -:--:--\n",
      "   ---------------------------------------- 0.0/150.0 MB ? eta -:--:--\n",
      "   ---------------------------------------- 0.0/150.0 MB ? eta -:--:--\n",
      "   ---------------------------------------- 0.0/150.0 MB ? eta -:--:--\n",
      "   ---------------------------------------- 0.0/150.0 MB 653.6 kB/s eta 0:03:50\n",
      "   ---------------------------------------- 0.0/150.0 MB 653.6 kB/s eta 0:03:50\n",
      "   ---------------------------------------- 0.0/150.0 MB 653.6 kB/s eta 0:03:50\n",
      "   ---------------------------------------- 0.0/150.0 MB 653.6 kB/s eta 0:03:50\n",
      "   ---------------------------------------- 0.1/150.0 MB 409.6 kB/s eta 0:06:06\n",
      "   ---------------------------------------- 0.1/150.0 MB 425.1 kB/s eta 0:05:53\n",
      "   ---------------------------------------- 0.1/150.0 MB 425.1 kB/s eta 0:05:53\n",
      "   ---------------------------------------- 0.1/150.0 MB 425.1 kB/s eta 0:05:53\n",
      "   ---------------------------------------- 0.1/150.0 MB 425.1 kB/s eta 0:05:53\n",
      "   ---------------------------------------- 0.2/150.0 MB 338.5 kB/s eta 0:07:23\n",
      "   ---------------------------------------- 0.2/150.0 MB 368.6 kB/s eta 0:06:47\n",
      "   ---------------------------------------- 0.2/150.0 MB 368.6 kB/s eta 0:06:47\n",
      "   ---------------------------------------- 0.2/150.0 MB 368.6 kB/s eta 0:06:47\n",
      "   ---------------------------------------- 0.2/150.0 MB 368.6 kB/s eta 0:06:47\n",
      "   ---------------------------------------- 0.2/150.0 MB 305.9 kB/s eta 0:08:10\n",
      "   ---------------------------------------- 0.2/150.0 MB 327.6 kB/s eta 0:07:38\n",
      "   ---------------------------------------- 0.3/150.0 MB 340.9 kB/s eta 0:07:20\n",
      "   ---------------------------------------- 0.3/150.0 MB 395.7 kB/s eta 0:06:19\n",
      "   ---------------------------------------- 0.5/150.0 MB 540.8 kB/s eta 0:04:37\n",
      "   ---------------------------------------- 0.6/150.0 MB 633.9 kB/s eta 0:03:56\n",
      "   ---------------------------------------- 0.7/150.0 MB 738.9 kB/s eta 0:03:22\n",
      "   ---------------------------------------- 0.9/150.0 MB 844.2 kB/s eta 0:02:57\n",
      "   ---------------------------------------- 1.0/150.0 MB 930.9 kB/s eta 0:02:41\n",
      "   ---------------------------------------- 1.1/150.0 MB 1.0 MB/s eta 0:02:28\n",
      "   ---------------------------------------- 1.3/150.0 MB 1.1 MB/s eta 0:02:20\n",
      "   ---------------------------------------- 1.4/150.0 MB 1.1 MB/s eta 0:02:11\n",
      "   ---------------------------------------- 1.5/150.0 MB 1.2 MB/s eta 0:02:02\n",
      "   ---------------------------------------- 1.7/150.0 MB 1.3 MB/s eta 0:01:56\n",
      "   ---------------------------------------- 1.8/150.0 MB 1.4 MB/s eta 0:01:50\n",
      "    --------------------------------------- 2.0/150.0 MB 1.4 MB/s eta 0:01:45\n",
      "    --------------------------------------- 2.1/150.0 MB 1.5 MB/s eta 0:01:40\n",
      "    --------------------------------------- 2.3/150.0 MB 1.5 MB/s eta 0:01:36\n",
      "    --------------------------------------- 2.4/150.0 MB 1.6 MB/s eta 0:01:35\n",
      "    --------------------------------------- 2.6/150.0 MB 1.6 MB/s eta 0:01:31\n",
      "    --------------------------------------- 2.7/150.0 MB 1.7 MB/s eta 0:01:28\n",
      "    --------------------------------------- 2.9/150.0 MB 1.7 MB/s eta 0:01:26\n",
      "    --------------------------------------- 3.0/150.0 MB 1.8 MB/s eta 0:01:24\n",
      "    --------------------------------------- 3.2/150.0 MB 1.8 MB/s eta 0:01:22\n",
      "    --------------------------------------- 3.3/150.0 MB 1.8 MB/s eta 0:01:21\n",
      "    --------------------------------------- 3.5/150.0 MB 1.9 MB/s eta 0:01:20\n",
      "    --------------------------------------- 3.6/150.0 MB 1.9 MB/s eta 0:01:18\n",
      "   - -------------------------------------- 3.8/150.0 MB 1.9 MB/s eta 0:01:16\n",
      "   - -------------------------------------- 3.9/150.0 MB 2.0 MB/s eta 0:01:15\n",
      "   - -------------------------------------- 4.1/150.0 MB 2.0 MB/s eta 0:01:14\n",
      "   - -------------------------------------- 4.2/150.0 MB 2.0 MB/s eta 0:01:13\n",
      "   - -------------------------------------- 4.4/150.0 MB 2.0 MB/s eta 0:01:12\n",
      "   - -------------------------------------- 4.5/150.0 MB 2.1 MB/s eta 0:01:11\n",
      "   - -------------------------------------- 4.7/150.0 MB 2.1 MB/s eta 0:01:10\n",
      "   - -------------------------------------- 4.9/150.0 MB 2.1 MB/s eta 0:01:09\n",
      "   - -------------------------------------- 5.0/150.0 MB 2.1 MB/s eta 0:01:08\n",
      "   - -------------------------------------- 5.2/150.0 MB 2.2 MB/s eta 0:01:07\n",
      "   - -------------------------------------- 5.3/150.0 MB 2.2 MB/s eta 0:01:06\n",
      "   - -------------------------------------- 5.4/150.0 MB 2.2 MB/s eta 0:01:06\n",
      "   - -------------------------------------- 5.6/150.0 MB 2.2 MB/s eta 0:01:05\n",
      "   - -------------------------------------- 5.7/150.0 MB 2.3 MB/s eta 0:01:05\n",
      "   - -------------------------------------- 5.9/150.0 MB 2.3 MB/s eta 0:01:04\n",
      "   - -------------------------------------- 6.1/150.0 MB 2.3 MB/s eta 0:01:03\n",
      "   - -------------------------------------- 6.3/150.0 MB 2.3 MB/s eta 0:01:02\n",
      "   - -------------------------------------- 6.4/150.0 MB 2.3 MB/s eta 0:01:02\n",
      "   - -------------------------------------- 6.6/150.0 MB 2.4 MB/s eta 0:01:01\n",
      "   - -------------------------------------- 6.7/150.0 MB 2.4 MB/s eta 0:01:01\n",
      "   - -------------------------------------- 6.9/150.0 MB 2.4 MB/s eta 0:01:01\n",
      "   - -------------------------------------- 7.0/150.0 MB 2.4 MB/s eta 0:01:00\n",
      "   - -------------------------------------- 7.2/150.0 MB 2.4 MB/s eta 0:01:00\n",
      "   - -------------------------------------- 7.3/150.0 MB 2.4 MB/s eta 0:00:59\n",
      "   -- ------------------------------------- 7.5/150.0 MB 2.5 MB/s eta 0:00:59\n",
      "   -- ------------------------------------- 7.7/150.0 MB 2.5 MB/s eta 0:00:58\n",
      "   -- ------------------------------------- 7.9/150.0 MB 2.5 MB/s eta 0:00:58\n",
      "   -- ------------------------------------- 8.0/150.0 MB 2.5 MB/s eta 0:00:57\n",
      "   -- ------------------------------------- 8.2/150.0 MB 2.5 MB/s eta 0:00:57\n",
      "   -- ------------------------------------- 8.3/150.0 MB 2.5 MB/s eta 0:00:57\n",
      "   -- ------------------------------------- 8.5/150.0 MB 2.5 MB/s eta 0:00:56\n",
      "   -- ------------------------------------- 8.7/150.0 MB 2.6 MB/s eta 0:00:56\n",
      "   -- ------------------------------------- 8.9/150.0 MB 2.6 MB/s eta 0:00:55\n",
      "   -- ------------------------------------- 9.0/150.0 MB 2.6 MB/s eta 0:00:55\n",
      "   -- ------------------------------------- 9.2/150.0 MB 2.6 MB/s eta 0:00:55\n",
      "   -- ------------------------------------- 9.3/150.0 MB 2.6 MB/s eta 0:00:54\n",
      "   -- ------------------------------------- 9.5/150.0 MB 2.6 MB/s eta 0:00:54\n",
      "   -- ------------------------------------- 9.7/150.0 MB 2.6 MB/s eta 0:00:54\n",
      "   -- ------------------------------------- 9.9/150.0 MB 2.7 MB/s eta 0:00:53\n",
      "   -- ------------------------------------- 10.0/150.0 MB 2.7 MB/s eta 0:00:53\n",
      "   -- ------------------------------------- 10.2/150.0 MB 2.7 MB/s eta 0:00:53\n",
      "   -- ------------------------------------- 10.4/150.0 MB 2.8 MB/s eta 0:00:50\n",
      "   -- ------------------------------------- 10.5/150.0 MB 3.3 MB/s eta 0:00:42\n",
      "   -- ------------------------------------- 10.7/150.0 MB 3.3 MB/s eta 0:00:42\n",
      "   -- ------------------------------------- 10.8/150.0 MB 3.3 MB/s eta 0:00:42\n",
      "   -- ------------------------------------- 11.0/150.0 MB 3.4 MB/s eta 0:00:42\n",
      "   -- ------------------------------------- 11.2/150.0 MB 3.4 MB/s eta 0:00:42\n",
      "   --- ------------------------------------ 11.4/150.0 MB 3.4 MB/s eta 0:00:41\n",
      "   --- ------------------------------------ 11.6/150.0 MB 3.4 MB/s eta 0:00:41\n",
      "   --- ------------------------------------ 11.7/150.0 MB 3.4 MB/s eta 0:00:41\n",
      "   --- ------------------------------------ 11.9/150.0 MB 3.4 MB/s eta 0:00:41\n",
      "   --- ------------------------------------ 12.1/150.0 MB 3.4 MB/s eta 0:00:41\n",
      "   --- ------------------------------------ 12.2/150.0 MB 3.4 MB/s eta 0:00:40\n",
      "   --- ------------------------------------ 12.4/150.0 MB 3.4 MB/s eta 0:00:40\n",
      "   --- ------------------------------------ 12.6/150.0 MB 3.4 MB/s eta 0:00:40\n",
      "   --- ------------------------------------ 12.7/150.0 MB 3.5 MB/s eta 0:00:40\n",
      "   --- ------------------------------------ 12.9/150.0 MB 3.5 MB/s eta 0:00:40\n",
      "   --- ------------------------------------ 13.0/150.0 MB 3.5 MB/s eta 0:00:40\n",
      "   --- ------------------------------------ 13.1/150.0 MB 3.5 MB/s eta 0:00:40\n",
      "   --- ------------------------------------ 13.4/150.0 MB 3.5 MB/s eta 0:00:40\n",
      "   --- ------------------------------------ 13.5/150.0 MB 3.5 MB/s eta 0:00:40\n",
      "   --- ------------------------------------ 13.7/150.0 MB 3.5 MB/s eta 0:00:40\n",
      "   --- ------------------------------------ 13.8/150.0 MB 3.5 MB/s eta 0:00:39\n",
      "   --- ------------------------------------ 14.0/150.0 MB 3.5 MB/s eta 0:00:39\n",
      "   --- ------------------------------------ 14.1/150.0 MB 3.5 MB/s eta 0:00:39\n",
      "   --- ------------------------------------ 14.3/150.0 MB 3.5 MB/s eta 0:00:39\n",
      "   --- ------------------------------------ 14.4/150.0 MB 3.5 MB/s eta 0:00:39\n",
      "   --- ------------------------------------ 14.6/150.0 MB 3.5 MB/s eta 0:00:39\n",
      "   --- ------------------------------------ 14.7/150.0 MB 3.5 MB/s eta 0:00:39\n",
      "   --- ------------------------------------ 14.9/150.0 MB 3.5 MB/s eta 0:00:39\n",
      "   ---- ----------------------------------- 15.0/150.0 MB 3.5 MB/s eta 0:00:39\n",
      "   ---- ----------------------------------- 15.1/150.0 MB 3.5 MB/s eta 0:00:39\n",
      "   ---- ----------------------------------- 15.2/150.0 MB 3.5 MB/s eta 0:00:39\n",
      "   ---- ----------------------------------- 15.4/150.0 MB 3.5 MB/s eta 0:00:39\n",
      "   ---- ----------------------------------- 15.5/150.0 MB 3.5 MB/s eta 0:00:39\n",
      "   ---- ----------------------------------- 15.7/150.0 MB 3.5 MB/s eta 0:00:39\n",
      "   ---- ----------------------------------- 15.9/150.0 MB 3.5 MB/s eta 0:00:39\n",
      "   ---- ----------------------------------- 16.1/150.0 MB 3.5 MB/s eta 0:00:39\n",
      "   ---- ----------------------------------- 16.2/150.0 MB 3.5 MB/s eta 0:00:39\n",
      "   ---- ----------------------------------- 16.4/150.0 MB 3.5 MB/s eta 0:00:39\n",
      "   ---- ----------------------------------- 16.6/150.0 MB 3.5 MB/s eta 0:00:38\n",
      "   ---- ----------------------------------- 16.7/150.0 MB 3.5 MB/s eta 0:00:38\n",
      "   ---- ----------------------------------- 16.9/150.0 MB 3.5 MB/s eta 0:00:38\n",
      "   ---- ----------------------------------- 17.1/150.0 MB 3.5 MB/s eta 0:00:38\n",
      "   ---- ----------------------------------- 17.3/150.0 MB 3.5 MB/s eta 0:00:38\n",
      "   ---- ----------------------------------- 17.4/150.0 MB 3.5 MB/s eta 0:00:38\n",
      "   ---- ----------------------------------- 17.6/150.0 MB 3.5 MB/s eta 0:00:38\n",
      "   ---- ----------------------------------- 17.7/150.0 MB 3.5 MB/s eta 0:00:38\n",
      "   ---- ----------------------------------- 17.9/150.0 MB 3.6 MB/s eta 0:00:38\n",
      "   ---- ----------------------------------- 18.1/150.0 MB 3.5 MB/s eta 0:00:38\n",
      "   ---- ----------------------------------- 18.2/150.0 MB 3.6 MB/s eta 0:00:38\n",
      "   ---- ----------------------------------- 18.4/150.0 MB 3.5 MB/s eta 0:00:38\n",
      "   ---- ----------------------------------- 18.6/150.0 MB 3.5 MB/s eta 0:00:38\n",
      "   ----- ---------------------------------- 18.8/150.0 MB 3.5 MB/s eta 0:00:38\n",
      "   ----- ---------------------------------- 18.9/150.0 MB 3.5 MB/s eta 0:00:38\n",
      "   ----- ---------------------------------- 19.1/150.0 MB 3.5 MB/s eta 0:00:37\n",
      "   ----- ---------------------------------- 19.3/150.0 MB 3.6 MB/s eta 0:00:37\n",
      "   ----- ---------------------------------- 19.5/150.0 MB 3.6 MB/s eta 0:00:37\n",
      "   ----- ---------------------------------- 19.6/150.0 MB 3.6 MB/s eta 0:00:37\n",
      "   ----- ---------------------------------- 19.8/150.0 MB 3.6 MB/s eta 0:00:37\n",
      "   ----- ---------------------------------- 20.0/150.0 MB 3.6 MB/s eta 0:00:37\n",
      "   ----- ---------------------------------- 20.1/150.0 MB 3.6 MB/s eta 0:00:37\n",
      "   ----- ---------------------------------- 20.3/150.0 MB 3.6 MB/s eta 0:00:37\n",
      "   ----- ---------------------------------- 20.5/150.0 MB 3.6 MB/s eta 0:00:37\n",
      "   ----- ---------------------------------- 20.6/150.0 MB 3.6 MB/s eta 0:00:37\n",
      "   ----- ---------------------------------- 20.8/150.0 MB 3.6 MB/s eta 0:00:37\n",
      "   ----- ---------------------------------- 20.9/150.0 MB 3.6 MB/s eta 0:00:37\n",
      "   ----- ---------------------------------- 21.1/150.0 MB 3.6 MB/s eta 0:00:37\n",
      "   ----- ---------------------------------- 21.2/150.0 MB 3.5 MB/s eta 0:00:37\n",
      "   ----- ---------------------------------- 21.4/150.0 MB 3.5 MB/s eta 0:00:37\n",
      "   ----- ---------------------------------- 21.6/150.0 MB 3.6 MB/s eta 0:00:37\n",
      "   ----- ---------------------------------- 21.7/150.0 MB 3.6 MB/s eta 0:00:37\n",
      "   ----- ---------------------------------- 21.9/150.0 MB 3.6 MB/s eta 0:00:36\n",
      "   ----- ---------------------------------- 22.1/150.0 MB 3.5 MB/s eta 0:00:37\n",
      "   ----- ---------------------------------- 22.2/150.0 MB 3.6 MB/s eta 0:00:36\n",
      "   ----- ---------------------------------- 22.4/150.0 MB 3.6 MB/s eta 0:00:36\n",
      "   ------ --------------------------------- 22.6/150.0 MB 3.6 MB/s eta 0:00:36\n",
      "   ------ --------------------------------- 22.8/150.0 MB 3.6 MB/s eta 0:00:36\n",
      "   ------ --------------------------------- 22.9/150.0 MB 3.6 MB/s eta 0:00:36\n",
      "   ------ --------------------------------- 23.1/150.0 MB 3.6 MB/s eta 0:00:36\n",
      "   ------ --------------------------------- 23.2/150.0 MB 3.6 MB/s eta 0:00:36\n",
      "   ------ --------------------------------- 23.4/150.0 MB 3.6 MB/s eta 0:00:36\n",
      "   ------ --------------------------------- 23.6/150.0 MB 3.6 MB/s eta 0:00:36\n",
      "   ------ --------------------------------- 23.8/150.0 MB 3.6 MB/s eta 0:00:36\n",
      "   ------ --------------------------------- 23.9/150.0 MB 3.6 MB/s eta 0:00:36\n",
      "   ------ --------------------------------- 24.1/150.0 MB 3.6 MB/s eta 0:00:36\n",
      "   ------ --------------------------------- 24.2/150.0 MB 3.6 MB/s eta 0:00:36\n",
      "   ------ --------------------------------- 24.4/150.0 MB 3.6 MB/s eta 0:00:36\n",
      "   ------ --------------------------------- 24.6/150.0 MB 3.6 MB/s eta 0:00:36\n",
      "   ------ --------------------------------- 24.7/150.0 MB 3.6 MB/s eta 0:00:36\n",
      "   ------ --------------------------------- 24.9/150.0 MB 3.6 MB/s eta 0:00:36\n",
      "   ------ --------------------------------- 25.0/150.0 MB 3.6 MB/s eta 0:00:35\n",
      "   ------ --------------------------------- 25.2/150.0 MB 3.6 MB/s eta 0:00:36\n",
      "   ------ --------------------------------- 25.3/150.0 MB 3.6 MB/s eta 0:00:35\n",
      "   ------ --------------------------------- 25.5/150.0 MB 3.6 MB/s eta 0:00:35\n",
      "   ------ --------------------------------- 25.7/150.0 MB 3.6 MB/s eta 0:00:35\n",
      "   ------ --------------------------------- 25.8/150.0 MB 3.6 MB/s eta 0:00:35\n",
      "   ------ --------------------------------- 26.0/150.0 MB 3.6 MB/s eta 0:00:35\n",
      "   ------ --------------------------------- 26.2/150.0 MB 3.6 MB/s eta 0:00:35\n",
      "   ------- -------------------------------- 26.4/150.0 MB 3.6 MB/s eta 0:00:35\n",
      "   ------- -------------------------------- 26.5/150.0 MB 3.6 MB/s eta 0:00:35\n",
      "   ------- -------------------------------- 26.7/150.0 MB 3.6 MB/s eta 0:00:35\n",
      "   ------- -------------------------------- 26.8/150.0 MB 3.6 MB/s eta 0:00:35\n",
      "   ------- -------------------------------- 27.0/150.0 MB 3.6 MB/s eta 0:00:34\n",
      "   ------- -------------------------------- 27.2/150.0 MB 3.6 MB/s eta 0:00:35\n",
      "   ------- -------------------------------- 27.3/150.0 MB 3.6 MB/s eta 0:00:35\n",
      "   ------- -------------------------------- 27.5/150.0 MB 3.6 MB/s eta 0:00:34\n",
      "   ------- -------------------------------- 27.7/150.0 MB 3.6 MB/s eta 0:00:34\n",
      "   ------- -------------------------------- 27.8/150.0 MB 3.6 MB/s eta 0:00:34\n",
      "   ------- -------------------------------- 28.0/150.0 MB 3.6 MB/s eta 0:00:34\n",
      "   ------- -------------------------------- 28.2/150.0 MB 3.6 MB/s eta 0:00:34\n",
      "   ------- -------------------------------- 28.3/150.0 MB 3.6 MB/s eta 0:00:34\n",
      "   ------- -------------------------------- 28.5/150.0 MB 3.6 MB/s eta 0:00:34\n",
      "   ------- -------------------------------- 28.6/150.0 MB 3.6 MB/s eta 0:00:34\n",
      "   ------- -------------------------------- 28.8/150.0 MB 3.6 MB/s eta 0:00:34\n",
      "   ------- -------------------------------- 29.0/150.0 MB 3.6 MB/s eta 0:00:34\n",
      "   ------- -------------------------------- 29.2/150.0 MB 3.6 MB/s eta 0:00:34\n",
      "   ------- -------------------------------- 29.3/150.0 MB 3.6 MB/s eta 0:00:34\n",
      "   ------- -------------------------------- 29.5/150.0 MB 3.6 MB/s eta 0:00:34\n",
      "   ------- -------------------------------- 29.7/150.0 MB 3.6 MB/s eta 0:00:34\n",
      "   ------- -------------------------------- 29.8/150.0 MB 3.6 MB/s eta 0:00:34\n",
      "   ------- -------------------------------- 30.0/150.0 MB 3.6 MB/s eta 0:00:34\n",
      "   -------- ------------------------------- 30.1/150.0 MB 3.6 MB/s eta 0:00:34\n",
      "   -------- ------------------------------- 30.3/150.0 MB 3.6 MB/s eta 0:00:34\n",
      "   -------- ------------------------------- 30.5/150.0 MB 3.6 MB/s eta 0:00:34\n",
      "   -------- ------------------------------- 30.6/150.0 MB 3.6 MB/s eta 0:00:33\n",
      "   -------- ------------------------------- 30.7/150.0 MB 3.6 MB/s eta 0:00:34\n",
      "   -------- ------------------------------- 30.9/150.0 MB 3.6 MB/s eta 0:00:34\n",
      "   -------- ------------------------------- 31.0/150.0 MB 3.6 MB/s eta 0:00:34\n",
      "   -------- ------------------------------- 31.2/150.0 MB 3.6 MB/s eta 0:00:34\n",
      "   -------- ------------------------------- 31.4/150.0 MB 3.6 MB/s eta 0:00:33\n",
      "   -------- ------------------------------- 31.5/150.0 MB 3.6 MB/s eta 0:00:34\n",
      "   -------- ------------------------------- 31.7/150.0 MB 3.6 MB/s eta 0:00:34\n",
      "   -------- ------------------------------- 31.8/150.0 MB 3.6 MB/s eta 0:00:34\n",
      "   -------- ------------------------------- 32.0/150.0 MB 3.6 MB/s eta 0:00:33\n",
      "   -------- ------------------------------- 32.2/150.0 MB 3.6 MB/s eta 0:00:33\n",
      "   -------- ------------------------------- 32.3/150.0 MB 3.6 MB/s eta 0:00:33\n",
      "   -------- ------------------------------- 32.5/150.0 MB 3.6 MB/s eta 0:00:34\n",
      "   -------- ------------------------------- 32.6/150.0 MB 3.6 MB/s eta 0:00:33\n",
      "   -------- ------------------------------- 32.8/150.0 MB 3.6 MB/s eta 0:00:33\n",
      "   -------- ------------------------------- 32.9/150.0 MB 3.6 MB/s eta 0:00:33\n",
      "   -------- ------------------------------- 33.1/150.0 MB 3.6 MB/s eta 0:00:33\n",
      "   -------- ------------------------------- 33.3/150.0 MB 3.6 MB/s eta 0:00:33\n",
      "   -------- ------------------------------- 33.4/150.0 MB 3.6 MB/s eta 0:00:33\n",
      "   -------- ------------------------------- 33.6/150.0 MB 3.6 MB/s eta 0:00:33\n",
      "   --------- ------------------------------ 33.8/150.0 MB 3.6 MB/s eta 0:00:33\n",
      "   --------- ------------------------------ 33.9/150.0 MB 3.6 MB/s eta 0:00:33\n",
      "   --------- ------------------------------ 34.1/150.0 MB 3.6 MB/s eta 0:00:33\n",
      "   --------- ------------------------------ 34.3/150.0 MB 3.6 MB/s eta 0:00:33\n",
      "   --------- ------------------------------ 34.4/150.0 MB 3.6 MB/s eta 0:00:33\n",
      "   --------- ------------------------------ 34.6/150.0 MB 3.6 MB/s eta 0:00:33\n",
      "   --------- ------------------------------ 34.8/150.0 MB 3.6 MB/s eta 0:00:33\n",
      "   --------- ------------------------------ 34.9/150.0 MB 3.6 MB/s eta 0:00:33\n",
      "   --------- ------------------------------ 35.1/150.0 MB 3.6 MB/s eta 0:00:33\n",
      "   --------- ------------------------------ 35.2/150.0 MB 3.5 MB/s eta 0:00:33\n",
      "   --------- ------------------------------ 35.4/150.0 MB 3.6 MB/s eta 0:00:33\n",
      "   --------- ------------------------------ 35.5/150.0 MB 3.5 MB/s eta 0:00:33\n",
      "   --------- ------------------------------ 35.7/150.0 MB 3.6 MB/s eta 0:00:33\n",
      "   --------- ------------------------------ 35.9/150.0 MB 3.6 MB/s eta 0:00:32\n",
      "   --------- ------------------------------ 36.1/150.0 MB 3.6 MB/s eta 0:00:33\n",
      "   --------- ------------------------------ 36.2/150.0 MB 3.6 MB/s eta 0:00:32\n",
      "   --------- ------------------------------ 36.4/150.0 MB 3.6 MB/s eta 0:00:32\n",
      "   --------- ------------------------------ 36.6/150.0 MB 3.6 MB/s eta 0:00:32\n",
      "   --------- ------------------------------ 36.7/150.0 MB 3.6 MB/s eta 0:00:32\n",
      "   --------- ------------------------------ 36.9/150.0 MB 3.6 MB/s eta 0:00:32\n",
      "   --------- ------------------------------ 37.0/150.0 MB 3.6 MB/s eta 0:00:32\n",
      "   --------- ------------------------------ 37.2/150.0 MB 3.6 MB/s eta 0:00:32\n",
      "   --------- ------------------------------ 37.3/150.0 MB 3.6 MB/s eta 0:00:32\n",
      "   ---------- ----------------------------- 37.5/150.0 MB 3.6 MB/s eta 0:00:32\n",
      "   ---------- ----------------------------- 37.7/150.0 MB 3.6 MB/s eta 0:00:32\n",
      "   ---------- ----------------------------- 37.8/150.0 MB 3.6 MB/s eta 0:00:32\n",
      "   ---------- ----------------------------- 38.0/150.0 MB 3.6 MB/s eta 0:00:32\n",
      "   ---------- ----------------------------- 38.1/150.0 MB 3.6 MB/s eta 0:00:32\n",
      "   ---------- ----------------------------- 38.3/150.0 MB 3.6 MB/s eta 0:00:32\n",
      "   ---------- ----------------------------- 38.5/150.0 MB 3.6 MB/s eta 0:00:32\n",
      "   ---------- ----------------------------- 38.6/150.0 MB 3.6 MB/s eta 0:00:32\n",
      "   ---------- ----------------------------- 38.8/150.0 MB 3.6 MB/s eta 0:00:32\n",
      "   ---------- ----------------------------- 39.0/150.0 MB 3.6 MB/s eta 0:00:32\n",
      "   ---------- ----------------------------- 39.1/150.0 MB 3.6 MB/s eta 0:00:32\n",
      "   ---------- ----------------------------- 39.3/150.0 MB 3.6 MB/s eta 0:00:32\n",
      "   ---------- ----------------------------- 39.4/150.0 MB 3.6 MB/s eta 0:00:32\n",
      "   ---------- ----------------------------- 39.6/150.0 MB 3.6 MB/s eta 0:00:32\n",
      "   ---------- ----------------------------- 39.8/150.0 MB 3.6 MB/s eta 0:00:31\n",
      "   ---------- ----------------------------- 40.0/150.0 MB 3.6 MB/s eta 0:00:31\n",
      "   ---------- ----------------------------- 40.1/150.0 MB 3.5 MB/s eta 0:00:32\n",
      "   ---------- ----------------------------- 40.3/150.0 MB 3.6 MB/s eta 0:00:31\n",
      "   ---------- ----------------------------- 40.5/150.0 MB 3.6 MB/s eta 0:00:31\n",
      "   ---------- ----------------------------- 40.7/150.0 MB 3.6 MB/s eta 0:00:31\n",
      "   ---------- ----------------------------- 40.8/150.0 MB 3.6 MB/s eta 0:00:31\n",
      "   ---------- ----------------------------- 40.9/150.0 MB 3.6 MB/s eta 0:00:31\n",
      "   ---------- ----------------------------- 41.1/150.0 MB 3.6 MB/s eta 0:00:31\n",
      "   ----------- ---------------------------- 41.3/150.0 MB 3.6 MB/s eta 0:00:31\n",
      "   ----------- ---------------------------- 41.5/150.0 MB 3.6 MB/s eta 0:00:31\n",
      "   ----------- ---------------------------- 41.7/150.0 MB 3.6 MB/s eta 0:00:31\n",
      "   ----------- ---------------------------- 41.9/150.0 MB 3.6 MB/s eta 0:00:31\n",
      "   ----------- ---------------------------- 42.0/150.0 MB 3.6 MB/s eta 0:00:30\n",
      "   ----------- ---------------------------- 42.2/150.0 MB 3.6 MB/s eta 0:00:30\n",
      "   ----------- ---------------------------- 42.3/150.0 MB 3.6 MB/s eta 0:00:30\n",
      "   ----------- ---------------------------- 42.5/150.0 MB 3.6 MB/s eta 0:00:30\n",
      "   ----------- ---------------------------- 42.7/150.0 MB 3.6 MB/s eta 0:00:30\n",
      "   ----------- ---------------------------- 42.8/150.0 MB 3.6 MB/s eta 0:00:30\n",
      "   ----------- ---------------------------- 43.0/150.0 MB 3.6 MB/s eta 0:00:30\n",
      "   ----------- ---------------------------- 43.2/150.0 MB 3.6 MB/s eta 0:00:30\n",
      "   ----------- ---------------------------- 43.4/150.0 MB 3.6 MB/s eta 0:00:30\n",
      "   ----------- ---------------------------- 43.5/150.0 MB 3.6 MB/s eta 0:00:30\n",
      "   ----------- ---------------------------- 43.7/150.0 MB 3.6 MB/s eta 0:00:30\n",
      "   ----------- ---------------------------- 43.8/150.0 MB 3.6 MB/s eta 0:00:30\n",
      "   ----------- ---------------------------- 44.0/150.0 MB 3.6 MB/s eta 0:00:30\n",
      "   ----------- ---------------------------- 44.1/150.0 MB 3.6 MB/s eta 0:00:30\n",
      "   ----------- ---------------------------- 44.3/150.0 MB 3.6 MB/s eta 0:00:30\n",
      "   ----------- ---------------------------- 44.5/150.0 MB 3.6 MB/s eta 0:00:30\n",
      "   ----------- ---------------------------- 44.6/150.0 MB 3.6 MB/s eta 0:00:30\n",
      "   ----------- ---------------------------- 44.8/150.0 MB 3.6 MB/s eta 0:00:30\n",
      "   ----------- ---------------------------- 45.0/150.0 MB 3.6 MB/s eta 0:00:30\n",
      "   ------------ --------------------------- 45.1/150.0 MB 3.6 MB/s eta 0:00:29\n",
      "   ------------ --------------------------- 45.3/150.0 MB 3.6 MB/s eta 0:00:29\n",
      "   ------------ --------------------------- 45.5/150.0 MB 3.6 MB/s eta 0:00:29\n",
      "   ------------ --------------------------- 45.6/150.0 MB 3.6 MB/s eta 0:00:29\n",
      "   ------------ --------------------------- 45.8/150.0 MB 3.6 MB/s eta 0:00:29\n",
      "   ------------ --------------------------- 45.9/150.0 MB 3.6 MB/s eta 0:00:29\n",
      "   ------------ --------------------------- 46.1/150.0 MB 3.6 MB/s eta 0:00:29\n",
      "   ------------ --------------------------- 46.3/150.0 MB 3.6 MB/s eta 0:00:29\n",
      "   ------------ --------------------------- 46.4/150.0 MB 3.6 MB/s eta 0:00:29\n",
      "   ------------ --------------------------- 46.6/150.0 MB 3.6 MB/s eta 0:00:29\n",
      "   ------------ --------------------------- 46.8/150.0 MB 3.6 MB/s eta 0:00:29\n",
      "   ------------ --------------------------- 47.0/150.0 MB 3.6 MB/s eta 0:00:29\n",
      "   ------------ --------------------------- 47.1/150.0 MB 3.6 MB/s eta 0:00:29\n",
      "   ------------ --------------------------- 47.3/150.0 MB 3.6 MB/s eta 0:00:29\n",
      "   ------------ --------------------------- 47.5/150.0 MB 3.6 MB/s eta 0:00:29\n",
      "   ------------ --------------------------- 47.6/150.0 MB 3.6 MB/s eta 0:00:29\n",
      "   ------------ --------------------------- 47.8/150.0 MB 3.6 MB/s eta 0:00:29\n",
      "   ------------ --------------------------- 47.9/150.0 MB 3.6 MB/s eta 0:00:29\n",
      "   ------------ --------------------------- 48.0/150.0 MB 3.6 MB/s eta 0:00:29\n",
      "   ------------ --------------------------- 48.2/150.0 MB 3.6 MB/s eta 0:00:29\n",
      "   ------------ --------------------------- 48.4/150.0 MB 3.6 MB/s eta 0:00:29\n",
      "   ------------ --------------------------- 48.6/150.0 MB 3.6 MB/s eta 0:00:29\n",
      "   ------------ --------------------------- 48.7/150.0 MB 3.6 MB/s eta 0:00:28\n",
      "   ------------- -------------------------- 48.9/150.0 MB 3.6 MB/s eta 0:00:28\n",
      "   ------------- -------------------------- 49.0/150.0 MB 3.6 MB/s eta 0:00:28\n",
      "   ------------- -------------------------- 49.2/150.0 MB 3.6 MB/s eta 0:00:28\n",
      "   ------------- -------------------------- 49.4/150.0 MB 3.6 MB/s eta 0:00:28\n",
      "   ------------- -------------------------- 49.5/150.0 MB 3.6 MB/s eta 0:00:28\n",
      "   ------------- -------------------------- 49.7/150.0 MB 3.6 MB/s eta 0:00:28\n",
      "   ------------- -------------------------- 49.8/150.0 MB 3.6 MB/s eta 0:00:28\n",
      "   ------------- -------------------------- 50.0/150.0 MB 3.6 MB/s eta 0:00:28\n",
      "   ------------- -------------------------- 50.1/150.0 MB 3.6 MB/s eta 0:00:28\n",
      "   ------------- -------------------------- 50.3/150.0 MB 3.6 MB/s eta 0:00:28\n",
      "   ------------- -------------------------- 50.5/150.0 MB 3.6 MB/s eta 0:00:28\n",
      "   ------------- -------------------------- 50.6/150.0 MB 3.6 MB/s eta 0:00:28\n",
      "   ------------- -------------------------- 50.8/150.0 MB 3.6 MB/s eta 0:00:28\n",
      "   ------------- -------------------------- 51.0/150.0 MB 3.6 MB/s eta 0:00:28\n",
      "   ------------- -------------------------- 51.2/150.0 MB 3.6 MB/s eta 0:00:28\n",
      "   ------------- -------------------------- 51.3/150.0 MB 3.6 MB/s eta 0:00:28\n",
      "   ------------- -------------------------- 51.5/150.0 MB 3.6 MB/s eta 0:00:28\n",
      "   ------------- -------------------------- 51.6/150.0 MB 3.6 MB/s eta 0:00:28\n",
      "   ------------- -------------------------- 51.8/150.0 MB 3.6 MB/s eta 0:00:28\n",
      "   ------------- -------------------------- 51.9/150.0 MB 3.6 MB/s eta 0:00:28\n",
      "   ------------- -------------------------- 52.1/150.0 MB 3.6 MB/s eta 0:00:28\n",
      "   ------------- -------------------------- 52.2/150.0 MB 3.6 MB/s eta 0:00:28\n",
      "   ------------- -------------------------- 52.4/150.0 MB 3.6 MB/s eta 0:00:28\n",
      "   -------------- ------------------------- 52.5/150.0 MB 3.6 MB/s eta 0:00:28\n",
      "   -------------- ------------------------- 52.7/150.0 MB 3.6 MB/s eta 0:00:28\n",
      "   -------------- ------------------------- 52.9/150.0 MB 3.6 MB/s eta 0:00:28\n",
      "   -------------- ------------------------- 53.0/150.0 MB 3.5 MB/s eta 0:00:28\n",
      "   -------------- ------------------------- 53.2/150.0 MB 3.6 MB/s eta 0:00:28\n",
      "   -------------- ------------------------- 53.3/150.0 MB 3.6 MB/s eta 0:00:28\n",
      "   -------------- ------------------------- 53.5/150.0 MB 3.6 MB/s eta 0:00:28\n",
      "   -------------- ------------------------- 53.7/150.0 MB 3.6 MB/s eta 0:00:28\n",
      "   -------------- ------------------------- 53.8/150.0 MB 3.6 MB/s eta 0:00:28\n",
      "   -------------- ------------------------- 54.0/150.0 MB 3.6 MB/s eta 0:00:27\n",
      "   -------------- ------------------------- 54.2/150.0 MB 3.6 MB/s eta 0:00:27\n",
      "   -------------- ------------------------- 54.3/150.0 MB 3.6 MB/s eta 0:00:27\n",
      "   -------------- ------------------------- 54.5/150.0 MB 3.6 MB/s eta 0:00:27\n",
      "   -------------- ------------------------- 54.7/150.0 MB 3.6 MB/s eta 0:00:27\n",
      "   -------------- ------------------------- 54.8/150.0 MB 3.6 MB/s eta 0:00:27\n",
      "   -------------- ------------------------- 55.0/150.0 MB 3.6 MB/s eta 0:00:27\n",
      "   -------------- ------------------------- 55.2/150.0 MB 3.6 MB/s eta 0:00:27\n",
      "   -------------- ------------------------- 55.4/150.0 MB 3.6 MB/s eta 0:00:27\n",
      "   -------------- ------------------------- 55.5/150.0 MB 3.6 MB/s eta 0:00:27\n",
      "   -------------- ------------------------- 55.7/150.0 MB 3.6 MB/s eta 0:00:27\n",
      "   -------------- ------------------------- 55.8/150.0 MB 3.6 MB/s eta 0:00:27\n",
      "   -------------- ------------------------- 56.0/150.0 MB 3.6 MB/s eta 0:00:27\n",
      "   -------------- ------------------------- 56.1/150.0 MB 3.5 MB/s eta 0:00:27\n",
      "   --------------- ------------------------ 56.3/150.0 MB 3.5 MB/s eta 0:00:27\n",
      "   --------------- ------------------------ 56.5/150.0 MB 3.5 MB/s eta 0:00:27\n",
      "   --------------- ------------------------ 56.6/150.0 MB 3.6 MB/s eta 0:00:27\n",
      "   --------------- ------------------------ 56.8/150.0 MB 3.6 MB/s eta 0:00:27\n",
      "   --------------- ------------------------ 57.0/150.0 MB 3.5 MB/s eta 0:00:27\n",
      "   --------------- ------------------------ 57.1/150.0 MB 3.5 MB/s eta 0:00:27\n",
      "   --------------- ------------------------ 57.3/150.0 MB 3.6 MB/s eta 0:00:27\n",
      "   --------------- ------------------------ 57.5/150.0 MB 3.5 MB/s eta 0:00:27\n",
      "   --------------- ------------------------ 57.7/150.0 MB 3.5 MB/s eta 0:00:27\n",
      "   --------------- ------------------------ 57.8/150.0 MB 3.5 MB/s eta 0:00:27\n",
      "   --------------- ------------------------ 58.0/150.0 MB 3.6 MB/s eta 0:00:26\n",
      "   --------------- ------------------------ 58.2/150.0 MB 3.5 MB/s eta 0:00:26\n",
      "   --------------- ------------------------ 58.3/150.0 MB 3.5 MB/s eta 0:00:26\n",
      "   --------------- ------------------------ 58.5/150.0 MB 3.5 MB/s eta 0:00:26\n",
      "   --------------- ------------------------ 58.6/150.0 MB 3.5 MB/s eta 0:00:26\n",
      "   --------------- ------------------------ 58.8/150.0 MB 3.5 MB/s eta 0:00:26\n",
      "   --------------- ------------------------ 58.9/150.0 MB 3.5 MB/s eta 0:00:26\n",
      "   --------------- ------------------------ 59.1/150.0 MB 3.5 MB/s eta 0:00:26\n",
      "   --------------- ------------------------ 59.3/150.0 MB 3.5 MB/s eta 0:00:26\n",
      "   --------------- ------------------------ 59.4/150.0 MB 3.6 MB/s eta 0:00:26\n",
      "   --------------- ------------------------ 59.6/150.0 MB 3.5 MB/s eta 0:00:26\n",
      "   --------------- ------------------------ 59.8/150.0 MB 3.5 MB/s eta 0:00:26\n",
      "   --------------- ------------------------ 59.9/150.0 MB 3.5 MB/s eta 0:00:26\n",
      "   ---------------- ----------------------- 60.1/150.0 MB 3.5 MB/s eta 0:00:26\n",
      "   ---------------- ----------------------- 60.3/150.0 MB 3.5 MB/s eta 0:00:26\n",
      "   ---------------- ----------------------- 60.4/150.0 MB 3.6 MB/s eta 0:00:26\n",
      "   ---------------- ----------------------- 60.6/150.0 MB 3.6 MB/s eta 0:00:25\n",
      "   ---------------- ----------------------- 60.8/150.0 MB 3.6 MB/s eta 0:00:26\n",
      "   ---------------- ----------------------- 60.9/150.0 MB 3.6 MB/s eta 0:00:26\n",
      "   ---------------- ----------------------- 61.1/150.0 MB 3.6 MB/s eta 0:00:25\n",
      "   ---------------- ----------------------- 61.3/150.0 MB 3.6 MB/s eta 0:00:25\n",
      "   ---------------- ----------------------- 61.4/150.0 MB 3.6 MB/s eta 0:00:25\n",
      "   ---------------- ----------------------- 61.6/150.0 MB 3.6 MB/s eta 0:00:25\n",
      "   ---------------- ----------------------- 61.8/150.0 MB 3.6 MB/s eta 0:00:25\n",
      "   ---------------- ----------------------- 61.9/150.0 MB 3.6 MB/s eta 0:00:25\n",
      "   ---------------- ----------------------- 62.1/150.0 MB 3.6 MB/s eta 0:00:25\n",
      "   ---------------- ----------------------- 62.3/150.0 MB 3.6 MB/s eta 0:00:25\n",
      "   ---------------- ----------------------- 62.5/150.0 MB 3.6 MB/s eta 0:00:25\n",
      "   ---------------- ----------------------- 62.6/150.0 MB 3.6 MB/s eta 0:00:25\n",
      "   ---------------- ----------------------- 62.8/150.0 MB 3.6 MB/s eta 0:00:25\n",
      "   ---------------- ----------------------- 62.9/150.0 MB 3.6 MB/s eta 0:00:25\n",
      "   ---------------- ----------------------- 63.1/150.0 MB 3.6 MB/s eta 0:00:25\n",
      "   ---------------- ----------------------- 63.3/150.0 MB 3.6 MB/s eta 0:00:25\n",
      "   ---------------- ----------------------- 63.5/150.0 MB 3.6 MB/s eta 0:00:25\n",
      "   ---------------- ----------------------- 63.7/150.0 MB 3.6 MB/s eta 0:00:25\n",
      "   ----------------- ---------------------- 63.8/150.0 MB 3.6 MB/s eta 0:00:25\n",
      "   ----------------- ---------------------- 64.0/150.0 MB 3.6 MB/s eta 0:00:25\n",
      "   ----------------- ---------------------- 64.1/150.0 MB 3.6 MB/s eta 0:00:24\n",
      "   ----------------- ---------------------- 64.3/150.0 MB 3.6 MB/s eta 0:00:24\n",
      "   ----------------- ---------------------- 64.5/150.0 MB 3.6 MB/s eta 0:00:24\n",
      "   ----------------- ---------------------- 64.6/150.0 MB 3.6 MB/s eta 0:00:24\n",
      "   ----------------- ---------------------- 64.8/150.0 MB 3.6 MB/s eta 0:00:24\n",
      "   ----------------- ---------------------- 65.0/150.0 MB 3.6 MB/s eta 0:00:24\n",
      "   ----------------- ---------------------- 65.2/150.0 MB 3.6 MB/s eta 0:00:24\n",
      "   ----------------- ---------------------- 65.3/150.0 MB 3.6 MB/s eta 0:00:24\n",
      "   ----------------- ---------------------- 65.5/150.0 MB 3.6 MB/s eta 0:00:24\n",
      "   ----------------- ---------------------- 65.6/150.0 MB 3.6 MB/s eta 0:00:24\n",
      "   ----------------- ---------------------- 65.8/150.0 MB 3.6 MB/s eta 0:00:24\n",
      "   ----------------- ---------------------- 66.0/150.0 MB 3.6 MB/s eta 0:00:24\n",
      "   ----------------- ---------------------- 66.1/150.0 MB 3.6 MB/s eta 0:00:24\n",
      "   ----------------- ---------------------- 66.3/150.0 MB 3.6 MB/s eta 0:00:24\n",
      "   ----------------- ---------------------- 66.4/150.0 MB 3.6 MB/s eta 0:00:24\n",
      "   ----------------- ---------------------- 66.6/150.0 MB 3.6 MB/s eta 0:00:24\n",
      "   ----------------- ---------------------- 66.8/150.0 MB 3.6 MB/s eta 0:00:24\n",
      "   ----------------- ---------------------- 67.0/150.0 MB 3.6 MB/s eta 0:00:24\n",
      "   ----------------- ---------------------- 67.2/150.0 MB 3.6 MB/s eta 0:00:23\n",
      "   ----------------- ---------------------- 67.3/150.0 MB 3.6 MB/s eta 0:00:23\n",
      "   ------------------ --------------------- 67.5/150.0 MB 3.6 MB/s eta 0:00:23\n",
      "   ------------------ --------------------- 67.7/150.0 MB 3.6 MB/s eta 0:00:23\n",
      "   ------------------ --------------------- 67.8/150.0 MB 3.6 MB/s eta 0:00:23\n",
      "   ------------------ --------------------- 68.0/150.0 MB 3.6 MB/s eta 0:00:23\n",
      "   ------------------ --------------------- 68.2/150.0 MB 3.6 MB/s eta 0:00:23\n",
      "   ------------------ --------------------- 68.3/150.0 MB 3.6 MB/s eta 0:00:23\n",
      "   ------------------ --------------------- 68.5/150.0 MB 3.6 MB/s eta 0:00:23\n",
      "   ------------------ --------------------- 68.7/150.0 MB 3.6 MB/s eta 0:00:23\n",
      "   ------------------ --------------------- 68.8/150.0 MB 3.6 MB/s eta 0:00:23\n",
      "   ------------------ --------------------- 69.0/150.0 MB 3.6 MB/s eta 0:00:23\n",
      "   ------------------ --------------------- 69.2/150.0 MB 3.6 MB/s eta 0:00:23\n",
      "   ------------------ --------------------- 69.3/150.0 MB 3.6 MB/s eta 0:00:23\n",
      "   ------------------ --------------------- 69.5/150.0 MB 3.6 MB/s eta 0:00:23\n",
      "   ------------------ --------------------- 69.7/150.0 MB 3.6 MB/s eta 0:00:23\n",
      "   ------------------ --------------------- 69.8/150.0 MB 3.6 MB/s eta 0:00:23\n",
      "   ------------------ --------------------- 70.0/150.0 MB 3.6 MB/s eta 0:00:23\n",
      "   ------------------ --------------------- 70.2/150.0 MB 3.6 MB/s eta 0:00:23\n",
      "   ------------------ --------------------- 70.3/150.0 MB 3.6 MB/s eta 0:00:23\n",
      "   ------------------ --------------------- 70.5/150.0 MB 3.6 MB/s eta 0:00:23\n",
      "   ------------------ --------------------- 70.6/150.0 MB 3.6 MB/s eta 0:00:23\n",
      "   ------------------ --------------------- 70.8/150.0 MB 3.6 MB/s eta 0:00:23\n",
      "   ------------------ --------------------- 71.0/150.0 MB 3.6 MB/s eta 0:00:22\n",
      "   ------------------ --------------------- 71.1/150.0 MB 3.6 MB/s eta 0:00:22\n",
      "   ------------------- -------------------- 71.3/150.0 MB 3.6 MB/s eta 0:00:22\n",
      "   ------------------- -------------------- 71.5/150.0 MB 3.6 MB/s eta 0:00:22\n",
      "   ------------------- -------------------- 71.6/150.0 MB 3.6 MB/s eta 0:00:22\n",
      "   ------------------- -------------------- 71.8/150.0 MB 3.6 MB/s eta 0:00:22\n",
      "   ------------------- -------------------- 72.0/150.0 MB 3.6 MB/s eta 0:00:22\n",
      "   ------------------- -------------------- 72.2/150.0 MB 3.6 MB/s eta 0:00:22\n",
      "   ------------------- -------------------- 72.3/150.0 MB 3.6 MB/s eta 0:00:22\n",
      "   ------------------- -------------------- 72.5/150.0 MB 3.6 MB/s eta 0:00:22\n",
      "   ------------------- -------------------- 72.7/150.0 MB 3.6 MB/s eta 0:00:22\n",
      "   ------------------- -------------------- 72.8/150.0 MB 3.6 MB/s eta 0:00:22\n",
      "   ------------------- -------------------- 73.0/150.0 MB 3.6 MB/s eta 0:00:22\n",
      "   ------------------- -------------------- 73.2/150.0 MB 3.6 MB/s eta 0:00:22\n",
      "   ------------------- -------------------- 73.3/150.0 MB 3.6 MB/s eta 0:00:22\n",
      "   ------------------- -------------------- 73.5/150.0 MB 3.6 MB/s eta 0:00:22\n",
      "   ------------------- -------------------- 73.6/150.0 MB 3.6 MB/s eta 0:00:22\n",
      "   ------------------- -------------------- 73.8/150.0 MB 3.6 MB/s eta 0:00:22\n",
      "   ------------------- -------------------- 74.0/150.0 MB 3.6 MB/s eta 0:00:22\n",
      "   ------------------- -------------------- 74.2/150.0 MB 3.6 MB/s eta 0:00:21\n",
      "   ------------------- -------------------- 74.3/150.0 MB 3.6 MB/s eta 0:00:22\n",
      "   ------------------- -------------------- 74.5/150.0 MB 3.6 MB/s eta 0:00:21\n",
      "   ------------------- -------------------- 74.6/150.0 MB 3.6 MB/s eta 0:00:21\n",
      "   ------------------- -------------------- 74.8/150.0 MB 3.6 MB/s eta 0:00:21\n",
      "   -------------------- ------------------- 75.0/150.0 MB 3.6 MB/s eta 0:00:21\n",
      "   -------------------- ------------------- 75.2/150.0 MB 3.6 MB/s eta 0:00:21\n",
      "   -------------------- ------------------- 75.3/150.0 MB 3.6 MB/s eta 0:00:21\n",
      "   -------------------- ------------------- 75.5/150.0 MB 3.6 MB/s eta 0:00:21\n",
      "   -------------------- ------------------- 75.7/150.0 MB 3.6 MB/s eta 0:00:21\n",
      "   -------------------- ------------------- 75.9/150.0 MB 3.6 MB/s eta 0:00:21\n",
      "   -------------------- ------------------- 76.0/150.0 MB 3.6 MB/s eta 0:00:21\n",
      "   -------------------- ------------------- 76.1/150.0 MB 3.6 MB/s eta 0:00:21\n",
      "   -------------------- ------------------- 76.3/150.0 MB 3.6 MB/s eta 0:00:21\n",
      "   -------------------- ------------------- 76.3/150.0 MB 3.6 MB/s eta 0:00:21\n",
      "   -------------------- ------------------- 76.4/150.0 MB 3.5 MB/s eta 0:00:21\n",
      "   -------------------- ------------------- 76.6/150.0 MB 3.5 MB/s eta 0:00:21\n",
      "   -------------------- ------------------- 76.8/150.0 MB 3.5 MB/s eta 0:00:21\n",
      "   -------------------- ------------------- 76.9/150.0 MB 3.5 MB/s eta 0:00:21\n",
      "   -------------------- ------------------- 77.1/150.0 MB 3.5 MB/s eta 0:00:21\n",
      "   -------------------- ------------------- 77.3/150.0 MB 3.5 MB/s eta 0:00:21\n",
      "   -------------------- ------------------- 77.4/150.0 MB 3.5 MB/s eta 0:00:21\n",
      "   -------------------- ------------------- 77.6/150.0 MB 3.5 MB/s eta 0:00:21\n",
      "   -------------------- ------------------- 77.8/150.0 MB 3.5 MB/s eta 0:00:21\n",
      "   -------------------- ------------------- 77.9/150.0 MB 3.5 MB/s eta 0:00:21\n",
      "   -------------------- ------------------- 78.1/150.0 MB 3.5 MB/s eta 0:00:21\n",
      "   -------------------- ------------------- 78.3/150.0 MB 3.5 MB/s eta 0:00:21\n",
      "   -------------------- ------------------- 78.5/150.0 MB 3.5 MB/s eta 0:00:21\n",
      "   -------------------- ------------------- 78.7/150.0 MB 3.5 MB/s eta 0:00:21\n",
      "   --------------------- ------------------ 78.8/150.0 MB 3.5 MB/s eta 0:00:21\n",
      "   --------------------- ------------------ 79.0/150.0 MB 3.5 MB/s eta 0:00:21\n",
      "   --------------------- ------------------ 79.2/150.0 MB 3.5 MB/s eta 0:00:21\n",
      "   --------------------- ------------------ 79.4/150.0 MB 3.5 MB/s eta 0:00:21\n",
      "   --------------------- ------------------ 79.5/150.0 MB 3.5 MB/s eta 0:00:21\n",
      "   --------------------- ------------------ 79.7/150.0 MB 3.5 MB/s eta 0:00:20\n",
      "   --------------------- ------------------ 79.9/150.0 MB 3.5 MB/s eta 0:00:20\n",
      "   --------------------- ------------------ 80.0/150.0 MB 3.5 MB/s eta 0:00:20\n",
      "   --------------------- ------------------ 80.2/150.0 MB 3.5 MB/s eta 0:00:20\n",
      "   --------------------- ------------------ 80.4/150.0 MB 3.5 MB/s eta 0:00:20\n",
      "   --------------------- ------------------ 80.6/150.0 MB 3.5 MB/s eta 0:00:20\n",
      "   --------------------- ------------------ 80.7/150.0 MB 3.5 MB/s eta 0:00:20\n",
      "   --------------------- ------------------ 80.9/150.0 MB 3.5 MB/s eta 0:00:20\n",
      "   --------------------- ------------------ 81.0/150.0 MB 3.5 MB/s eta 0:00:20\n",
      "   --------------------- ------------------ 81.2/150.0 MB 3.5 MB/s eta 0:00:20\n",
      "   --------------------- ------------------ 81.3/150.0 MB 3.5 MB/s eta 0:00:20\n",
      "   --------------------- ------------------ 81.5/150.0 MB 3.5 MB/s eta 0:00:20\n",
      "   --------------------- ------------------ 81.6/150.0 MB 3.5 MB/s eta 0:00:20\n",
      "   --------------------- ------------------ 81.8/150.0 MB 3.5 MB/s eta 0:00:20\n",
      "   --------------------- ------------------ 82.0/150.0 MB 3.5 MB/s eta 0:00:20\n",
      "   --------------------- ------------------ 82.1/150.0 MB 3.5 MB/s eta 0:00:20\n",
      "   --------------------- ------------------ 82.3/150.0 MB 3.5 MB/s eta 0:00:20\n",
      "   --------------------- ------------------ 82.4/150.0 MB 3.5 MB/s eta 0:00:20\n",
      "   ---------------------- ----------------- 82.6/150.0 MB 3.5 MB/s eta 0:00:20\n",
      "   ---------------------- ----------------- 82.7/150.0 MB 3.5 MB/s eta 0:00:20\n",
      "   ---------------------- ----------------- 82.9/150.0 MB 3.5 MB/s eta 0:00:20\n",
      "   ---------------------- ----------------- 83.1/150.0 MB 3.5 MB/s eta 0:00:20\n",
      "   ---------------------- ----------------- 83.2/150.0 MB 3.5 MB/s eta 0:00:20\n",
      "   ---------------------- ----------------- 83.4/150.0 MB 3.5 MB/s eta 0:00:20\n",
      "   ---------------------- ----------------- 83.6/150.0 MB 3.5 MB/s eta 0:00:20\n",
      "   ---------------------- ----------------- 83.8/150.0 MB 3.5 MB/s eta 0:00:20\n",
      "   ---------------------- ----------------- 83.9/150.0 MB 3.5 MB/s eta 0:00:20\n",
      "   ---------------------- ----------------- 84.1/150.0 MB 3.5 MB/s eta 0:00:20\n",
      "   ---------------------- ----------------- 84.3/150.0 MB 3.5 MB/s eta 0:00:19\n",
      "   ---------------------- ----------------- 84.4/150.0 MB 3.5 MB/s eta 0:00:19\n",
      "   ---------------------- ----------------- 84.6/150.0 MB 3.5 MB/s eta 0:00:19\n",
      "   ---------------------- ----------------- 84.7/150.0 MB 3.5 MB/s eta 0:00:19\n",
      "   ---------------------- ----------------- 84.9/150.0 MB 3.5 MB/s eta 0:00:19\n",
      "   ---------------------- ----------------- 85.1/150.0 MB 3.5 MB/s eta 0:00:19\n",
      "   ---------------------- ----------------- 85.3/150.0 MB 3.5 MB/s eta 0:00:19\n",
      "   ---------------------- ----------------- 85.5/150.0 MB 3.5 MB/s eta 0:00:19\n",
      "   ---------------------- ----------------- 85.6/150.0 MB 3.5 MB/s eta 0:00:19\n",
      "   ---------------------- ----------------- 85.8/150.0 MB 3.5 MB/s eta 0:00:19\n",
      "   ---------------------- ----------------- 85.9/150.0 MB 3.5 MB/s eta 0:00:19\n",
      "   ---------------------- ----------------- 86.1/150.0 MB 3.5 MB/s eta 0:00:19\n",
      "   ----------------------- ---------------- 86.3/150.0 MB 3.5 MB/s eta 0:00:19\n",
      "   ----------------------- ---------------- 86.5/150.0 MB 3.5 MB/s eta 0:00:19\n",
      "   ----------------------- ---------------- 86.6/150.0 MB 3.6 MB/s eta 0:00:18\n",
      "   ----------------------- ---------------- 86.8/150.0 MB 3.6 MB/s eta 0:00:18\n",
      "   ----------------------- ---------------- 86.9/150.0 MB 3.6 MB/s eta 0:00:18\n",
      "   ----------------------- ---------------- 87.1/150.0 MB 3.6 MB/s eta 0:00:18\n",
      "   ----------------------- ---------------- 87.2/150.0 MB 3.6 MB/s eta 0:00:18\n",
      "   ----------------------- ---------------- 87.4/150.0 MB 3.6 MB/s eta 0:00:18\n",
      "   ----------------------- ---------------- 87.5/150.0 MB 3.6 MB/s eta 0:00:18\n",
      "   ----------------------- ---------------- 87.7/150.0 MB 3.6 MB/s eta 0:00:18\n",
      "   ----------------------- ---------------- 87.8/150.0 MB 3.6 MB/s eta 0:00:18\n",
      "   ----------------------- ---------------- 88.0/150.0 MB 3.6 MB/s eta 0:00:18\n",
      "   ----------------------- ---------------- 88.1/150.0 MB 3.6 MB/s eta 0:00:18\n",
      "   ----------------------- ---------------- 88.3/150.0 MB 3.5 MB/s eta 0:00:18\n",
      "   ----------------------- ---------------- 88.5/150.0 MB 3.6 MB/s eta 0:00:18\n",
      "   ----------------------- ---------------- 88.6/150.0 MB 3.6 MB/s eta 0:00:18\n",
      "   ----------------------- ---------------- 88.8/150.0 MB 3.5 MB/s eta 0:00:18\n",
      "   ----------------------- ---------------- 88.9/150.0 MB 3.5 MB/s eta 0:00:18\n",
      "   ----------------------- ---------------- 89.1/150.0 MB 3.6 MB/s eta 0:00:18\n",
      "   ----------------------- ---------------- 89.3/150.0 MB 3.5 MB/s eta 0:00:18\n",
      "   ----------------------- ---------------- 89.5/150.0 MB 3.6 MB/s eta 0:00:18\n",
      "   ----------------------- ---------------- 89.6/150.0 MB 3.5 MB/s eta 0:00:18\n",
      "   ----------------------- ---------------- 89.8/150.0 MB 3.6 MB/s eta 0:00:17\n",
      "   ----------------------- ---------------- 90.0/150.0 MB 3.6 MB/s eta 0:00:17\n",
      "   ------------------------ --------------- 90.1/150.0 MB 3.5 MB/s eta 0:00:17\n",
      "   ------------------------ --------------- 90.3/150.0 MB 3.5 MB/s eta 0:00:17\n",
      "   ------------------------ --------------- 90.4/150.0 MB 3.6 MB/s eta 0:00:17\n",
      "   ------------------------ --------------- 90.6/150.0 MB 3.6 MB/s eta 0:00:17\n",
      "   ------------------------ --------------- 90.8/150.0 MB 3.6 MB/s eta 0:00:17\n",
      "   ------------------------ --------------- 91.0/150.0 MB 3.6 MB/s eta 0:00:17\n",
      "   ------------------------ --------------- 91.1/150.0 MB 3.6 MB/s eta 0:00:17\n",
      "   ------------------------ --------------- 91.3/150.0 MB 3.6 MB/s eta 0:00:17\n",
      "   ------------------------ --------------- 91.4/150.0 MB 3.6 MB/s eta 0:00:17\n",
      "   ------------------------ --------------- 91.6/150.0 MB 3.6 MB/s eta 0:00:17\n",
      "   ------------------------ --------------- 91.7/150.0 MB 3.6 MB/s eta 0:00:17\n",
      "   ------------------------ --------------- 91.9/150.0 MB 3.6 MB/s eta 0:00:17\n",
      "   ------------------------ --------------- 92.1/150.0 MB 3.6 MB/s eta 0:00:17\n",
      "   ------------------------ --------------- 92.3/150.0 MB 3.6 MB/s eta 0:00:17\n",
      "   ------------------------ --------------- 92.4/150.0 MB 3.6 MB/s eta 0:00:17\n",
      "   ------------------------ --------------- 92.6/150.0 MB 3.6 MB/s eta 0:00:16\n",
      "   ------------------------ --------------- 92.8/150.0 MB 3.6 MB/s eta 0:00:16\n",
      "   ------------------------ --------------- 92.9/150.0 MB 3.6 MB/s eta 0:00:16\n",
      "   ------------------------ --------------- 93.1/150.0 MB 3.6 MB/s eta 0:00:16\n",
      "   ------------------------ --------------- 93.3/150.0 MB 3.6 MB/s eta 0:00:16\n",
      "   ------------------------ --------------- 93.5/150.0 MB 3.6 MB/s eta 0:00:16\n",
      "   ------------------------ --------------- 93.6/150.0 MB 3.6 MB/s eta 0:00:16\n",
      "   ------------------------- -------------- 93.8/150.0 MB 3.6 MB/s eta 0:00:16\n",
      "   ------------------------- -------------- 94.0/150.0 MB 3.6 MB/s eta 0:00:16\n",
      "   ------------------------- -------------- 94.1/150.0 MB 3.6 MB/s eta 0:00:16\n",
      "   ------------------------- -------------- 94.3/150.0 MB 3.6 MB/s eta 0:00:16\n",
      "   ------------------------- -------------- 94.4/150.0 MB 3.6 MB/s eta 0:00:16\n",
      "   ------------------------- -------------- 94.6/150.0 MB 3.6 MB/s eta 0:00:16\n",
      "   ------------------------- -------------- 94.8/150.0 MB 3.6 MB/s eta 0:00:16\n",
      "   ------------------------- -------------- 94.9/150.0 MB 3.6 MB/s eta 0:00:16\n",
      "   ------------------------- -------------- 95.1/150.0 MB 3.6 MB/s eta 0:00:16\n",
      "   ------------------------- -------------- 95.3/150.0 MB 3.6 MB/s eta 0:00:16\n",
      "   ------------------------- -------------- 95.4/150.0 MB 3.6 MB/s eta 0:00:16\n",
      "   ------------------------- -------------- 95.5/150.0 MB 3.6 MB/s eta 0:00:16\n",
      "   ------------------------- -------------- 95.7/150.0 MB 3.6 MB/s eta 0:00:16\n",
      "   ------------------------- -------------- 95.9/150.0 MB 3.6 MB/s eta 0:00:16\n",
      "   ------------------------- -------------- 96.0/150.0 MB 3.6 MB/s eta 0:00:15\n",
      "   ------------------------- -------------- 96.2/150.0 MB 3.6 MB/s eta 0:00:15\n",
      "   ------------------------- -------------- 96.4/150.0 MB 3.6 MB/s eta 0:00:15\n",
      "   ------------------------- -------------- 96.5/150.0 MB 3.6 MB/s eta 0:00:15\n",
      "   ------------------------- -------------- 96.7/150.0 MB 3.6 MB/s eta 0:00:15\n",
      "   ------------------------- -------------- 96.8/150.0 MB 3.6 MB/s eta 0:00:15\n",
      "   ------------------------- -------------- 97.0/150.0 MB 3.6 MB/s eta 0:00:15\n",
      "   ------------------------- -------------- 97.1/150.0 MB 3.6 MB/s eta 0:00:15\n",
      "   ------------------------- -------------- 97.3/150.0 MB 3.6 MB/s eta 0:00:15\n",
      "   ------------------------- -------------- 97.4/150.0 MB 3.6 MB/s eta 0:00:15\n",
      "   -------------------------- ------------- 97.6/150.0 MB 3.6 MB/s eta 0:00:15\n",
      "   -------------------------- ------------- 97.8/150.0 MB 3.6 MB/s eta 0:00:15\n",
      "   -------------------------- ------------- 98.0/150.0 MB 3.6 MB/s eta 0:00:15\n",
      "   -------------------------- ------------- 98.1/150.0 MB 3.6 MB/s eta 0:00:15\n",
      "   -------------------------- ------------- 98.3/150.0 MB 3.6 MB/s eta 0:00:15\n",
      "   -------------------------- ------------- 98.4/150.0 MB 3.6 MB/s eta 0:00:15\n",
      "   -------------------------- ------------- 98.6/150.0 MB 3.6 MB/s eta 0:00:15\n",
      "   -------------------------- ------------- 98.8/150.0 MB 3.6 MB/s eta 0:00:15\n",
      "   -------------------------- ------------- 99.0/150.0 MB 3.6 MB/s eta 0:00:15\n",
      "   -------------------------- ------------- 99.1/150.0 MB 3.6 MB/s eta 0:00:15\n",
      "   -------------------------- ------------- 99.3/150.0 MB 3.6 MB/s eta 0:00:15\n",
      "   -------------------------- ------------- 99.4/150.0 MB 3.6 MB/s eta 0:00:14\n",
      "   -------------------------- ------------- 99.6/150.0 MB 3.6 MB/s eta 0:00:14\n",
      "   -------------------------- ------------- 99.8/150.0 MB 3.6 MB/s eta 0:00:14\n",
      "   -------------------------- ------------- 99.9/150.0 MB 3.6 MB/s eta 0:00:14\n",
      "   -------------------------- ------------- 100.1/150.0 MB 3.6 MB/s eta 0:00:14\n",
      "   -------------------------- ------------- 100.3/150.0 MB 3.6 MB/s eta 0:00:14\n",
      "   -------------------------- ------------- 100.4/150.0 MB 3.6 MB/s eta 0:00:14\n",
      "   -------------------------- ------------- 100.6/150.0 MB 3.6 MB/s eta 0:00:14\n",
      "   -------------------------- ------------- 100.8/150.0 MB 3.6 MB/s eta 0:00:14\n",
      "   -------------------------- ------------- 100.9/150.0 MB 3.6 MB/s eta 0:00:14\n",
      "   -------------------------- ------------- 101.0/150.0 MB 3.6 MB/s eta 0:00:14\n",
      "   -------------------------- ------------- 101.2/150.0 MB 3.6 MB/s eta 0:00:14\n",
      "   --------------------------- ------------ 101.4/150.0 MB 3.6 MB/s eta 0:00:14\n",
      "   --------------------------- ------------ 101.5/150.0 MB 3.6 MB/s eta 0:00:14\n",
      "   --------------------------- ------------ 101.7/150.0 MB 3.6 MB/s eta 0:00:14\n",
      "   --------------------------- ------------ 101.8/150.0 MB 3.6 MB/s eta 0:00:14\n",
      "   --------------------------- ------------ 102.0/150.0 MB 3.6 MB/s eta 0:00:14\n",
      "   --------------------------- ------------ 102.2/150.0 MB 3.6 MB/s eta 0:00:14\n",
      "   --------------------------- ------------ 102.3/150.0 MB 3.6 MB/s eta 0:00:14\n",
      "   --------------------------- ------------ 102.5/150.0 MB 3.6 MB/s eta 0:00:14\n",
      "   --------------------------- ------------ 102.7/150.0 MB 3.6 MB/s eta 0:00:14\n",
      "   --------------------------- ------------ 102.8/150.0 MB 3.6 MB/s eta 0:00:14\n",
      "   --------------------------- ------------ 103.0/150.0 MB 3.6 MB/s eta 0:00:14\n",
      "   --------------------------- ------------ 103.2/150.0 MB 3.6 MB/s eta 0:00:14\n",
      "   --------------------------- ------------ 103.4/150.0 MB 3.6 MB/s eta 0:00:13\n",
      "   --------------------------- ------------ 103.5/150.0 MB 3.6 MB/s eta 0:00:13\n",
      "   --------------------------- ------------ 103.7/150.0 MB 3.6 MB/s eta 0:00:13\n",
      "   --------------------------- ------------ 103.9/150.0 MB 3.6 MB/s eta 0:00:13\n",
      "   --------------------------- ------------ 104.0/150.0 MB 3.6 MB/s eta 0:00:13\n",
      "   --------------------------- ------------ 104.2/150.0 MB 3.6 MB/s eta 0:00:13\n",
      "   --------------------------- ------------ 104.4/150.0 MB 3.6 MB/s eta 0:00:13\n",
      "   --------------------------- ------------ 104.6/150.0 MB 3.6 MB/s eta 0:00:13\n",
      "   --------------------------- ------------ 104.7/150.0 MB 3.6 MB/s eta 0:00:13\n",
      "   --------------------------- ------------ 104.9/150.0 MB 3.6 MB/s eta 0:00:13\n",
      "   ---------------------------- ----------- 105.0/150.0 MB 3.6 MB/s eta 0:00:13\n",
      "   ---------------------------- ----------- 105.2/150.0 MB 3.6 MB/s eta 0:00:13\n",
      "   ---------------------------- ----------- 105.4/150.0 MB 3.6 MB/s eta 0:00:13\n",
      "   ---------------------------- ----------- 105.5/150.0 MB 3.6 MB/s eta 0:00:13\n",
      "   ---------------------------- ----------- 105.7/150.0 MB 3.6 MB/s eta 0:00:13\n",
      "   ---------------------------- ----------- 105.9/150.0 MB 3.6 MB/s eta 0:00:13\n",
      "   ---------------------------- ----------- 106.0/150.0 MB 3.6 MB/s eta 0:00:13\n",
      "   ---------------------------- ----------- 106.2/150.0 MB 3.6 MB/s eta 0:00:13\n",
      "   ---------------------------- ----------- 106.3/150.0 MB 3.6 MB/s eta 0:00:13\n",
      "   ---------------------------- ----------- 106.5/150.0 MB 3.6 MB/s eta 0:00:13\n",
      "   ---------------------------- ----------- 106.7/150.0 MB 3.6 MB/s eta 0:00:13\n",
      "   ---------------------------- ----------- 106.8/150.0 MB 3.6 MB/s eta 0:00:13\n",
      "   ---------------------------- ----------- 107.0/150.0 MB 3.6 MB/s eta 0:00:13\n",
      "   ---------------------------- ----------- 107.2/150.0 MB 3.6 MB/s eta 0:00:12\n",
      "   ---------------------------- ----------- 107.3/150.0 MB 3.6 MB/s eta 0:00:12\n",
      "   ---------------------------- ----------- 107.5/150.0 MB 3.6 MB/s eta 0:00:12\n",
      "   ---------------------------- ----------- 107.7/150.0 MB 3.6 MB/s eta 0:00:12\n",
      "   ---------------------------- ----------- 107.9/150.0 MB 3.6 MB/s eta 0:00:12\n",
      "   ---------------------------- ----------- 108.1/150.0 MB 3.6 MB/s eta 0:00:12\n",
      "   ---------------------------- ----------- 108.2/150.0 MB 3.6 MB/s eta 0:00:12\n",
      "   ---------------------------- ----------- 108.4/150.0 MB 3.6 MB/s eta 0:00:12\n",
      "   ---------------------------- ----------- 108.5/150.0 MB 3.6 MB/s eta 0:00:12\n",
      "   ---------------------------- ----------- 108.7/150.0 MB 3.6 MB/s eta 0:00:12\n",
      "   ----------------------------- ---------- 108.8/150.0 MB 3.6 MB/s eta 0:00:12\n",
      "   ----------------------------- ---------- 109.0/150.0 MB 3.6 MB/s eta 0:00:12\n",
      "   ----------------------------- ---------- 109.2/150.0 MB 3.6 MB/s eta 0:00:12\n",
      "   ----------------------------- ---------- 109.4/150.0 MB 3.6 MB/s eta 0:00:12\n",
      "   ----------------------------- ---------- 109.5/150.0 MB 3.6 MB/s eta 0:00:12\n",
      "   ----------------------------- ---------- 109.7/150.0 MB 3.6 MB/s eta 0:00:12\n",
      "   ----------------------------- ---------- 109.8/150.0 MB 3.6 MB/s eta 0:00:12\n",
      "   ----------------------------- ---------- 110.0/150.0 MB 3.6 MB/s eta 0:00:12\n",
      "   ----------------------------- ---------- 110.2/150.0 MB 3.6 MB/s eta 0:00:12\n",
      "   ----------------------------- ---------- 110.3/150.0 MB 3.6 MB/s eta 0:00:12\n",
      "   ----------------------------- ---------- 110.4/150.0 MB 3.6 MB/s eta 0:00:12\n",
      "   ----------------------------- ---------- 110.6/150.0 MB 3.6 MB/s eta 0:00:12\n",
      "   ----------------------------- ---------- 110.8/150.0 MB 3.6 MB/s eta 0:00:11\n",
      "   ----------------------------- ---------- 111.0/150.0 MB 3.6 MB/s eta 0:00:11\n",
      "   ----------------------------- ---------- 111.1/150.0 MB 3.6 MB/s eta 0:00:11\n",
      "   ----------------------------- ---------- 111.3/150.0 MB 3.6 MB/s eta 0:00:11\n",
      "   ----------------------------- ---------- 111.4/150.0 MB 3.6 MB/s eta 0:00:11\n",
      "   ----------------------------- ---------- 111.6/150.0 MB 3.6 MB/s eta 0:00:11\n",
      "   ----------------------------- ---------- 111.7/150.0 MB 3.6 MB/s eta 0:00:11\n",
      "   ----------------------------- ---------- 111.9/150.0 MB 3.6 MB/s eta 0:00:11\n",
      "   ----------------------------- ---------- 112.0/150.0 MB 3.6 MB/s eta 0:00:11\n",
      "   ----------------------------- ---------- 112.2/150.0 MB 3.6 MB/s eta 0:00:11\n",
      "   ----------------------------- ---------- 112.4/150.0 MB 3.6 MB/s eta 0:00:11\n",
      "   ------------------------------ --------- 112.5/150.0 MB 3.6 MB/s eta 0:00:11\n",
      "   ------------------------------ --------- 112.7/150.0 MB 3.6 MB/s eta 0:00:11\n",
      "   ------------------------------ --------- 112.9/150.0 MB 3.6 MB/s eta 0:00:11\n",
      "   ------------------------------ --------- 113.0/150.0 MB 3.6 MB/s eta 0:00:11\n",
      "   ------------------------------ --------- 113.2/150.0 MB 3.6 MB/s eta 0:00:11\n",
      "   ------------------------------ --------- 113.3/150.0 MB 3.6 MB/s eta 0:00:11\n",
      "   ------------------------------ --------- 113.5/150.0 MB 3.6 MB/s eta 0:00:11\n",
      "   ------------------------------ --------- 113.6/150.0 MB 3.6 MB/s eta 0:00:11\n",
      "   ------------------------------ --------- 113.8/150.0 MB 3.6 MB/s eta 0:00:11\n",
      "   ------------------------------ --------- 113.9/150.0 MB 3.6 MB/s eta 0:00:11\n",
      "   ------------------------------ --------- 114.1/150.0 MB 3.6 MB/s eta 0:00:11\n",
      "   ------------------------------ --------- 114.2/150.0 MB 3.6 MB/s eta 0:00:11\n",
      "   ------------------------------ --------- 114.4/150.0 MB 3.6 MB/s eta 0:00:11\n",
      "   ------------------------------ --------- 114.5/150.0 MB 3.6 MB/s eta 0:00:10\n",
      "   ------------------------------ --------- 114.7/150.0 MB 3.6 MB/s eta 0:00:10\n",
      "   ------------------------------ --------- 114.8/150.0 MB 3.5 MB/s eta 0:00:10\n",
      "   ------------------------------ --------- 115.0/150.0 MB 3.5 MB/s eta 0:00:10\n",
      "   ------------------------------ --------- 115.1/150.0 MB 3.5 MB/s eta 0:00:10\n",
      "   ------------------------------ --------- 115.3/150.0 MB 3.5 MB/s eta 0:00:10\n",
      "   ------------------------------ --------- 115.4/150.0 MB 3.6 MB/s eta 0:00:10\n",
      "   ------------------------------ --------- 115.6/150.0 MB 3.5 MB/s eta 0:00:10\n",
      "   ------------------------------ --------- 115.8/150.0 MB 3.6 MB/s eta 0:00:10\n",
      "   ------------------------------ --------- 115.9/150.0 MB 3.5 MB/s eta 0:00:10\n",
      "   ------------------------------ --------- 116.1/150.0 MB 3.6 MB/s eta 0:00:10\n",
      "   ------------------------------- -------- 116.2/150.0 MB 3.6 MB/s eta 0:00:10\n",
      "   ------------------------------- -------- 116.4/150.0 MB 3.6 MB/s eta 0:00:10\n",
      "   ------------------------------- -------- 116.6/150.0 MB 3.6 MB/s eta 0:00:10\n",
      "   ------------------------------- -------- 116.7/150.0 MB 3.6 MB/s eta 0:00:10\n",
      "   ------------------------------- -------- 116.9/150.0 MB 3.6 MB/s eta 0:00:10\n",
      "   ------------------------------- -------- 117.0/150.0 MB 3.6 MB/s eta 0:00:10\n",
      "   ------------------------------- -------- 117.2/150.0 MB 3.6 MB/s eta 0:00:10\n",
      "   ------------------------------- -------- 117.3/150.0 MB 3.6 MB/s eta 0:00:10\n",
      "   ------------------------------- -------- 117.5/150.0 MB 3.6 MB/s eta 0:00:10\n",
      "   ------------------------------- -------- 117.6/150.0 MB 3.6 MB/s eta 0:00:10\n",
      "   ------------------------------- -------- 117.8/150.0 MB 3.6 MB/s eta 0:00:09\n",
      "   ------------------------------- -------- 118.0/150.0 MB 3.6 MB/s eta 0:00:09\n",
      "   ------------------------------- -------- 118.1/150.0 MB 3.6 MB/s eta 0:00:09\n",
      "   ------------------------------- -------- 118.3/150.0 MB 3.6 MB/s eta 0:00:09\n",
      "   ------------------------------- -------- 118.5/150.0 MB 3.6 MB/s eta 0:00:09\n",
      "   ------------------------------- -------- 118.6/150.0 MB 3.6 MB/s eta 0:00:09\n",
      "   ------------------------------- -------- 118.8/150.0 MB 3.6 MB/s eta 0:00:09\n",
      "   ------------------------------- -------- 118.9/150.0 MB 3.6 MB/s eta 0:00:09\n",
      "   ------------------------------- -------- 119.1/150.0 MB 3.6 MB/s eta 0:00:09\n",
      "   ------------------------------- -------- 119.3/150.0 MB 3.6 MB/s eta 0:00:09\n",
      "   ------------------------------- -------- 119.4/150.0 MB 3.6 MB/s eta 0:00:09\n",
      "   ------------------------------- -------- 119.6/150.0 MB 3.6 MB/s eta 0:00:09\n",
      "   ------------------------------- -------- 119.7/150.0 MB 3.6 MB/s eta 0:00:09\n",
      "   ------------------------------- -------- 119.9/150.0 MB 3.6 MB/s eta 0:00:09\n",
      "   -------------------------------- ------- 120.1/150.0 MB 3.6 MB/s eta 0:00:09\n",
      "   -------------------------------- ------- 120.2/150.0 MB 3.6 MB/s eta 0:00:09\n",
      "   -------------------------------- ------- 120.4/150.0 MB 3.6 MB/s eta 0:00:09\n",
      "   -------------------------------- ------- 120.5/150.0 MB 3.6 MB/s eta 0:00:09\n",
      "   -------------------------------- ------- 120.6/150.0 MB 3.6 MB/s eta 0:00:09\n",
      "   -------------------------------- ------- 120.8/150.0 MB 3.6 MB/s eta 0:00:09\n",
      "   -------------------------------- ------- 121.0/150.0 MB 3.6 MB/s eta 0:00:09\n",
      "   -------------------------------- ------- 121.2/150.0 MB 3.6 MB/s eta 0:00:09\n",
      "   -------------------------------- ------- 121.3/150.0 MB 3.6 MB/s eta 0:00:09\n",
      "   -------------------------------- ------- 121.5/150.0 MB 3.6 MB/s eta 0:00:08\n",
      "   -------------------------------- ------- 121.6/150.0 MB 3.6 MB/s eta 0:00:08\n",
      "   -------------------------------- ------- 121.7/150.0 MB 3.6 MB/s eta 0:00:08\n",
      "   -------------------------------- ------- 121.9/150.0 MB 3.6 MB/s eta 0:00:08\n",
      "   -------------------------------- ------- 122.1/150.0 MB 3.6 MB/s eta 0:00:08\n",
      "   -------------------------------- ------- 122.3/150.0 MB 3.6 MB/s eta 0:00:08\n",
      "   -------------------------------- ------- 122.4/150.0 MB 3.6 MB/s eta 0:00:08\n",
      "   -------------------------------- ------- 122.6/150.0 MB 3.6 MB/s eta 0:00:08\n",
      "   -------------------------------- ------- 122.7/150.0 MB 3.6 MB/s eta 0:00:08\n",
      "   -------------------------------- ------- 122.9/150.0 MB 3.6 MB/s eta 0:00:08\n",
      "   -------------------------------- ------- 123.0/150.0 MB 3.6 MB/s eta 0:00:08\n",
      "   -------------------------------- ------- 123.2/150.0 MB 3.6 MB/s eta 0:00:08\n",
      "   -------------------------------- ------- 123.4/150.0 MB 3.6 MB/s eta 0:00:08\n",
      "   -------------------------------- ------- 123.5/150.0 MB 3.6 MB/s eta 0:00:08\n",
      "   -------------------------------- ------- 123.7/150.0 MB 3.6 MB/s eta 0:00:08\n",
      "   --------------------------------- ------ 123.8/150.0 MB 3.6 MB/s eta 0:00:08\n",
      "   --------------------------------- ------ 124.0/150.0 MB 3.6 MB/s eta 0:00:08\n",
      "   --------------------------------- ------ 124.1/150.0 MB 3.6 MB/s eta 0:00:08\n",
      "   --------------------------------- ------ 124.3/150.0 MB 3.6 MB/s eta 0:00:08\n",
      "   --------------------------------- ------ 124.4/150.0 MB 3.6 MB/s eta 0:00:08\n",
      "   --------------------------------- ------ 124.6/150.0 MB 3.6 MB/s eta 0:00:08\n",
      "   --------------------------------- ------ 124.8/150.0 MB 3.6 MB/s eta 0:00:08\n",
      "   --------------------------------- ------ 124.9/150.0 MB 3.6 MB/s eta 0:00:08\n",
      "   --------------------------------- ------ 125.1/150.0 MB 3.6 MB/s eta 0:00:07\n",
      "   --------------------------------- ------ 125.2/150.0 MB 3.6 MB/s eta 0:00:07\n",
      "   --------------------------------- ------ 125.4/150.0 MB 3.6 MB/s eta 0:00:07\n",
      "   --------------------------------- ------ 125.6/150.0 MB 3.6 MB/s eta 0:00:07\n",
      "   --------------------------------- ------ 125.7/150.0 MB 3.6 MB/s eta 0:00:07\n",
      "   --------------------------------- ------ 125.9/150.0 MB 3.6 MB/s eta 0:00:07\n",
      "   --------------------------------- ------ 126.1/150.0 MB 3.6 MB/s eta 0:00:07\n",
      "   --------------------------------- ------ 126.2/150.0 MB 3.6 MB/s eta 0:00:07\n",
      "   --------------------------------- ------ 126.4/150.0 MB 3.6 MB/s eta 0:00:07\n",
      "   --------------------------------- ------ 126.5/150.0 MB 3.6 MB/s eta 0:00:07\n",
      "   --------------------------------- ------ 126.7/150.0 MB 3.6 MB/s eta 0:00:07\n",
      "   --------------------------------- ------ 126.8/150.0 MB 3.6 MB/s eta 0:00:07\n",
      "   --------------------------------- ------ 127.0/150.0 MB 3.6 MB/s eta 0:00:07\n",
      "   --------------------------------- ------ 127.2/150.0 MB 3.6 MB/s eta 0:00:07\n",
      "   --------------------------------- ------ 127.3/150.0 MB 3.6 MB/s eta 0:00:07\n",
      "   ---------------------------------- ----- 127.5/150.0 MB 3.6 MB/s eta 0:00:07\n",
      "   ---------------------------------- ----- 127.7/150.0 MB 3.6 MB/s eta 0:00:07\n",
      "   ---------------------------------- ----- 127.9/150.0 MB 3.6 MB/s eta 0:00:07\n",
      "   ---------------------------------- ----- 128.0/150.0 MB 3.6 MB/s eta 0:00:07\n",
      "   ---------------------------------- ----- 128.2/150.0 MB 3.6 MB/s eta 0:00:07\n",
      "   ---------------------------------- ----- 128.3/150.0 MB 3.6 MB/s eta 0:00:07\n",
      "   ---------------------------------- ----- 128.5/150.0 MB 3.6 MB/s eta 0:00:07\n",
      "   ---------------------------------- ----- 128.6/150.0 MB 3.6 MB/s eta 0:00:06\n",
      "   ---------------------------------- ----- 128.8/150.0 MB 3.6 MB/s eta 0:00:06\n",
      "   ---------------------------------- ----- 129.0/150.0 MB 3.6 MB/s eta 0:00:06\n",
      "   ---------------------------------- ----- 129.1/150.0 MB 3.6 MB/s eta 0:00:06\n",
      "   ---------------------------------- ----- 129.3/150.0 MB 3.6 MB/s eta 0:00:06\n",
      "   ---------------------------------- ----- 129.5/150.0 MB 3.6 MB/s eta 0:00:06\n",
      "   ---------------------------------- ----- 129.6/150.0 MB 3.6 MB/s eta 0:00:06\n",
      "   ---------------------------------- ----- 129.8/150.0 MB 3.6 MB/s eta 0:00:06\n",
      "   ---------------------------------- ----- 130.0/150.0 MB 3.6 MB/s eta 0:00:06\n",
      "   ---------------------------------- ----- 130.1/150.0 MB 3.6 MB/s eta 0:00:06\n",
      "   ---------------------------------- ----- 130.3/150.0 MB 3.6 MB/s eta 0:00:06\n",
      "   ---------------------------------- ----- 130.4/150.0 MB 3.6 MB/s eta 0:00:06\n",
      "   ---------------------------------- ----- 130.6/150.0 MB 3.6 MB/s eta 0:00:06\n",
      "   ---------------------------------- ----- 130.8/150.0 MB 3.6 MB/s eta 0:00:06\n",
      "   ---------------------------------- ----- 130.9/150.0 MB 3.6 MB/s eta 0:00:06\n",
      "   ---------------------------------- ----- 131.1/150.0 MB 3.6 MB/s eta 0:00:06\n",
      "   ---------------------------------- ----- 131.2/150.0 MB 3.6 MB/s eta 0:00:06\n",
      "   ----------------------------------- ---- 131.4/150.0 MB 3.6 MB/s eta 0:00:06\n",
      "   ----------------------------------- ---- 131.6/150.0 MB 3.6 MB/s eta 0:00:06\n",
      "   ----------------------------------- ---- 131.7/150.0 MB 3.6 MB/s eta 0:00:06\n",
      "   ----------------------------------- ---- 131.9/150.0 MB 3.6 MB/s eta 0:00:06\n",
      "   ----------------------------------- ---- 132.0/150.0 MB 3.6 MB/s eta 0:00:06\n",
      "   ----------------------------------- ---- 132.2/150.0 MB 3.6 MB/s eta 0:00:05\n",
      "   ----------------------------------- ---- 132.4/150.0 MB 3.6 MB/s eta 0:00:05\n",
      "   ----------------------------------- ---- 132.5/150.0 MB 3.6 MB/s eta 0:00:05\n",
      "   ----------------------------------- ---- 132.7/150.0 MB 3.6 MB/s eta 0:00:05\n",
      "   ----------------------------------- ---- 132.9/150.0 MB 3.6 MB/s eta 0:00:05\n",
      "   ----------------------------------- ---- 133.0/150.0 MB 3.6 MB/s eta 0:00:05\n",
      "   ----------------------------------- ---- 133.2/150.0 MB 3.6 MB/s eta 0:00:05\n",
      "   ----------------------------------- ---- 133.4/150.0 MB 3.6 MB/s eta 0:00:05\n",
      "   ----------------------------------- ---- 133.5/150.0 MB 3.6 MB/s eta 0:00:05\n",
      "   ----------------------------------- ---- 133.7/150.0 MB 3.6 MB/s eta 0:00:05\n",
      "   ----------------------------------- ---- 133.8/150.0 MB 3.6 MB/s eta 0:00:05\n",
      "   ----------------------------------- ---- 133.9/150.0 MB 3.6 MB/s eta 0:00:05\n",
      "   ----------------------------------- ---- 134.1/150.0 MB 3.6 MB/s eta 0:00:05\n",
      "   ----------------------------------- ---- 134.2/150.0 MB 3.6 MB/s eta 0:00:05\n",
      "   ----------------------------------- ---- 134.4/150.0 MB 3.6 MB/s eta 0:00:05\n",
      "   ----------------------------------- ---- 134.6/150.0 MB 3.6 MB/s eta 0:00:05\n",
      "   ----------------------------------- ---- 134.8/150.0 MB 3.6 MB/s eta 0:00:05\n",
      "   ----------------------------------- ---- 134.9/150.0 MB 3.6 MB/s eta 0:00:05\n",
      "   ------------------------------------ --- 135.1/150.0 MB 3.6 MB/s eta 0:00:05\n",
      "   ------------------------------------ --- 135.2/150.0 MB 3.6 MB/s eta 0:00:05\n",
      "   ------------------------------------ --- 135.4/150.0 MB 3.6 MB/s eta 0:00:05\n",
      "   ------------------------------------ --- 135.6/150.0 MB 3.6 MB/s eta 0:00:04\n",
      "   ------------------------------------ --- 135.8/150.0 MB 3.6 MB/s eta 0:00:04\n",
      "   ------------------------------------ --- 136.0/150.0 MB 3.6 MB/s eta 0:00:04\n",
      "   ------------------------------------ --- 136.1/150.0 MB 3.6 MB/s eta 0:00:04\n",
      "   ------------------------------------ --- 136.3/150.0 MB 3.6 MB/s eta 0:00:04\n",
      "   ------------------------------------ --- 136.4/150.0 MB 3.6 MB/s eta 0:00:04\n",
      "   ------------------------------------ --- 136.6/150.0 MB 3.6 MB/s eta 0:00:04\n",
      "   ------------------------------------ --- 136.8/150.0 MB 3.6 MB/s eta 0:00:04\n",
      "   ------------------------------------ --- 137.0/150.0 MB 3.6 MB/s eta 0:00:04\n",
      "   ------------------------------------ --- 137.1/150.0 MB 3.6 MB/s eta 0:00:04\n",
      "   ------------------------------------ --- 137.3/150.0 MB 3.6 MB/s eta 0:00:04\n",
      "   ------------------------------------ --- 137.5/150.0 MB 3.6 MB/s eta 0:00:04\n",
      "   ------------------------------------ --- 137.7/150.0 MB 3.6 MB/s eta 0:00:04\n",
      "   ------------------------------------ --- 137.8/150.0 MB 3.6 MB/s eta 0:00:04\n",
      "   ------------------------------------ --- 138.0/150.0 MB 3.6 MB/s eta 0:00:04\n",
      "   ------------------------------------ --- 138.2/150.0 MB 3.6 MB/s eta 0:00:04\n",
      "   ------------------------------------ --- 138.3/150.0 MB 3.6 MB/s eta 0:00:04\n",
      "   ------------------------------------ --- 138.5/150.0 MB 3.6 MB/s eta 0:00:04\n",
      "   ------------------------------------ --- 138.7/150.0 MB 3.6 MB/s eta 0:00:04\n",
      "   ------------------------------------- -- 138.8/150.0 MB 3.6 MB/s eta 0:00:04\n",
      "   ------------------------------------- -- 139.0/150.0 MB 3.6 MB/s eta 0:00:04\n",
      "   ------------------------------------- -- 139.2/150.0 MB 3.6 MB/s eta 0:00:04\n",
      "   ------------------------------------- -- 139.3/150.0 MB 3.6 MB/s eta 0:00:03\n",
      "   ------------------------------------- -- 139.5/150.0 MB 3.6 MB/s eta 0:00:03\n",
      "   ------------------------------------- -- 139.7/150.0 MB 3.6 MB/s eta 0:00:03\n",
      "   ------------------------------------- -- 139.8/150.0 MB 3.6 MB/s eta 0:00:03\n",
      "   ------------------------------------- -- 140.0/150.0 MB 3.6 MB/s eta 0:00:03\n",
      "   ------------------------------------- -- 140.1/150.0 MB 3.6 MB/s eta 0:00:03\n",
      "   ------------------------------------- -- 140.3/150.0 MB 3.6 MB/s eta 0:00:03\n",
      "   ------------------------------------- -- 140.5/150.0 MB 3.6 MB/s eta 0:00:03\n",
      "   ------------------------------------- -- 140.7/150.0 MB 3.6 MB/s eta 0:00:03\n",
      "   ------------------------------------- -- 140.8/150.0 MB 3.6 MB/s eta 0:00:03\n",
      "   ------------------------------------- -- 141.0/150.0 MB 3.6 MB/s eta 0:00:03\n",
      "   ------------------------------------- -- 141.0/150.0 MB 3.6 MB/s eta 0:00:03\n",
      "   ------------------------------------- -- 141.0/150.0 MB 3.6 MB/s eta 0:00:03\n",
      "   ------------------------------------- -- 141.0/150.0 MB 3.6 MB/s eta 0:00:03\n",
      "   ------------------------------------- -- 141.0/150.0 MB 3.6 MB/s eta 0:00:03\n",
      "   ------------------------------------- -- 141.0/150.0 MB 3.6 MB/s eta 0:00:03\n",
      "   ------------------------------------- -- 141.0/150.0 MB 3.6 MB/s eta 0:00:03\n",
      "   ------------------------------------- -- 141.0/150.0 MB 3.6 MB/s eta 0:00:03\n",
      "   ------------------------------------- -- 141.1/150.0 MB 3.2 MB/s eta 0:00:03\n",
      "   ------------------------------------- -- 141.2/150.0 MB 3.2 MB/s eta 0:00:03\n",
      "   ------------------------------------- -- 141.2/150.0 MB 3.2 MB/s eta 0:00:03\n",
      "   ------------------------------------- -- 141.2/150.0 MB 3.2 MB/s eta 0:00:03\n",
      "   ------------------------------------- -- 141.2/150.0 MB 3.2 MB/s eta 0:00:03\n",
      "   ------------------------------------- -- 141.2/150.0 MB 3.2 MB/s eta 0:00:03\n",
      "   ------------------------------------- -- 141.4/150.0 MB 3.0 MB/s eta 0:00:03\n",
      "   ------------------------------------- -- 141.4/150.0 MB 3.0 MB/s eta 0:00:03\n",
      "   ------------------------------------- -- 141.4/150.0 MB 3.0 MB/s eta 0:00:03\n",
      "   ------------------------------------- -- 141.4/150.0 MB 3.0 MB/s eta 0:00:03\n",
      "   ------------------------------------- -- 141.4/150.0 MB 2.8 MB/s eta 0:00:04\n",
      "   ------------------------------------- -- 141.4/150.0 MB 2.8 MB/s eta 0:00:04\n",
      "   ------------------------------------- -- 141.4/150.0 MB 2.8 MB/s eta 0:00:04\n",
      "   ------------------------------------- -- 141.4/150.0 MB 2.8 MB/s eta 0:00:04\n",
      "   ------------------------------------- -- 141.5/150.0 MB 2.7 MB/s eta 0:00:04\n",
      "   ------------------------------------- -- 141.5/150.0 MB 2.7 MB/s eta 0:00:04\n",
      "   ------------------------------------- -- 141.5/150.0 MB 2.7 MB/s eta 0:00:04\n",
      "   ------------------------------------- -- 141.5/150.0 MB 2.7 MB/s eta 0:00:04\n",
      "   ------------------------------------- -- 141.5/150.0 MB 2.7 MB/s eta 0:00:04\n",
      "   ------------------------------------- -- 141.5/150.0 MB 2.7 MB/s eta 0:00:04\n",
      "   ------------------------------------- -- 141.6/150.0 MB 2.5 MB/s eta 0:00:04\n",
      "   ------------------------------------- -- 141.6/150.0 MB 2.5 MB/s eta 0:00:04\n",
      "   ------------------------------------- -- 141.6/150.0 MB 2.5 MB/s eta 0:00:04\n",
      "   ------------------------------------- -- 141.6/150.0 MB 2.5 MB/s eta 0:00:04\n",
      "   ------------------------------------- -- 141.6/150.0 MB 2.5 MB/s eta 0:00:04\n",
      "   ------------------------------------- -- 141.6/150.0 MB 2.4 MB/s eta 0:00:04\n",
      "   ------------------------------------- -- 141.6/150.0 MB 2.4 MB/s eta 0:00:04\n",
      "   ------------------------------------- -- 141.6/150.0 MB 2.4 MB/s eta 0:00:04\n",
      "   ------------------------------------- -- 141.6/150.0 MB 2.4 MB/s eta 0:00:04\n",
      "   ------------------------------------- -- 141.6/150.0 MB 2.4 MB/s eta 0:00:04\n",
      "   ------------------------------------- -- 141.6/150.0 MB 2.3 MB/s eta 0:00:04\n",
      "   ------------------------------------- -- 141.7/150.0 MB 2.3 MB/s eta 0:00:04\n",
      "   ------------------------------------- -- 141.7/150.0 MB 2.3 MB/s eta 0:00:04\n",
      "   ------------------------------------- -- 141.7/150.0 MB 2.3 MB/s eta 0:00:04\n",
      "   ------------------------------------- -- 141.7/150.0 MB 2.3 MB/s eta 0:00:04\n",
      "   ------------------------------------- -- 141.7/150.0 MB 2.2 MB/s eta 0:00:04\n",
      "   ------------------------------------- -- 141.7/150.0 MB 2.2 MB/s eta 0:00:04\n",
      "   ------------------------------------- -- 141.7/150.0 MB 2.2 MB/s eta 0:00:04\n",
      "   ------------------------------------- -- 141.7/150.0 MB 2.2 MB/s eta 0:00:04\n",
      "   ------------------------------------- -- 141.7/150.0 MB 2.2 MB/s eta 0:00:04\n",
      "   ------------------------------------- -- 141.8/150.0 MB 2.1 MB/s eta 0:00:04\n",
      "   ------------------------------------- -- 141.8/150.0 MB 2.1 MB/s eta 0:00:04\n",
      "   ------------------------------------- -- 141.8/150.0 MB 2.1 MB/s eta 0:00:04\n",
      "   ------------------------------------- -- 141.8/150.0 MB 2.1 MB/s eta 0:00:04\n",
      "   ------------------------------------- -- 141.8/150.0 MB 2.1 MB/s eta 0:00:04\n",
      "   ------------------------------------- -- 141.8/150.0 MB 2.1 MB/s eta 0:00:04\n",
      "   ------------------------------------- -- 141.8/150.0 MB 2.0 MB/s eta 0:00:05\n",
      "   ------------------------------------- -- 141.8/150.0 MB 2.0 MB/s eta 0:00:05\n",
      "   ------------------------------------- -- 141.8/150.0 MB 2.0 MB/s eta 0:00:05\n",
      "   ------------------------------------- -- 141.8/150.0 MB 2.0 MB/s eta 0:00:05\n",
      "   ------------------------------------- -- 141.8/150.0 MB 2.0 MB/s eta 0:00:05\n",
      "   ------------------------------------- -- 141.8/150.0 MB 1.9 MB/s eta 0:00:05\n",
      "   ------------------------------------- -- 141.8/150.0 MB 1.9 MB/s eta 0:00:05\n",
      "   ------------------------------------- -- 141.8/150.0 MB 1.9 MB/s eta 0:00:05\n",
      "   ------------------------------------- -- 141.8/150.0 MB 1.9 MB/s eta 0:00:05\n",
      "   ------------------------------------- -- 141.9/150.0 MB 1.8 MB/s eta 0:00:05\n",
      "   ------------------------------------- -- 141.9/150.0 MB 1.8 MB/s eta 0:00:05\n",
      "   ------------------------------------- -- 141.9/150.0 MB 1.8 MB/s eta 0:00:05\n",
      "   ------------------------------------- -- 141.9/150.0 MB 1.8 MB/s eta 0:00:05\n",
      "   ------------------------------------- -- 141.9/150.0 MB 1.8 MB/s eta 0:00:05\n",
      "   ------------------------------------- -- 141.9/150.0 MB 1.7 MB/s eta 0:00:05\n",
      "   ------------------------------------- -- 141.9/150.0 MB 1.7 MB/s eta 0:00:05\n",
      "   ------------------------------------- -- 141.9/150.0 MB 1.7 MB/s eta 0:00:05\n",
      "   ------------------------------------- -- 141.9/150.0 MB 1.7 MB/s eta 0:00:05\n",
      "   ------------------------------------- -- 141.9/150.0 MB 1.7 MB/s eta 0:00:05\n",
      "   ------------------------------------- -- 141.9/150.0 MB 1.7 MB/s eta 0:00:05\n",
      "   ------------------------------------- -- 141.9/150.0 MB 1.7 MB/s eta 0:00:05\n",
      "   ------------------------------------- -- 141.9/150.0 MB 1.7 MB/s eta 0:00:05\n",
      "   ------------------------------------- -- 141.9/150.0 MB 1.7 MB/s eta 0:00:05\n",
      "   ------------------------------------- -- 141.9/150.0 MB 1.7 MB/s eta 0:00:05\n",
      "   ------------------------------------- -- 142.0/150.0 MB 1.6 MB/s eta 0:00:05\n",
      "   ------------------------------------- -- 142.0/150.0 MB 1.6 MB/s eta 0:00:05\n",
      "   ------------------------------------- -- 142.0/150.0 MB 1.6 MB/s eta 0:00:05\n",
      "   ------------------------------------- -- 142.0/150.0 MB 1.6 MB/s eta 0:00:05\n",
      "   ------------------------------------- -- 142.0/150.0 MB 1.6 MB/s eta 0:00:06\n",
      "   ------------------------------------- -- 142.0/150.0 MB 1.6 MB/s eta 0:00:06\n",
      "   ------------------------------------- -- 142.0/150.0 MB 1.6 MB/s eta 0:00:06\n",
      "   ------------------------------------- -- 142.0/150.0 MB 1.6 MB/s eta 0:00:06\n",
      "   ------------------------------------- -- 142.0/150.0 MB 1.6 MB/s eta 0:00:06\n",
      "   ------------------------------------- -- 142.0/150.0 MB 1.5 MB/s eta 0:00:06\n",
      "   ------------------------------------- -- 142.0/150.0 MB 1.5 MB/s eta 0:00:06\n",
      "   ------------------------------------- -- 142.0/150.0 MB 1.5 MB/s eta 0:00:06\n",
      "   ------------------------------------- -- 142.0/150.0 MB 1.5 MB/s eta 0:00:06\n",
      "   ------------------------------------- -- 142.0/150.0 MB 1.5 MB/s eta 0:00:06\n",
      "   ------------------------------------- -- 142.0/150.0 MB 1.5 MB/s eta 0:00:06\n",
      "   ------------------------------------- -- 142.0/150.0 MB 1.5 MB/s eta 0:00:06\n",
      "   ------------------------------------- -- 142.0/150.0 MB 1.5 MB/s eta 0:00:06\n",
      "   ------------------------------------- -- 142.1/150.0 MB 1.4 MB/s eta 0:00:06\n",
      "   ------------------------------------- -- 142.1/150.0 MB 1.4 MB/s eta 0:00:06\n",
      "   ------------------------------------- -- 142.2/150.0 MB 1.4 MB/s eta 0:00:06\n",
      "   ------------------------------------- -- 142.3/150.0 MB 1.4 MB/s eta 0:00:06\n",
      "   ------------------------------------- -- 142.4/150.0 MB 1.4 MB/s eta 0:00:06\n",
      "   -------------------------------------- - 142.5/150.0 MB 1.4 MB/s eta 0:00:06\n",
      "   -------------------------------------- - 142.7/150.0 MB 1.4 MB/s eta 0:00:06\n",
      "   -------------------------------------- - 142.8/150.0 MB 1.4 MB/s eta 0:00:06\n",
      "   -------------------------------------- - 142.9/150.0 MB 1.4 MB/s eta 0:00:05\n",
      "   -------------------------------------- - 143.1/150.0 MB 1.4 MB/s eta 0:00:05\n",
      "   -------------------------------------- - 143.2/150.0 MB 1.4 MB/s eta 0:00:05\n",
      "   -------------------------------------- - 143.3/150.0 MB 1.4 MB/s eta 0:00:05\n",
      "   -------------------------------------- - 143.5/150.0 MB 1.4 MB/s eta 0:00:05\n",
      "   -------------------------------------- - 143.6/150.0 MB 1.4 MB/s eta 0:00:05\n",
      "   -------------------------------------- - 143.7/150.0 MB 1.4 MB/s eta 0:00:05\n",
      "   -------------------------------------- - 143.9/150.0 MB 1.4 MB/s eta 0:00:05\n",
      "   -------------------------------------- - 144.0/150.0 MB 1.4 MB/s eta 0:00:05\n",
      "   -------------------------------------- - 144.2/150.0 MB 1.4 MB/s eta 0:00:05\n",
      "   -------------------------------------- - 144.3/150.0 MB 1.4 MB/s eta 0:00:05\n",
      "   -------------------------------------- - 144.5/150.0 MB 1.4 MB/s eta 0:00:04\n",
      "   -------------------------------------- - 144.6/150.0 MB 1.4 MB/s eta 0:00:04\n",
      "   -------------------------------------- - 144.8/150.0 MB 1.4 MB/s eta 0:00:04\n",
      "   -------------------------------------- - 144.9/150.0 MB 1.4 MB/s eta 0:00:04\n",
      "   -------------------------------------- - 145.0/150.0 MB 1.4 MB/s eta 0:00:04\n",
      "   -------------------------------------- - 145.2/150.0 MB 1.4 MB/s eta 0:00:04\n",
      "   -------------------------------------- - 145.3/150.0 MB 1.4 MB/s eta 0:00:04\n",
      "   -------------------------------------- - 145.5/150.0 MB 1.4 MB/s eta 0:00:04\n",
      "   -------------------------------------- - 145.6/150.0 MB 1.4 MB/s eta 0:00:04\n",
      "   -------------------------------------- - 145.8/150.0 MB 1.4 MB/s eta 0:00:04\n",
      "   -------------------------------------- - 145.9/150.0 MB 1.4 MB/s eta 0:00:03\n",
      "   -------------------------------------- - 146.1/150.0 MB 1.4 MB/s eta 0:00:03\n",
      "   ---------------------------------------  146.3/150.0 MB 1.4 MB/s eta 0:00:03\n",
      "   ---------------------------------------  146.4/150.0 MB 1.4 MB/s eta 0:00:03\n",
      "   ---------------------------------------  146.6/150.0 MB 1.4 MB/s eta 0:00:03\n",
      "   ---------------------------------------  146.7/150.0 MB 1.4 MB/s eta 0:00:03\n",
      "   ---------------------------------------  146.9/150.0 MB 1.4 MB/s eta 0:00:03\n",
      "   ---------------------------------------  147.0/150.0 MB 1.4 MB/s eta 0:00:03\n",
      "   ---------------------------------------  147.2/150.0 MB 1.4 MB/s eta 0:00:03\n",
      "   ---------------------------------------  147.4/150.0 MB 1.4 MB/s eta 0:00:02\n",
      "   ---------------------------------------  147.5/150.0 MB 1.4 MB/s eta 0:00:02\n",
      "   ---------------------------------------  147.7/150.0 MB 1.4 MB/s eta 0:00:02\n",
      "   ---------------------------------------  147.8/150.0 MB 1.4 MB/s eta 0:00:02\n",
      "   ---------------------------------------  148.0/150.0 MB 1.4 MB/s eta 0:00:02\n",
      "   ---------------------------------------  148.2/150.0 MB 1.4 MB/s eta 0:00:02\n",
      "   ---------------------------------------  148.3/150.0 MB 1.4 MB/s eta 0:00:02\n",
      "   ---------------------------------------  148.5/150.0 MB 1.4 MB/s eta 0:00:02\n",
      "   ---------------------------------------  148.6/150.0 MB 1.4 MB/s eta 0:00:01\n",
      "   ---------------------------------------  148.8/150.0 MB 1.4 MB/s eta 0:00:01\n",
      "   ---------------------------------------  149.0/150.0 MB 1.4 MB/s eta 0:00:01\n",
      "   ---------------------------------------  149.2/150.0 MB 1.4 MB/s eta 0:00:01\n",
      "   ---------------------------------------  149.3/150.0 MB 1.4 MB/s eta 0:00:01\n",
      "   ---------------------------------------  149.5/150.0 MB 1.4 MB/s eta 0:00:01\n",
      "   ---------------------------------------  149.6/150.0 MB 1.4 MB/s eta 0:00:01\n",
      "   ---------------------------------------  149.8/150.0 MB 1.4 MB/s eta 0:00:01\n",
      "   ---------------------------------------  149.9/150.0 MB 1.4 MB/s eta 0:00:01\n",
      "   ---------------------------------------  150.0/150.0 MB 1.4 MB/s eta 0:00:01\n",
      "   ---------------------------------------  150.0/150.0 MB 1.4 MB/s eta 0:00:01\n",
      "   ---------------------------------------  150.0/150.0 MB 1.4 MB/s eta 0:00:01\n",
      "   ---------------------------------------  150.0/150.0 MB 1.4 MB/s eta 0:00:01\n",
      "   ---------------------------------------  150.0/150.0 MB 1.4 MB/s eta 0:00:01\n",
      "   ---------------------------------------  150.0/150.0 MB 1.4 MB/s eta 0:00:01\n",
      "   ---------------------------------------  150.0/150.0 MB 1.4 MB/s eta 0:00:01\n",
      "   ---------------------------------------  150.0/150.0 MB 1.4 MB/s eta 0:00:01\n",
      "   ---------------------------------------  150.0/150.0 MB 1.4 MB/s eta 0:00:01\n",
      "   ---------------------------------------  150.0/150.0 MB 1.4 MB/s eta 0:00:01\n",
      "   ---------------------------------------  150.0/150.0 MB 1.4 MB/s eta 0:00:01\n",
      "   ---------------------------------------- 150.0/150.0 MB 1.3 MB/s eta 0:00:00\n",
      "Installing collected packages: xgboost\n",
      "Successfully installed xgboost-3.0.2\n"
     ]
    }
   ],
   "source": [
    "!pip install xgboost\n"
   ]
  },
  {
   "cell_type": "code",
   "execution_count": 67,
   "id": "40bdc605-0ed6-406f-a3bc-b5ba3f49ce02",
   "metadata": {},
   "outputs": [
    {
     "name": "stdout",
     "output_type": "stream",
     "text": [
      "R² Score: 0.8432804032886826\n",
      "RMSE: 78.7526691520918\n"
     ]
    }
   ],
   "source": [
    "from xgboost import XGBRegressor\n",
    "\n",
    "xgb_model = XGBRegressor(\n",
    "    n_estimators=300,\n",
    "    learning_rate=0.1,\n",
    "    max_depth=6,\n",
    "    subsample=0.8,\n",
    "    colsample_bytree=0.8,\n",
    "    random_state=42\n",
    ")\n",
    "\n",
    "xgb_model.fit(X_train, y_train)\n",
    "y_pred = xgb_model.predict(X_test)\n",
    "\n",
    "print(\"R² Score:\", r2_score(y_test, y_pred))\n",
    "print(\"RMSE:\", np.sqrt(mean_squared_error(y_test, y_pred)))\n"
   ]
  },
  {
   "cell_type": "code",
   "execution_count": 87,
   "id": "07efa21f-e11c-4972-b00e-6722951e9456",
   "metadata": {},
   "outputs": [],
   "source": [
    "wallet_df[[\"wallet_id\", \"predicted_risk_score\"]].to_csv(\"xgb_wallet_risk_scores.csv\", index=False)\n"
   ]
  },
  {
   "cell_type": "code",
   "execution_count": null,
   "id": "c6c37d74-4a9c-4e2c-8836-1ec82b9f4cca",
   "metadata": {},
   "outputs": [],
   "source": []
  }
 ],
 "metadata": {
  "kernelspec": {
   "display_name": "Python 3 (ipykernel)",
   "language": "python",
   "name": "python3"
  },
  "language_info": {
   "codemirror_mode": {
    "name": "ipython",
    "version": 3
   },
   "file_extension": ".py",
   "mimetype": "text/x-python",
   "name": "python",
   "nbconvert_exporter": "python",
   "pygments_lexer": "ipython3",
   "version": "3.11.7"
  }
 },
 "nbformat": 4,
 "nbformat_minor": 5
}
